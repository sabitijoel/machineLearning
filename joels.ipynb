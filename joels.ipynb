{
 "cells": [
  {
   "cell_type": "code",
   "execution_count": 2,
   "id": "00c982a5",
   "metadata": {},
   "outputs": [],
   "source": [
    "import seaborn as sns\n",
    "import numpy as np\n",
    "import pandas as pd\n",
    "import matplotlib\n",
    "import matplotlib.pyplot as plt"
   ]
  },
  {
   "cell_type": "code",
   "execution_count": 3,
   "id": "d265aceb",
   "metadata": {},
   "outputs": [],
   "source": [
    "df = pd.read_csv('cereals.csv')"
   ]
  },
  {
   "cell_type": "code",
   "execution_count": 3,
   "id": "3cf0e665",
   "metadata": {},
   "outputs": [
    {
     "data": {
      "text/html": [
       "<div>\n",
       "<style scoped>\n",
       "    .dataframe tbody tr th:only-of-type {\n",
       "        vertical-align: middle;\n",
       "    }\n",
       "\n",
       "    .dataframe tbody tr th {\n",
       "        vertical-align: top;\n",
       "    }\n",
       "\n",
       "    .dataframe thead th {\n",
       "        text-align: right;\n",
       "    }\n",
       "</style>\n",
       "<table border=\"1\" class=\"dataframe\">\n",
       "  <thead>\n",
       "    <tr style=\"text-align: right;\">\n",
       "      <th></th>\n",
       "      <th>name</th>\n",
       "      <th>mfr</th>\n",
       "      <th>type</th>\n",
       "      <th>calories</th>\n",
       "      <th>protein</th>\n",
       "      <th>fat</th>\n",
       "      <th>sodium</th>\n",
       "      <th>fiber</th>\n",
       "      <th>carbo</th>\n",
       "      <th>sugars</th>\n",
       "      <th>potass</th>\n",
       "      <th>vitamins</th>\n",
       "      <th>shelf</th>\n",
       "      <th>weight</th>\n",
       "      <th>cups</th>\n",
       "      <th>rating</th>\n",
       "    </tr>\n",
       "  </thead>\n",
       "  <tbody>\n",
       "    <tr>\n",
       "      <th>0</th>\n",
       "      <td>100% Bran</td>\n",
       "      <td>N</td>\n",
       "      <td>C</td>\n",
       "      <td>70</td>\n",
       "      <td>4</td>\n",
       "      <td>1</td>\n",
       "      <td>130</td>\n",
       "      <td>10.0</td>\n",
       "      <td>5.0</td>\n",
       "      <td>6</td>\n",
       "      <td>280</td>\n",
       "      <td>25</td>\n",
       "      <td>3</td>\n",
       "      <td>1.0</td>\n",
       "      <td>0.33</td>\n",
       "      <td>68.402973</td>\n",
       "    </tr>\n",
       "    <tr>\n",
       "      <th>1</th>\n",
       "      <td>100% Natural Bran</td>\n",
       "      <td>Q</td>\n",
       "      <td>C</td>\n",
       "      <td>120</td>\n",
       "      <td>3</td>\n",
       "      <td>5</td>\n",
       "      <td>15</td>\n",
       "      <td>2.0</td>\n",
       "      <td>8.0</td>\n",
       "      <td>8</td>\n",
       "      <td>135</td>\n",
       "      <td>0</td>\n",
       "      <td>3</td>\n",
       "      <td>1.0</td>\n",
       "      <td>1.00</td>\n",
       "      <td>33.983679</td>\n",
       "    </tr>\n",
       "    <tr>\n",
       "      <th>2</th>\n",
       "      <td>All-Bran</td>\n",
       "      <td>K</td>\n",
       "      <td>C</td>\n",
       "      <td>70</td>\n",
       "      <td>4</td>\n",
       "      <td>1</td>\n",
       "      <td>260</td>\n",
       "      <td>9.0</td>\n",
       "      <td>7.0</td>\n",
       "      <td>5</td>\n",
       "      <td>320</td>\n",
       "      <td>25</td>\n",
       "      <td>3</td>\n",
       "      <td>1.0</td>\n",
       "      <td>0.33</td>\n",
       "      <td>59.425505</td>\n",
       "    </tr>\n",
       "    <tr>\n",
       "      <th>3</th>\n",
       "      <td>All-Bran with Extra Fiber</td>\n",
       "      <td>K</td>\n",
       "      <td>C</td>\n",
       "      <td>50</td>\n",
       "      <td>4</td>\n",
       "      <td>0</td>\n",
       "      <td>140</td>\n",
       "      <td>14.0</td>\n",
       "      <td>8.0</td>\n",
       "      <td>0</td>\n",
       "      <td>330</td>\n",
       "      <td>25</td>\n",
       "      <td>3</td>\n",
       "      <td>1.0</td>\n",
       "      <td>0.50</td>\n",
       "      <td>93.704912</td>\n",
       "    </tr>\n",
       "    <tr>\n",
       "      <th>4</th>\n",
       "      <td>Almond Delight</td>\n",
       "      <td>R</td>\n",
       "      <td>C</td>\n",
       "      <td>110</td>\n",
       "      <td>2</td>\n",
       "      <td>2</td>\n",
       "      <td>200</td>\n",
       "      <td>1.0</td>\n",
       "      <td>14.0</td>\n",
       "      <td>8</td>\n",
       "      <td>-1</td>\n",
       "      <td>25</td>\n",
       "      <td>3</td>\n",
       "      <td>1.0</td>\n",
       "      <td>0.75</td>\n",
       "      <td>34.384843</td>\n",
       "    </tr>\n",
       "  </tbody>\n",
       "</table>\n",
       "</div>"
      ],
      "text/plain": [
       "                        name mfr type  calories  protein  fat  sodium  fiber  \\\n",
       "0                  100% Bran   N    C        70        4    1     130   10.0   \n",
       "1          100% Natural Bran   Q    C       120        3    5      15    2.0   \n",
       "2                   All-Bran   K    C        70        4    1     260    9.0   \n",
       "3  All-Bran with Extra Fiber   K    C        50        4    0     140   14.0   \n",
       "4             Almond Delight   R    C       110        2    2     200    1.0   \n",
       "\n",
       "   carbo  sugars  potass  vitamins  shelf  weight  cups     rating  \n",
       "0    5.0       6     280        25      3     1.0  0.33  68.402973  \n",
       "1    8.0       8     135         0      3     1.0  1.00  33.983679  \n",
       "2    7.0       5     320        25      3     1.0  0.33  59.425505  \n",
       "3    8.0       0     330        25      3     1.0  0.50  93.704912  \n",
       "4   14.0       8      -1        25      3     1.0  0.75  34.384843  "
      ]
     },
     "execution_count": 3,
     "metadata": {},
     "output_type": "execute_result"
    }
   ],
   "source": [
    "df.head(5)"
   ]
  },
  {
   "cell_type": "code",
   "execution_count": 4,
   "id": "a8363805",
   "metadata": {},
   "outputs": [
    {
     "data": {
      "text/plain": [
       "77"
      ]
     },
     "execution_count": 4,
     "metadata": {},
     "output_type": "execute_result"
    }
   ],
   "source": [
    "len(df)"
   ]
  },
  {
   "cell_type": "code",
   "execution_count": 5,
   "id": "dd044621",
   "metadata": {},
   "outputs": [
    {
     "data": {
      "text/html": [
       "<div>\n",
       "<style scoped>\n",
       "    .dataframe tbody tr th:only-of-type {\n",
       "        vertical-align: middle;\n",
       "    }\n",
       "\n",
       "    .dataframe tbody tr th {\n",
       "        vertical-align: top;\n",
       "    }\n",
       "\n",
       "    .dataframe thead th {\n",
       "        text-align: right;\n",
       "    }\n",
       "</style>\n",
       "<table border=\"1\" class=\"dataframe\">\n",
       "  <thead>\n",
       "    <tr style=\"text-align: right;\">\n",
       "      <th></th>\n",
       "      <th>name</th>\n",
       "      <th>mfr</th>\n",
       "      <th>type</th>\n",
       "      <th>calories</th>\n",
       "      <th>protein</th>\n",
       "      <th>fat</th>\n",
       "      <th>sodium</th>\n",
       "      <th>fiber</th>\n",
       "      <th>carbo</th>\n",
       "      <th>sugars</th>\n",
       "      <th>potass</th>\n",
       "      <th>vitamins</th>\n",
       "      <th>shelf</th>\n",
       "      <th>weight</th>\n",
       "      <th>cups</th>\n",
       "      <th>rating</th>\n",
       "    </tr>\n",
       "  </thead>\n",
       "  <tbody>\n",
       "    <tr>\n",
       "      <th>0</th>\n",
       "      <td>100% Bran</td>\n",
       "      <td>N</td>\n",
       "      <td>C</td>\n",
       "      <td>70</td>\n",
       "      <td>4</td>\n",
       "      <td>1</td>\n",
       "      <td>130</td>\n",
       "      <td>10.0</td>\n",
       "      <td>5.0</td>\n",
       "      <td>6</td>\n",
       "      <td>280</td>\n",
       "      <td>25</td>\n",
       "      <td>3</td>\n",
       "      <td>1.00</td>\n",
       "      <td>0.33</td>\n",
       "      <td>68.402973</td>\n",
       "    </tr>\n",
       "    <tr>\n",
       "      <th>1</th>\n",
       "      <td>100% Natural Bran</td>\n",
       "      <td>Q</td>\n",
       "      <td>C</td>\n",
       "      <td>120</td>\n",
       "      <td>3</td>\n",
       "      <td>5</td>\n",
       "      <td>15</td>\n",
       "      <td>2.0</td>\n",
       "      <td>8.0</td>\n",
       "      <td>8</td>\n",
       "      <td>135</td>\n",
       "      <td>0</td>\n",
       "      <td>3</td>\n",
       "      <td>1.00</td>\n",
       "      <td>1.00</td>\n",
       "      <td>33.983679</td>\n",
       "    </tr>\n",
       "    <tr>\n",
       "      <th>2</th>\n",
       "      <td>All-Bran</td>\n",
       "      <td>K</td>\n",
       "      <td>C</td>\n",
       "      <td>70</td>\n",
       "      <td>4</td>\n",
       "      <td>1</td>\n",
       "      <td>260</td>\n",
       "      <td>9.0</td>\n",
       "      <td>7.0</td>\n",
       "      <td>5</td>\n",
       "      <td>320</td>\n",
       "      <td>25</td>\n",
       "      <td>3</td>\n",
       "      <td>1.00</td>\n",
       "      <td>0.33</td>\n",
       "      <td>59.425505</td>\n",
       "    </tr>\n",
       "    <tr>\n",
       "      <th>3</th>\n",
       "      <td>All-Bran with Extra Fiber</td>\n",
       "      <td>K</td>\n",
       "      <td>C</td>\n",
       "      <td>50</td>\n",
       "      <td>4</td>\n",
       "      <td>0</td>\n",
       "      <td>140</td>\n",
       "      <td>14.0</td>\n",
       "      <td>8.0</td>\n",
       "      <td>0</td>\n",
       "      <td>330</td>\n",
       "      <td>25</td>\n",
       "      <td>3</td>\n",
       "      <td>1.00</td>\n",
       "      <td>0.50</td>\n",
       "      <td>93.704912</td>\n",
       "    </tr>\n",
       "    <tr>\n",
       "      <th>4</th>\n",
       "      <td>Almond Delight</td>\n",
       "      <td>R</td>\n",
       "      <td>C</td>\n",
       "      <td>110</td>\n",
       "      <td>2</td>\n",
       "      <td>2</td>\n",
       "      <td>200</td>\n",
       "      <td>1.0</td>\n",
       "      <td>14.0</td>\n",
       "      <td>8</td>\n",
       "      <td>-1</td>\n",
       "      <td>25</td>\n",
       "      <td>3</td>\n",
       "      <td>1.00</td>\n",
       "      <td>0.75</td>\n",
       "      <td>34.384843</td>\n",
       "    </tr>\n",
       "    <tr>\n",
       "      <th>5</th>\n",
       "      <td>Apple Cinnamon Cheerios</td>\n",
       "      <td>G</td>\n",
       "      <td>C</td>\n",
       "      <td>110</td>\n",
       "      <td>2</td>\n",
       "      <td>2</td>\n",
       "      <td>180</td>\n",
       "      <td>1.5</td>\n",
       "      <td>10.5</td>\n",
       "      <td>10</td>\n",
       "      <td>70</td>\n",
       "      <td>25</td>\n",
       "      <td>1</td>\n",
       "      <td>1.00</td>\n",
       "      <td>0.75</td>\n",
       "      <td>29.509541</td>\n",
       "    </tr>\n",
       "    <tr>\n",
       "      <th>6</th>\n",
       "      <td>Apple Jacks</td>\n",
       "      <td>K</td>\n",
       "      <td>C</td>\n",
       "      <td>110</td>\n",
       "      <td>2</td>\n",
       "      <td>0</td>\n",
       "      <td>125</td>\n",
       "      <td>1.0</td>\n",
       "      <td>11.0</td>\n",
       "      <td>14</td>\n",
       "      <td>30</td>\n",
       "      <td>25</td>\n",
       "      <td>2</td>\n",
       "      <td>1.00</td>\n",
       "      <td>1.00</td>\n",
       "      <td>33.174094</td>\n",
       "    </tr>\n",
       "    <tr>\n",
       "      <th>7</th>\n",
       "      <td>Basic 4</td>\n",
       "      <td>G</td>\n",
       "      <td>C</td>\n",
       "      <td>130</td>\n",
       "      <td>3</td>\n",
       "      <td>2</td>\n",
       "      <td>210</td>\n",
       "      <td>2.0</td>\n",
       "      <td>18.0</td>\n",
       "      <td>8</td>\n",
       "      <td>100</td>\n",
       "      <td>25</td>\n",
       "      <td>3</td>\n",
       "      <td>1.33</td>\n",
       "      <td>0.75</td>\n",
       "      <td>37.038562</td>\n",
       "    </tr>\n",
       "    <tr>\n",
       "      <th>8</th>\n",
       "      <td>Bran Chex</td>\n",
       "      <td>R</td>\n",
       "      <td>C</td>\n",
       "      <td>90</td>\n",
       "      <td>2</td>\n",
       "      <td>1</td>\n",
       "      <td>200</td>\n",
       "      <td>4.0</td>\n",
       "      <td>15.0</td>\n",
       "      <td>6</td>\n",
       "      <td>125</td>\n",
       "      <td>25</td>\n",
       "      <td>1</td>\n",
       "      <td>1.00</td>\n",
       "      <td>0.67</td>\n",
       "      <td>49.120253</td>\n",
       "    </tr>\n",
       "    <tr>\n",
       "      <th>9</th>\n",
       "      <td>Bran Flakes</td>\n",
       "      <td>P</td>\n",
       "      <td>C</td>\n",
       "      <td>90</td>\n",
       "      <td>3</td>\n",
       "      <td>0</td>\n",
       "      <td>210</td>\n",
       "      <td>5.0</td>\n",
       "      <td>13.0</td>\n",
       "      <td>5</td>\n",
       "      <td>190</td>\n",
       "      <td>25</td>\n",
       "      <td>3</td>\n",
       "      <td>1.00</td>\n",
       "      <td>0.67</td>\n",
       "      <td>53.313813</td>\n",
       "    </tr>\n",
       "    <tr>\n",
       "      <th>10</th>\n",
       "      <td>Cap'n'Crunch</td>\n",
       "      <td>Q</td>\n",
       "      <td>C</td>\n",
       "      <td>120</td>\n",
       "      <td>1</td>\n",
       "      <td>2</td>\n",
       "      <td>220</td>\n",
       "      <td>0.0</td>\n",
       "      <td>12.0</td>\n",
       "      <td>12</td>\n",
       "      <td>35</td>\n",
       "      <td>25</td>\n",
       "      <td>2</td>\n",
       "      <td>1.00</td>\n",
       "      <td>0.75</td>\n",
       "      <td>18.042851</td>\n",
       "    </tr>\n",
       "    <tr>\n",
       "      <th>11</th>\n",
       "      <td>Cheerios</td>\n",
       "      <td>G</td>\n",
       "      <td>C</td>\n",
       "      <td>110</td>\n",
       "      <td>6</td>\n",
       "      <td>2</td>\n",
       "      <td>290</td>\n",
       "      <td>2.0</td>\n",
       "      <td>17.0</td>\n",
       "      <td>1</td>\n",
       "      <td>105</td>\n",
       "      <td>25</td>\n",
       "      <td>1</td>\n",
       "      <td>1.00</td>\n",
       "      <td>1.25</td>\n",
       "      <td>50.764999</td>\n",
       "    </tr>\n",
       "    <tr>\n",
       "      <th>12</th>\n",
       "      <td>Cinnamon Toast Crunch</td>\n",
       "      <td>G</td>\n",
       "      <td>C</td>\n",
       "      <td>120</td>\n",
       "      <td>1</td>\n",
       "      <td>3</td>\n",
       "      <td>210</td>\n",
       "      <td>0.0</td>\n",
       "      <td>13.0</td>\n",
       "      <td>9</td>\n",
       "      <td>45</td>\n",
       "      <td>25</td>\n",
       "      <td>2</td>\n",
       "      <td>1.00</td>\n",
       "      <td>0.75</td>\n",
       "      <td>19.823573</td>\n",
       "    </tr>\n",
       "    <tr>\n",
       "      <th>13</th>\n",
       "      <td>Clusters</td>\n",
       "      <td>G</td>\n",
       "      <td>C</td>\n",
       "      <td>110</td>\n",
       "      <td>3</td>\n",
       "      <td>2</td>\n",
       "      <td>140</td>\n",
       "      <td>2.0</td>\n",
       "      <td>13.0</td>\n",
       "      <td>7</td>\n",
       "      <td>105</td>\n",
       "      <td>25</td>\n",
       "      <td>3</td>\n",
       "      <td>1.00</td>\n",
       "      <td>0.50</td>\n",
       "      <td>40.400208</td>\n",
       "    </tr>\n",
       "    <tr>\n",
       "      <th>14</th>\n",
       "      <td>Cocoa Puffs</td>\n",
       "      <td>G</td>\n",
       "      <td>C</td>\n",
       "      <td>110</td>\n",
       "      <td>1</td>\n",
       "      <td>1</td>\n",
       "      <td>180</td>\n",
       "      <td>0.0</td>\n",
       "      <td>12.0</td>\n",
       "      <td>13</td>\n",
       "      <td>55</td>\n",
       "      <td>25</td>\n",
       "      <td>2</td>\n",
       "      <td>1.00</td>\n",
       "      <td>1.00</td>\n",
       "      <td>22.736446</td>\n",
       "    </tr>\n",
       "    <tr>\n",
       "      <th>15</th>\n",
       "      <td>Corn Chex</td>\n",
       "      <td>R</td>\n",
       "      <td>C</td>\n",
       "      <td>110</td>\n",
       "      <td>2</td>\n",
       "      <td>0</td>\n",
       "      <td>280</td>\n",
       "      <td>0.0</td>\n",
       "      <td>22.0</td>\n",
       "      <td>3</td>\n",
       "      <td>25</td>\n",
       "      <td>25</td>\n",
       "      <td>1</td>\n",
       "      <td>1.00</td>\n",
       "      <td>1.00</td>\n",
       "      <td>41.445019</td>\n",
       "    </tr>\n",
       "    <tr>\n",
       "      <th>16</th>\n",
       "      <td>Corn Flakes</td>\n",
       "      <td>K</td>\n",
       "      <td>C</td>\n",
       "      <td>100</td>\n",
       "      <td>2</td>\n",
       "      <td>0</td>\n",
       "      <td>290</td>\n",
       "      <td>1.0</td>\n",
       "      <td>21.0</td>\n",
       "      <td>2</td>\n",
       "      <td>35</td>\n",
       "      <td>25</td>\n",
       "      <td>1</td>\n",
       "      <td>1.00</td>\n",
       "      <td>1.00</td>\n",
       "      <td>45.863324</td>\n",
       "    </tr>\n",
       "  </tbody>\n",
       "</table>\n",
       "</div>"
      ],
      "text/plain": [
       "                         name mfr type  calories  protein  fat  sodium  fiber  \\\n",
       "0                   100% Bran   N    C        70        4    1     130   10.0   \n",
       "1           100% Natural Bran   Q    C       120        3    5      15    2.0   \n",
       "2                    All-Bran   K    C        70        4    1     260    9.0   \n",
       "3   All-Bran with Extra Fiber   K    C        50        4    0     140   14.0   \n",
       "4              Almond Delight   R    C       110        2    2     200    1.0   \n",
       "5     Apple Cinnamon Cheerios   G    C       110        2    2     180    1.5   \n",
       "6                 Apple Jacks   K    C       110        2    0     125    1.0   \n",
       "7                     Basic 4   G    C       130        3    2     210    2.0   \n",
       "8                   Bran Chex   R    C        90        2    1     200    4.0   \n",
       "9                 Bran Flakes   P    C        90        3    0     210    5.0   \n",
       "10               Cap'n'Crunch   Q    C       120        1    2     220    0.0   \n",
       "11                   Cheerios   G    C       110        6    2     290    2.0   \n",
       "12      Cinnamon Toast Crunch   G    C       120        1    3     210    0.0   \n",
       "13                   Clusters   G    C       110        3    2     140    2.0   \n",
       "14                Cocoa Puffs   G    C       110        1    1     180    0.0   \n",
       "15                  Corn Chex   R    C       110        2    0     280    0.0   \n",
       "16                Corn Flakes   K    C       100        2    0     290    1.0   \n",
       "\n",
       "    carbo  sugars  potass  vitamins  shelf  weight  cups     rating  \n",
       "0     5.0       6     280        25      3    1.00  0.33  68.402973  \n",
       "1     8.0       8     135         0      3    1.00  1.00  33.983679  \n",
       "2     7.0       5     320        25      3    1.00  0.33  59.425505  \n",
       "3     8.0       0     330        25      3    1.00  0.50  93.704912  \n",
       "4    14.0       8      -1        25      3    1.00  0.75  34.384843  \n",
       "5    10.5      10      70        25      1    1.00  0.75  29.509541  \n",
       "6    11.0      14      30        25      2    1.00  1.00  33.174094  \n",
       "7    18.0       8     100        25      3    1.33  0.75  37.038562  \n",
       "8    15.0       6     125        25      1    1.00  0.67  49.120253  \n",
       "9    13.0       5     190        25      3    1.00  0.67  53.313813  \n",
       "10   12.0      12      35        25      2    1.00  0.75  18.042851  \n",
       "11   17.0       1     105        25      1    1.00  1.25  50.764999  \n",
       "12   13.0       9      45        25      2    1.00  0.75  19.823573  \n",
       "13   13.0       7     105        25      3    1.00  0.50  40.400208  \n",
       "14   12.0      13      55        25      2    1.00  1.00  22.736446  \n",
       "15   22.0       3      25        25      1    1.00  1.00  41.445019  \n",
       "16   21.0       2      35        25      1    1.00  1.00  45.863324  "
      ]
     },
     "execution_count": 5,
     "metadata": {},
     "output_type": "execute_result"
    }
   ],
   "source": [
    "df.head(17)"
   ]
  },
  {
   "cell_type": "code",
   "execution_count": 4,
   "id": "e78e62ea",
   "metadata": {},
   "outputs": [
    {
     "data": {
      "text/plain": [
       "1232"
      ]
     },
     "execution_count": 4,
     "metadata": {},
     "output_type": "execute_result"
    }
   ],
   "source": [
    "len(df)*len(df.columns)"
   ]
  },
  {
   "cell_type": "code",
   "execution_count": 5,
   "id": "8c6d96d6",
   "metadata": {},
   "outputs": [],
   "source": [
    "manufacturer_dict = {\n",
    "  'A': 'American Home Food Products;',\n",
    "  'G': 'General Mills',\n",
    "  'K': 'Kelloggs',\n",
    "  'N': 'Nabisco',\n",
    "  'P': 'Post',\n",
    "  'Q': 'Quaker Oats',\n",
    "  'R': 'Ralston Purina ',\n",
    "}"
   ]
  },
  {
   "cell_type": "code",
   "execution_count": 8,
   "id": "8a609574",
   "metadata": {},
   "outputs": [
    {
     "ename": "TypeError",
     "evalue": "DataFrame.rename() takes from 1 to 2 positional arguments but 3 were given",
     "output_type": "error",
     "traceback": [
      "\u001b[0;31m---------------------------------------------------------------------------\u001b[0m",
      "\u001b[0;31mTypeError\u001b[0m                                 Traceback (most recent call last)",
      "Cell \u001b[0;32mIn [8], line 1\u001b[0m\n\u001b[0;32m----> 1\u001b[0m \u001b[43mdf\u001b[49m\u001b[38;5;241;43m.\u001b[39;49m\u001b[43mrename\u001b[49m\u001b[43m(\u001b[49m\u001b[43m[\u001b[49m\u001b[38;5;124;43m'\u001b[39;49m\u001b[38;5;124;43mmfr\u001b[39;49m\u001b[38;5;124;43m'\u001b[39;49m\u001b[43m]\u001b[49m\u001b[43m,\u001b[49m\u001b[43mmanufacturer_dict\u001b[49m\u001b[43m)\u001b[49m\n",
      "\u001b[0;31mTypeError\u001b[0m: DataFrame.rename() takes from 1 to 2 positional arguments but 3 were given"
     ]
    }
   ],
   "source": [
    "df.rename(['mfr'],manufacturer_dict)"
   ]
  },
  {
   "cell_type": "markdown",
   "id": "dbddfd5c",
   "metadata": {},
   "source": [
    "Changing for the type column, instead of C and H, we want to use the labels of the these variables as Hot and Cold in any visualizations"
   ]
  },
  {
   "cell_type": "code",
   "execution_count": 7,
   "id": "50f609e2",
   "metadata": {},
   "outputs": [
    {
     "data": {
      "text/html": [
       "<div>\n",
       "<style scoped>\n",
       "    .dataframe tbody tr th:only-of-type {\n",
       "        vertical-align: middle;\n",
       "    }\n",
       "\n",
       "    .dataframe tbody tr th {\n",
       "        vertical-align: top;\n",
       "    }\n",
       "\n",
       "    .dataframe thead th {\n",
       "        text-align: right;\n",
       "    }\n",
       "</style>\n",
       "<table border=\"1\" class=\"dataframe\">\n",
       "  <thead>\n",
       "    <tr style=\"text-align: right;\">\n",
       "      <th></th>\n",
       "      <th>name</th>\n",
       "      <th>mfr</th>\n",
       "      <th>type</th>\n",
       "      <th>calories</th>\n",
       "      <th>protein</th>\n",
       "      <th>fat</th>\n",
       "      <th>sodium</th>\n",
       "      <th>fiber</th>\n",
       "      <th>carbo</th>\n",
       "      <th>sugars</th>\n",
       "      <th>potass</th>\n",
       "      <th>vitamins</th>\n",
       "      <th>shelf</th>\n",
       "      <th>weight</th>\n",
       "      <th>cups</th>\n",
       "      <th>rating</th>\n",
       "    </tr>\n",
       "  </thead>\n",
       "  <tbody>\n",
       "    <tr>\n",
       "      <th>0</th>\n",
       "      <td>100% Bran</td>\n",
       "      <td>N</td>\n",
       "      <td>C</td>\n",
       "      <td>70</td>\n",
       "      <td>4</td>\n",
       "      <td>1</td>\n",
       "      <td>130</td>\n",
       "      <td>10.0</td>\n",
       "      <td>5.0</td>\n",
       "      <td>6</td>\n",
       "      <td>280</td>\n",
       "      <td>25</td>\n",
       "      <td>3</td>\n",
       "      <td>1.0</td>\n",
       "      <td>0.33</td>\n",
       "      <td>68.402973</td>\n",
       "    </tr>\n",
       "    <tr>\n",
       "      <th>1</th>\n",
       "      <td>100% Natural Bran</td>\n",
       "      <td>Q</td>\n",
       "      <td>C</td>\n",
       "      <td>120</td>\n",
       "      <td>3</td>\n",
       "      <td>5</td>\n",
       "      <td>15</td>\n",
       "      <td>2.0</td>\n",
       "      <td>8.0</td>\n",
       "      <td>8</td>\n",
       "      <td>135</td>\n",
       "      <td>0</td>\n",
       "      <td>3</td>\n",
       "      <td>1.0</td>\n",
       "      <td>1.00</td>\n",
       "      <td>33.983679</td>\n",
       "    </tr>\n",
       "    <tr>\n",
       "      <th>2</th>\n",
       "      <td>All-Bran</td>\n",
       "      <td>K</td>\n",
       "      <td>C</td>\n",
       "      <td>70</td>\n",
       "      <td>4</td>\n",
       "      <td>1</td>\n",
       "      <td>260</td>\n",
       "      <td>9.0</td>\n",
       "      <td>7.0</td>\n",
       "      <td>5</td>\n",
       "      <td>320</td>\n",
       "      <td>25</td>\n",
       "      <td>3</td>\n",
       "      <td>1.0</td>\n",
       "      <td>0.33</td>\n",
       "      <td>59.425505</td>\n",
       "    </tr>\n",
       "    <tr>\n",
       "      <th>3</th>\n",
       "      <td>All-Bran with Extra Fiber</td>\n",
       "      <td>K</td>\n",
       "      <td>C</td>\n",
       "      <td>50</td>\n",
       "      <td>4</td>\n",
       "      <td>0</td>\n",
       "      <td>140</td>\n",
       "      <td>14.0</td>\n",
       "      <td>8.0</td>\n",
       "      <td>0</td>\n",
       "      <td>330</td>\n",
       "      <td>25</td>\n",
       "      <td>3</td>\n",
       "      <td>1.0</td>\n",
       "      <td>0.50</td>\n",
       "      <td>93.704912</td>\n",
       "    </tr>\n",
       "    <tr>\n",
       "      <th>4</th>\n",
       "      <td>Almond Delight</td>\n",
       "      <td>R</td>\n",
       "      <td>C</td>\n",
       "      <td>110</td>\n",
       "      <td>2</td>\n",
       "      <td>2</td>\n",
       "      <td>200</td>\n",
       "      <td>1.0</td>\n",
       "      <td>14.0</td>\n",
       "      <td>8</td>\n",
       "      <td>-1</td>\n",
       "      <td>25</td>\n",
       "      <td>3</td>\n",
       "      <td>1.0</td>\n",
       "      <td>0.75</td>\n",
       "      <td>34.384843</td>\n",
       "    </tr>\n",
       "  </tbody>\n",
       "</table>\n",
       "</div>"
      ],
      "text/plain": [
       "                        name mfr type  calories  protein  fat  sodium  fiber  \\\n",
       "0                  100% Bran   N    C        70        4    1     130   10.0   \n",
       "1          100% Natural Bran   Q    C       120        3    5      15    2.0   \n",
       "2                   All-Bran   K    C        70        4    1     260    9.0   \n",
       "3  All-Bran with Extra Fiber   K    C        50        4    0     140   14.0   \n",
       "4             Almond Delight   R    C       110        2    2     200    1.0   \n",
       "\n",
       "   carbo  sugars  potass  vitamins  shelf  weight  cups     rating  \n",
       "0    5.0       6     280        25      3     1.0  0.33  68.402973  \n",
       "1    8.0       8     135         0      3     1.0  1.00  33.983679  \n",
       "2    7.0       5     320        25      3     1.0  0.33  59.425505  \n",
       "3    8.0       0     330        25      3     1.0  0.50  93.704912  \n",
       "4   14.0       8      -1        25      3     1.0  0.75  34.384843  "
      ]
     },
     "execution_count": 7,
     "metadata": {},
     "output_type": "execute_result"
    }
   ],
   "source": [
    "df.head()"
   ]
  },
  {
   "cell_type": "code",
   "execution_count": 8,
   "id": "4e38db2c",
   "metadata": {},
   "outputs": [],
   "source": [
    "type_dict = {\n",
    "    'C':'Cold',\n",
    "    'H' : 'Hot'\n",
    "}\n",
    "    \n",
    "    "
   ]
  },
  {
   "cell_type": "markdown",
   "id": "11d520af",
   "metadata": {},
   "source": [
    "Exploratory Data Analysis to understand the dataset and derive relationships from those data"
   ]
  },
  {
   "cell_type": "markdown",
   "id": "bb5427cb",
   "metadata": {},
   "source": [
    "We will begin with subplotting"
   ]
  },
  {
   "cell_type": "code",
   "execution_count": 9,
   "id": "cf51b498",
   "metadata": {},
   "outputs": [],
   "source": [
    "default_subplot_adjustment = {\n",
    "    \n",
    "    'left':None,\n",
    "    'bottom': None,\n",
    "    'right': None,\n",
    "    'top': None,\n",
    "    'wspace':0.4,\n",
    "    'hspace':0.4\n",
    "    \n",
    "}"
   ]
  },
  {
   "cell_type": "code",
   "execution_count": 10,
   "id": "ebf7bb58",
   "metadata": {},
   "outputs": [],
   "source": [
    "def subplots_grid_visualizer(\n",
    "  dataframe: pd.DataFrame,\n",
    "  columns: list[str],\n",
    "  visualizer: callable,\n",
    "  n_cols: int = 5,\n",
    "  subplot_col_width: float = 7.5,\n",
    "  subplot_col_height: float = 5,\n",
    "  color_palette = sns.color_palette('Paired'),\n",
    "  subplots_adjustment: dict = default_subplot_adjustment,\n",
    "  title: str = None,\n",
    "  figsize: tuple[float, float] = None\n",
    ") -> None:\n",
    "  df_subplot = dataframe.copy(deep=True)\n",
    "  # subplots grid configuration\n",
    "  total_columns = len(columns)\n",
    "  cols_to_display = n_cols\n",
    "  rows_to_display = ceil(total_columns / cols_to_display)\n",
    "\n",
    "  # subplots sizing\n",
    "  if not figsize:\n",
    "    figsize = (\n",
    "      cols_to_display * subplot_col_width,\n",
    "      rows_to_display * subplot_col_height\n",
    "    )\n",
    "# subplots initialization\n",
    "  fig, axes = plt.subplots(rows_to_display, cols_to_display, figsize=figsize)\n",
    "  if title:\n",
    "    plt.suptitle(title, fontsize='xx-large')\n",
    "\n",
    "  # set the spacing between subplots\n",
    "  plt.subplots_adjust(**subplots_adjustment)\n",
    "\n",
    "  # the actual plotting\n",
    "  for index, col in enumerate(columns):\n",
    "    ax = axes[\n",
    "      int(index / cols_to_display),\n",
    "      int(index % cols_to_display)\n",
    "    ]\n",
    "    visualizer(df_subplot, index, col, ax, color_palette)"
   ]
  },
  {
   "cell_type": "code",
   "execution_count": 11,
   "id": "2db6a9c7",
   "metadata": {},
   "outputs": [
    {
     "name": "stdout",
     "output_type": "stream",
     "text": [
      "<class 'pandas.core.frame.DataFrame'>\n",
      "RangeIndex: 77 entries, 0 to 76\n",
      "Data columns (total 16 columns):\n",
      " #   Column    Non-Null Count  Dtype  \n",
      "---  ------    --------------  -----  \n",
      " 0   name      77 non-null     object \n",
      " 1   mfr       77 non-null     object \n",
      " 2   type      77 non-null     object \n",
      " 3   calories  77 non-null     int64  \n",
      " 4   protein   77 non-null     int64  \n",
      " 5   fat       77 non-null     int64  \n",
      " 6   sodium    77 non-null     int64  \n",
      " 7   fiber     77 non-null     float64\n",
      " 8   carbo     77 non-null     float64\n",
      " 9   sugars    77 non-null     int64  \n",
      " 10  potass    77 non-null     int64  \n",
      " 11  vitamins  77 non-null     int64  \n",
      " 12  shelf     77 non-null     int64  \n",
      " 13  weight    77 non-null     float64\n",
      " 14  cups      77 non-null     float64\n",
      " 15  rating    77 non-null     float64\n",
      "dtypes: float64(5), int64(8), object(3)\n",
      "memory usage: 9.8+ KB\n"
     ]
    }
   ],
   "source": [
    "df.info()"
   ]
  },
  {
   "cell_type": "code",
   "execution_count": 12,
   "id": "2c72893d",
   "metadata": {},
   "outputs": [
    {
     "data": {
      "text/html": [
       "<div>\n",
       "<style scoped>\n",
       "    .dataframe tbody tr th:only-of-type {\n",
       "        vertical-align: middle;\n",
       "    }\n",
       "\n",
       "    .dataframe tbody tr th {\n",
       "        vertical-align: top;\n",
       "    }\n",
       "\n",
       "    .dataframe thead th {\n",
       "        text-align: right;\n",
       "    }\n",
       "</style>\n",
       "<table border=\"1\" class=\"dataframe\">\n",
       "  <thead>\n",
       "    <tr style=\"text-align: right;\">\n",
       "      <th></th>\n",
       "      <th>calories</th>\n",
       "      <th>protein</th>\n",
       "      <th>fat</th>\n",
       "      <th>sodium</th>\n",
       "      <th>fiber</th>\n",
       "      <th>carbo</th>\n",
       "      <th>sugars</th>\n",
       "      <th>potass</th>\n",
       "      <th>vitamins</th>\n",
       "      <th>shelf</th>\n",
       "      <th>weight</th>\n",
       "      <th>cups</th>\n",
       "      <th>rating</th>\n",
       "    </tr>\n",
       "  </thead>\n",
       "  <tbody>\n",
       "    <tr>\n",
       "      <th>count</th>\n",
       "      <td>77.000000</td>\n",
       "      <td>77.000000</td>\n",
       "      <td>77.000000</td>\n",
       "      <td>77.000000</td>\n",
       "      <td>77.000000</td>\n",
       "      <td>77.000000</td>\n",
       "      <td>77.000000</td>\n",
       "      <td>77.000000</td>\n",
       "      <td>77.000000</td>\n",
       "      <td>77.000000</td>\n",
       "      <td>77.000000</td>\n",
       "      <td>77.000000</td>\n",
       "      <td>77.000000</td>\n",
       "    </tr>\n",
       "    <tr>\n",
       "      <th>mean</th>\n",
       "      <td>106.883117</td>\n",
       "      <td>2.545455</td>\n",
       "      <td>1.012987</td>\n",
       "      <td>159.675325</td>\n",
       "      <td>2.151948</td>\n",
       "      <td>14.597403</td>\n",
       "      <td>6.922078</td>\n",
       "      <td>96.077922</td>\n",
       "      <td>28.246753</td>\n",
       "      <td>2.207792</td>\n",
       "      <td>1.029610</td>\n",
       "      <td>0.821039</td>\n",
       "      <td>42.665705</td>\n",
       "    </tr>\n",
       "    <tr>\n",
       "      <th>std</th>\n",
       "      <td>19.484119</td>\n",
       "      <td>1.094790</td>\n",
       "      <td>1.006473</td>\n",
       "      <td>83.832295</td>\n",
       "      <td>2.383364</td>\n",
       "      <td>4.278956</td>\n",
       "      <td>4.444885</td>\n",
       "      <td>71.286813</td>\n",
       "      <td>22.342523</td>\n",
       "      <td>0.832524</td>\n",
       "      <td>0.150477</td>\n",
       "      <td>0.232716</td>\n",
       "      <td>14.047289</td>\n",
       "    </tr>\n",
       "    <tr>\n",
       "      <th>min</th>\n",
       "      <td>50.000000</td>\n",
       "      <td>1.000000</td>\n",
       "      <td>0.000000</td>\n",
       "      <td>0.000000</td>\n",
       "      <td>0.000000</td>\n",
       "      <td>-1.000000</td>\n",
       "      <td>-1.000000</td>\n",
       "      <td>-1.000000</td>\n",
       "      <td>0.000000</td>\n",
       "      <td>1.000000</td>\n",
       "      <td>0.500000</td>\n",
       "      <td>0.250000</td>\n",
       "      <td>18.042851</td>\n",
       "    </tr>\n",
       "    <tr>\n",
       "      <th>25%</th>\n",
       "      <td>100.000000</td>\n",
       "      <td>2.000000</td>\n",
       "      <td>0.000000</td>\n",
       "      <td>130.000000</td>\n",
       "      <td>1.000000</td>\n",
       "      <td>12.000000</td>\n",
       "      <td>3.000000</td>\n",
       "      <td>40.000000</td>\n",
       "      <td>25.000000</td>\n",
       "      <td>1.000000</td>\n",
       "      <td>1.000000</td>\n",
       "      <td>0.670000</td>\n",
       "      <td>33.174094</td>\n",
       "    </tr>\n",
       "    <tr>\n",
       "      <th>50%</th>\n",
       "      <td>110.000000</td>\n",
       "      <td>3.000000</td>\n",
       "      <td>1.000000</td>\n",
       "      <td>180.000000</td>\n",
       "      <td>2.000000</td>\n",
       "      <td>14.000000</td>\n",
       "      <td>7.000000</td>\n",
       "      <td>90.000000</td>\n",
       "      <td>25.000000</td>\n",
       "      <td>2.000000</td>\n",
       "      <td>1.000000</td>\n",
       "      <td>0.750000</td>\n",
       "      <td>40.400208</td>\n",
       "    </tr>\n",
       "    <tr>\n",
       "      <th>75%</th>\n",
       "      <td>110.000000</td>\n",
       "      <td>3.000000</td>\n",
       "      <td>2.000000</td>\n",
       "      <td>210.000000</td>\n",
       "      <td>3.000000</td>\n",
       "      <td>17.000000</td>\n",
       "      <td>11.000000</td>\n",
       "      <td>120.000000</td>\n",
       "      <td>25.000000</td>\n",
       "      <td>3.000000</td>\n",
       "      <td>1.000000</td>\n",
       "      <td>1.000000</td>\n",
       "      <td>50.828392</td>\n",
       "    </tr>\n",
       "    <tr>\n",
       "      <th>max</th>\n",
       "      <td>160.000000</td>\n",
       "      <td>6.000000</td>\n",
       "      <td>5.000000</td>\n",
       "      <td>320.000000</td>\n",
       "      <td>14.000000</td>\n",
       "      <td>23.000000</td>\n",
       "      <td>15.000000</td>\n",
       "      <td>330.000000</td>\n",
       "      <td>100.000000</td>\n",
       "      <td>3.000000</td>\n",
       "      <td>1.500000</td>\n",
       "      <td>1.500000</td>\n",
       "      <td>93.704912</td>\n",
       "    </tr>\n",
       "  </tbody>\n",
       "</table>\n",
       "</div>"
      ],
      "text/plain": [
       "         calories    protein        fat      sodium      fiber      carbo  \\\n",
       "count   77.000000  77.000000  77.000000   77.000000  77.000000  77.000000   \n",
       "mean   106.883117   2.545455   1.012987  159.675325   2.151948  14.597403   \n",
       "std     19.484119   1.094790   1.006473   83.832295   2.383364   4.278956   \n",
       "min     50.000000   1.000000   0.000000    0.000000   0.000000  -1.000000   \n",
       "25%    100.000000   2.000000   0.000000  130.000000   1.000000  12.000000   \n",
       "50%    110.000000   3.000000   1.000000  180.000000   2.000000  14.000000   \n",
       "75%    110.000000   3.000000   2.000000  210.000000   3.000000  17.000000   \n",
       "max    160.000000   6.000000   5.000000  320.000000  14.000000  23.000000   \n",
       "\n",
       "          sugars      potass    vitamins      shelf     weight       cups  \\\n",
       "count  77.000000   77.000000   77.000000  77.000000  77.000000  77.000000   \n",
       "mean    6.922078   96.077922   28.246753   2.207792   1.029610   0.821039   \n",
       "std     4.444885   71.286813   22.342523   0.832524   0.150477   0.232716   \n",
       "min    -1.000000   -1.000000    0.000000   1.000000   0.500000   0.250000   \n",
       "25%     3.000000   40.000000   25.000000   1.000000   1.000000   0.670000   \n",
       "50%     7.000000   90.000000   25.000000   2.000000   1.000000   0.750000   \n",
       "75%    11.000000  120.000000   25.000000   3.000000   1.000000   1.000000   \n",
       "max    15.000000  330.000000  100.000000   3.000000   1.500000   1.500000   \n",
       "\n",
       "          rating  \n",
       "count  77.000000  \n",
       "mean   42.665705  \n",
       "std    14.047289  \n",
       "min    18.042851  \n",
       "25%    33.174094  \n",
       "50%    40.400208  \n",
       "75%    50.828392  \n",
       "max    93.704912  "
      ]
     },
     "execution_count": 12,
     "metadata": {},
     "output_type": "execute_result"
    }
   ],
   "source": [
    "df.describe()"
   ]
  },
  {
   "cell_type": "code",
   "execution_count": 13,
   "id": "0fe4e80a",
   "metadata": {},
   "outputs": [
    {
     "data": {
      "text/html": [
       "<div>\n",
       "<style scoped>\n",
       "    .dataframe tbody tr th:only-of-type {\n",
       "        vertical-align: middle;\n",
       "    }\n",
       "\n",
       "    .dataframe tbody tr th {\n",
       "        vertical-align: top;\n",
       "    }\n",
       "\n",
       "    .dataframe thead th {\n",
       "        text-align: right;\n",
       "    }\n",
       "</style>\n",
       "<table border=\"1\" class=\"dataframe\">\n",
       "  <thead>\n",
       "    <tr style=\"text-align: right;\">\n",
       "      <th></th>\n",
       "      <th>count</th>\n",
       "      <th>mean</th>\n",
       "      <th>std</th>\n",
       "      <th>min</th>\n",
       "      <th>25%</th>\n",
       "      <th>50%</th>\n",
       "      <th>75%</th>\n",
       "      <th>max</th>\n",
       "    </tr>\n",
       "  </thead>\n",
       "  <tbody>\n",
       "    <tr>\n",
       "      <th>calories</th>\n",
       "      <td>77.0</td>\n",
       "      <td>106.883117</td>\n",
       "      <td>19.484119</td>\n",
       "      <td>50.000000</td>\n",
       "      <td>100.000000</td>\n",
       "      <td>110.000000</td>\n",
       "      <td>110.000000</td>\n",
       "      <td>160.000000</td>\n",
       "    </tr>\n",
       "    <tr>\n",
       "      <th>protein</th>\n",
       "      <td>77.0</td>\n",
       "      <td>2.545455</td>\n",
       "      <td>1.094790</td>\n",
       "      <td>1.000000</td>\n",
       "      <td>2.000000</td>\n",
       "      <td>3.000000</td>\n",
       "      <td>3.000000</td>\n",
       "      <td>6.000000</td>\n",
       "    </tr>\n",
       "    <tr>\n",
       "      <th>fat</th>\n",
       "      <td>77.0</td>\n",
       "      <td>1.012987</td>\n",
       "      <td>1.006473</td>\n",
       "      <td>0.000000</td>\n",
       "      <td>0.000000</td>\n",
       "      <td>1.000000</td>\n",
       "      <td>2.000000</td>\n",
       "      <td>5.000000</td>\n",
       "    </tr>\n",
       "    <tr>\n",
       "      <th>sodium</th>\n",
       "      <td>77.0</td>\n",
       "      <td>159.675325</td>\n",
       "      <td>83.832295</td>\n",
       "      <td>0.000000</td>\n",
       "      <td>130.000000</td>\n",
       "      <td>180.000000</td>\n",
       "      <td>210.000000</td>\n",
       "      <td>320.000000</td>\n",
       "    </tr>\n",
       "    <tr>\n",
       "      <th>fiber</th>\n",
       "      <td>77.0</td>\n",
       "      <td>2.151948</td>\n",
       "      <td>2.383364</td>\n",
       "      <td>0.000000</td>\n",
       "      <td>1.000000</td>\n",
       "      <td>2.000000</td>\n",
       "      <td>3.000000</td>\n",
       "      <td>14.000000</td>\n",
       "    </tr>\n",
       "    <tr>\n",
       "      <th>carbo</th>\n",
       "      <td>77.0</td>\n",
       "      <td>14.597403</td>\n",
       "      <td>4.278956</td>\n",
       "      <td>-1.000000</td>\n",
       "      <td>12.000000</td>\n",
       "      <td>14.000000</td>\n",
       "      <td>17.000000</td>\n",
       "      <td>23.000000</td>\n",
       "    </tr>\n",
       "    <tr>\n",
       "      <th>sugars</th>\n",
       "      <td>77.0</td>\n",
       "      <td>6.922078</td>\n",
       "      <td>4.444885</td>\n",
       "      <td>-1.000000</td>\n",
       "      <td>3.000000</td>\n",
       "      <td>7.000000</td>\n",
       "      <td>11.000000</td>\n",
       "      <td>15.000000</td>\n",
       "    </tr>\n",
       "    <tr>\n",
       "      <th>potass</th>\n",
       "      <td>77.0</td>\n",
       "      <td>96.077922</td>\n",
       "      <td>71.286813</td>\n",
       "      <td>-1.000000</td>\n",
       "      <td>40.000000</td>\n",
       "      <td>90.000000</td>\n",
       "      <td>120.000000</td>\n",
       "      <td>330.000000</td>\n",
       "    </tr>\n",
       "    <tr>\n",
       "      <th>vitamins</th>\n",
       "      <td>77.0</td>\n",
       "      <td>28.246753</td>\n",
       "      <td>22.342523</td>\n",
       "      <td>0.000000</td>\n",
       "      <td>25.000000</td>\n",
       "      <td>25.000000</td>\n",
       "      <td>25.000000</td>\n",
       "      <td>100.000000</td>\n",
       "    </tr>\n",
       "    <tr>\n",
       "      <th>shelf</th>\n",
       "      <td>77.0</td>\n",
       "      <td>2.207792</td>\n",
       "      <td>0.832524</td>\n",
       "      <td>1.000000</td>\n",
       "      <td>1.000000</td>\n",
       "      <td>2.000000</td>\n",
       "      <td>3.000000</td>\n",
       "      <td>3.000000</td>\n",
       "    </tr>\n",
       "    <tr>\n",
       "      <th>weight</th>\n",
       "      <td>77.0</td>\n",
       "      <td>1.029610</td>\n",
       "      <td>0.150477</td>\n",
       "      <td>0.500000</td>\n",
       "      <td>1.000000</td>\n",
       "      <td>1.000000</td>\n",
       "      <td>1.000000</td>\n",
       "      <td>1.500000</td>\n",
       "    </tr>\n",
       "    <tr>\n",
       "      <th>cups</th>\n",
       "      <td>77.0</td>\n",
       "      <td>0.821039</td>\n",
       "      <td>0.232716</td>\n",
       "      <td>0.250000</td>\n",
       "      <td>0.670000</td>\n",
       "      <td>0.750000</td>\n",
       "      <td>1.000000</td>\n",
       "      <td>1.500000</td>\n",
       "    </tr>\n",
       "    <tr>\n",
       "      <th>rating</th>\n",
       "      <td>77.0</td>\n",
       "      <td>42.665705</td>\n",
       "      <td>14.047289</td>\n",
       "      <td>18.042851</td>\n",
       "      <td>33.174094</td>\n",
       "      <td>40.400208</td>\n",
       "      <td>50.828392</td>\n",
       "      <td>93.704912</td>\n",
       "    </tr>\n",
       "  </tbody>\n",
       "</table>\n",
       "</div>"
      ],
      "text/plain": [
       "          count        mean        std        min         25%         50%  \\\n",
       "calories   77.0  106.883117  19.484119  50.000000  100.000000  110.000000   \n",
       "protein    77.0    2.545455   1.094790   1.000000    2.000000    3.000000   \n",
       "fat        77.0    1.012987   1.006473   0.000000    0.000000    1.000000   \n",
       "sodium     77.0  159.675325  83.832295   0.000000  130.000000  180.000000   \n",
       "fiber      77.0    2.151948   2.383364   0.000000    1.000000    2.000000   \n",
       "carbo      77.0   14.597403   4.278956  -1.000000   12.000000   14.000000   \n",
       "sugars     77.0    6.922078   4.444885  -1.000000    3.000000    7.000000   \n",
       "potass     77.0   96.077922  71.286813  -1.000000   40.000000   90.000000   \n",
       "vitamins   77.0   28.246753  22.342523   0.000000   25.000000   25.000000   \n",
       "shelf      77.0    2.207792   0.832524   1.000000    1.000000    2.000000   \n",
       "weight     77.0    1.029610   0.150477   0.500000    1.000000    1.000000   \n",
       "cups       77.0    0.821039   0.232716   0.250000    0.670000    0.750000   \n",
       "rating     77.0   42.665705  14.047289  18.042851   33.174094   40.400208   \n",
       "\n",
       "                 75%         max  \n",
       "calories  110.000000  160.000000  \n",
       "protein     3.000000    6.000000  \n",
       "fat         2.000000    5.000000  \n",
       "sodium    210.000000  320.000000  \n",
       "fiber       3.000000   14.000000  \n",
       "carbo      17.000000   23.000000  \n",
       "sugars     11.000000   15.000000  \n",
       "potass    120.000000  330.000000  \n",
       "vitamins   25.000000  100.000000  \n",
       "shelf       3.000000    3.000000  \n",
       "weight      1.000000    1.500000  \n",
       "cups        1.000000    1.500000  \n",
       "rating     50.828392   93.704912  "
      ]
     },
     "execution_count": 13,
     "metadata": {},
     "output_type": "execute_result"
    }
   ],
   "source": [
    "df.describe().transpose()"
   ]
  },
  {
   "cell_type": "markdown",
   "id": "5f8ff113",
   "metadata": {},
   "source": [
    "understanding the non numeric datatypes"
   ]
  },
  {
   "cell_type": "code",
   "execution_count": 14,
   "id": "3ed5a5fb",
   "metadata": {},
   "outputs": [
    {
     "data": {
      "text/plain": [
       "name    object\n",
       "mfr     object\n",
       "type    object\n",
       "dtype: object"
      ]
     },
     "execution_count": 14,
     "metadata": {},
     "output_type": "execute_result"
    }
   ],
   "source": [
    "df.select_dtypes(exclude=np.number).dtypes"
   ]
  },
  {
   "cell_type": "markdown",
   "id": "d1778de8",
   "metadata": {},
   "source": [
    "now we work on seeing the distribution of the dataset"
   ]
  },
  {
   "cell_type": "code",
   "execution_count": 15,
   "id": "910ec099",
   "metadata": {},
   "outputs": [],
   "source": [
    "TARGET_VARIABLE = 'rating' #@param {type: 'string'}\n",
    "# TARGET_VARIABLE = 'fiber' #@param {type: 'string'}"
   ]
  },
  {
   "cell_type": "code",
   "execution_count": 16,
   "id": "842b9eb6",
   "metadata": {},
   "outputs": [
    {
     "data": {
      "text/plain": [
       "array(['C', 'H'], dtype=object)"
      ]
     },
     "execution_count": 16,
     "metadata": {},
     "output_type": "execute_result"
    }
   ],
   "source": [
    "df['type'].unique()"
   ]
  },
  {
   "cell_type": "code",
   "execution_count": 17,
   "id": "2e29892b",
   "metadata": {},
   "outputs": [
    {
     "data": {
      "text/plain": [
       "77"
      ]
     },
     "execution_count": 17,
     "metadata": {},
     "output_type": "execute_result"
    }
   ],
   "source": [
    "df['type'].count()"
   ]
  },
  {
   "cell_type": "code",
   "execution_count": 18,
   "id": "07aba122",
   "metadata": {},
   "outputs": [
    {
     "data": {
      "image/png": "[encoded data removed]",
      "text/plain": [
       "<Figure size 640x480 with 1 Axes>"
      ]
     },
     "metadata": {},
     "output_type": "display_data"
    }
   ],
   "source": [
    "counts = df['type'].value_counts()\n",
    "counts.plot(kind='bar')\n",
    "\n",
    "\n",
    "plt.xlabel('Variable')\n",
    "plt.ylabel('Count')\n",
    "plt.title('Value Counts of Variables in Type Column')\n",
    "\n",
    "plt.show()"
   ]
  },
  {
   "cell_type": "code",
   "execution_count": 19,
   "id": "59194803",
   "metadata": {},
   "outputs": [
    {
     "data": {
      "image/png": "[encoded data removed]",
      "text/plain": [
       "<Figure size 640x480 with 1 Axes>"
      ]
     },
     "metadata": {},
     "output_type": "display_data"
    }
   ],
   "source": [
    "type_count = df['type'].value_counts()\n",
    "type_count.plot.pie(\n",
    "autopct='%1.1f%%',\n",
    ")\n",
    "\n",
    "plt.title('Value Counts of Variables in Type Column')\n",
    "\n",
    "plt.show()"
   ]
  },
  {
   "cell_type": "code",
   "execution_count": 20,
   "id": "dcdb35f7",
   "metadata": {},
   "outputs": [
    {
     "data": {
      "image/png": "[encoded data removed]",
      "text/plain": [
       "<Figure size 640x480 with 1 Axes>"
      ]
     },
     "metadata": {},
     "output_type": "display_data"
    }
   ],
   "source": [
    "mfr_distribution= df['mfr'].value_counts()\n",
    "mfr_distribution.plot.pie(\n",
    "    autopct='%1.1f%%',\n",
    "    colors=sns.color_palette('Paired'),\n",
    "    fontsize=10\n",
    ")\n",
    "plt.title('Value distribution of Variables in Type Column')\n",
    "\n",
    "plt.show()"
   ]
  },
  {
   "cell_type": "code",
   "execution_count": 10,
   "id": "ae1fa9b3",
   "metadata": {},
   "outputs": [
    {
     "data": {
      "text/plain": [
       "1"
      ]
     },
     "execution_count": 10,
     "metadata": {},
     "output_type": "execute_result"
    }
   ],
   "source": [
    "len(df[df['mfr'] == 'A'])"
   ]
  },
  {
   "cell_type": "markdown",
   "id": "bada8868",
   "metadata": {},
   "source": [
    "Overall data with histograms to see the distribution of all the data"
   ]
  },
  {
   "cell_type": "code",
   "execution_count": 11,
   "id": "06d8ac45",
   "metadata": {},
   "outputs": [
    {
     "name": "stderr",
     "output_type": "stream",
     "text": [
      "/Users/joelsabiti/pytorch-test/env/lib/python3.10/site-packages/seaborn/categorical.py:470: FutureWarning: iteritems is deprecated and will be removed in a future version. Use .items instead.\n",
      "  plot_data = [np.asarray(s, float) for k, s in iter_data]\n"
     ]
    },
    {
     "data": {
      "image/png": "[encoded data removed]",
      "text/plain": [
       "<Figure size 640x480 with 1 Axes>"
      ]
     },
     "metadata": {},
     "output_type": "display_data"
    }
   ],
   "source": [
    "to_exclude = [\n",
    "    'type',\n",
    "    'mfr'\n",
    "]\n",
    " \n",
    "columns_to_plot = [col for col in df.columns if col not in to_exclude]\n",
    "\n",
    "sns.boxplot(data=df[columns_to_plot], orient='h', palette='Set2')\n",
    "\n",
    "plt.title('Box plot for all continuous variables in the dataset')\n",
    "\n",
    "plt.show()\n",
    "\n",
    "\n"
   ]
  },
  {
   "cell_type": "code",
   "execution_count": 23,
   "id": "439c30d8",
   "metadata": {},
   "outputs": [
    {
     "name": "stderr",
     "output_type": "stream",
     "text": [
      "/var/folders/k2/kj7q9j0j0g3gwyst556zcjh40000gn/T/ipykernel_9966/532613626.py:3: FutureWarning: The default value of numeric_only in DataFrame.corr is deprecated. In a future version, it will default to False. Select only valid columns or specify the value of numeric_only to silence this warning.\n",
      "  df.corr().abs(),\n"
     ]
    },
    {
     "data": {
      "image/png": "[encoded data removed]",
      "text/plain": [
       "<Figure size 1500x1000 with 2 Axes>"
      ]
     },
     "metadata": {},
     "output_type": "display_data"
    }
   ],
   "source": [
    "plt.figure(figsize=(15,10))\n",
    "_ = sns.heatmap(\n",
    "df.corr().abs(),\n",
    "annot=True,\n",
    "fmt='.2g',\n",
    "cmap='Blues'\n",
    ")"
   ]
  },
  {
   "cell_type": "code",
   "execution_count": 28,
   "id": "012fa955",
   "metadata": {},
   "outputs": [
    {
     "data": {
      "image/png": "[encoded data removed]",
      "text/plain": [
       "<Figure size 640x480 with 1 Axes>"
      ]
     },
     "metadata": {},
     "output_type": "display_data"
    }
   ],
   "source": [
    "plt.hist(df['mfr'], bins=5, edgecolor='yellow')\n",
    "plt.xlabel('mfr')\n",
    "plt.ylabel('Frequency')\n",
    "plt.title('Histogram of rating distribution')\n",
    "plt.show()"
   ]
  },
  {
   "cell_type": "raw",
   "id": "d23ef333",
   "metadata": {},
   "source": [
    "dependency on the dependant variable\n"
   ]
  },
  {
   "cell_type": "code",
   "execution_count": 25,
   "id": "661fec66",
   "metadata": {},
   "outputs": [],
   "source": [
    "correlation_columns = df.select_dtypes(include=np.number).columns\n",
    "correlation_columns_to_ignore = [\n",
    "    'name',\n",
    "    TARGET_VARIABLE\n",
    "]\n",
    "\n",
    "correlation_columns_to_plot = [col for col in correlation_columns if col not in correlation_columns_to_ignore]\n",
    "sns.set_theme(style='white')\n",
    "def correlation_visualizer(df_subplot, index, col, ax, color_palette)-> None:\n",
    "    temp_correlation_plot = sns.histplot(\n",
    "    data=df_subplot,\n",
    "    x=col,\n",
    "    y=TARGET_VARIABLE,\n",
    "    ax=ax,\n",
    "    palette=color_palette,\n",
    "    )\n",
    "    \n",
    "    subplots_grid_visualizer(\n",
    "    Title = 'oVERALL CEREALS DATASET CORRELATION',\n",
    "    dataframe = df,\n",
    "    columns = correlation_columns_to_plot,\n",
    "    n_cols=6, visualizer = correlation_visualizer,\n",
    "    \n",
    "    subplots_adjustment={\n",
    "    'top': 0.9,\n",
    "    'bottom': None,\n",
    "    'wspace': 0.2,\n",
    "    'hspace': 0.2,\n",
    "  }\n",
    ")\n",
    "                               \n",
    "                               "
   ]
  },
  {
   "cell_type": "code",
   "execution_count": 26,
   "id": "1b0039de",
   "metadata": {},
   "outputs": [],
   "source": [
    "def subplots_grid_visualizer(\n",
    "  dataframe: df,\n",
    "  columns: list[str],\n",
    "  visualizer: callable,\n",
    "  n_cols: int = 5,\n",
    "  subplot_col_width: float = 7.5,\n",
    "  subplot_col_height: float = 5,\n",
    "  color_palette = sns.color_palette('Paired'),\n",
    "  subplots_adjustment: dict = default_subplot_adjustment,\n",
    "  title: str = None,\n",
    "  figsize: tuple[float, float] = None\n",
    ") -> None:\n",
    "  df_subplot = dataframe.copy(deep=True)\n",
    "  # subplots grid configuration\n",
    "  total_columns = len(columns)\n",
    "  cols_to_display = n_cols\n",
    "  rows_to_display = cell(total_columns / cols_to_display)\n",
    "\n",
    "  # subplots sizing\n",
    "  if not figsize:\n",
    "    figsize = (\n",
    "      cols_to_display * subplot_col_width,\n",
    "      rows_to_display * subplot_col_height\n",
    "    )\n",
    "\n",
    "  # subplots initialization\n",
    "  fig, axes = plt.subplots(rows_to_display, cols_to_display, figsize=figsize)\n",
    "  if title:\n",
    "    plt.suptitle(title, fontsize='xx-large')\n",
    "\n",
    "  # set the spacing between subplots\n",
    "  plt.subplots_adjust(**subplots_adjustment)\n",
    "\n",
    "  # the actual plotting\n",
    "  for index, col in enumerate(columns):\n",
    "    ax = axes[\n",
    "      int(index / cols_to_display),\n",
    "      int(index % cols_to_display)\n",
    "    ]\n",
    "    visualizer(df_subplot, index, col, ax, color_palette)"
   ]
  },
  {
   "cell_type": "code",
   "execution_count": 91,
   "id": "0f0dd183",
   "metadata": {},
   "outputs": [
    {
     "ename": "NameError",
     "evalue": "name 'cell' is not defined",
     "output_type": "error",
     "traceback": [
      "\u001b[0;31m---------------------------------------------------------------------------\u001b[0m",
      "\u001b[0;31mNameError\u001b[0m                                 Traceback (most recent call last)",
      "Cell \u001b[0;32mIn [91], line 4\u001b[0m\n\u001b[1;32m      1\u001b[0m columns_to_plot \u001b[38;5;241m=\u001b[39m [col \u001b[38;5;28;01mfor\u001b[39;00m col \u001b[38;5;129;01min\u001b[39;00m df\u001b[38;5;241m.\u001b[39mselect_dtypes(include\u001b[38;5;241m=\u001b[39mnp\u001b[38;5;241m.\u001b[39mnumber)\u001b[38;5;241m.\u001b[39mcolumns \u001b[38;5;28;01mif\u001b[39;00m col \u001b[38;5;129;01mnot\u001b[39;00m \u001b[38;5;129;01min\u001b[39;00m [ TARGET_VARIABLE ] ]\n\u001b[1;32m      3\u001b[0m sns\u001b[38;5;241m.\u001b[39mset_theme(style\u001b[38;5;241m=\u001b[39m\u001b[38;5;124m'\u001b[39m\u001b[38;5;124mwhite\u001b[39m\u001b[38;5;124m'\u001b[39m)\n\u001b[0;32m----> 4\u001b[0m \u001b[43msubplots_grid_visualizer\u001b[49m\u001b[43m(\u001b[49m\n\u001b[1;32m      5\u001b[0m \u001b[43m  \u001b[49m\u001b[43mdataframe\u001b[49m\u001b[38;5;241;43m=\u001b[39;49m\u001b[43mdf\u001b[49m\u001b[43m,\u001b[49m\n\u001b[1;32m      6\u001b[0m \u001b[43m  \u001b[49m\u001b[43mcolumns\u001b[49m\u001b[38;5;241;43m=\u001b[39;49m\u001b[43mcolumns_to_plot\u001b[49m\u001b[43m,\u001b[49m\n\u001b[1;32m      7\u001b[0m \u001b[43m  \u001b[49m\u001b[43mn_cols\u001b[49m\u001b[38;5;241;43m=\u001b[39;49m\u001b[38;5;241;43m4\u001b[39;49m\u001b[43m,\u001b[49m\n\u001b[1;32m      8\u001b[0m \u001b[43m  \u001b[49m\u001b[43mvisualizer\u001b[49m\u001b[38;5;241;43m=\u001b[39;49m\u001b[38;5;28;43;01mlambda\u001b[39;49;00m\u001b[43m \u001b[49m\u001b[43mdf_subplot\u001b[49m\u001b[43m,\u001b[49m\u001b[43m \u001b[49m\u001b[43mindex\u001b[49m\u001b[43m,\u001b[49m\u001b[43m \u001b[49m\u001b[43mcol\u001b[49m\u001b[43m,\u001b[49m\u001b[43m \u001b[49m\u001b[43max\u001b[49m\u001b[43m,\u001b[49m\u001b[43m \u001b[49m\u001b[43mcolor_palette\u001b[49m\u001b[43m:\u001b[49m\u001b[43m \u001b[49m\u001b[43m(\u001b[49m\n\u001b[1;32m      9\u001b[0m \u001b[43m    \u001b[49m\u001b[43msns\u001b[49m\u001b[38;5;241;43m.\u001b[39;49m\u001b[43mhistplot\u001b[49m\u001b[43m(\u001b[49m\u001b[43mdata\u001b[49m\u001b[38;5;241;43m=\u001b[39;49m\u001b[43mdf_subplot\u001b[49m\u001b[43m,\u001b[49m\u001b[43m \u001b[49m\u001b[43max\u001b[49m\u001b[38;5;241;43m=\u001b[39;49m\u001b[43max\u001b[49m\u001b[43m,\u001b[49m\u001b[43m \u001b[49m\u001b[43mx\u001b[49m\u001b[38;5;241;43m=\u001b[39;49m\u001b[43mcol\u001b[49m\u001b[43m)\u001b[49m\n\u001b[1;32m     10\u001b[0m \u001b[43m  \u001b[49m\u001b[43m)\u001b[49m\u001b[43m,\u001b[49m\n\u001b[1;32m     11\u001b[0m \u001b[43m  \u001b[49m\u001b[43msubplot_col_width\u001b[49m\u001b[43m \u001b[49m\u001b[38;5;241;43m=\u001b[39;49m\u001b[43m \u001b[49m\u001b[38;5;241;43m7.5\u001b[39;49m\u001b[43m,\u001b[49m\n\u001b[1;32m     12\u001b[0m \u001b[43m  \u001b[49m\u001b[43msubplot_col_height\u001b[49m\u001b[43m \u001b[49m\u001b[38;5;241;43m=\u001b[39;49m\u001b[43m \u001b[49m\u001b[38;5;241;43m5\u001b[39;49m\u001b[43m,\u001b[49m\n\u001b[1;32m     13\u001b[0m \u001b[43m  \u001b[49m\u001b[43msubplots_adjustment\u001b[49m\u001b[38;5;241;43m=\u001b[39;49m\u001b[43m{\u001b[49m\n\u001b[1;32m     14\u001b[0m \u001b[43m    \u001b[49m\u001b[38;5;124;43m'\u001b[39;49m\u001b[38;5;124;43mwspace\u001b[39;49m\u001b[38;5;124;43m'\u001b[39;49m\u001b[43m:\u001b[49m\u001b[43m \u001b[49m\u001b[38;5;241;43m0.2\u001b[39;49m\u001b[43m,\u001b[49m\n\u001b[1;32m     15\u001b[0m \u001b[43m    \u001b[49m\u001b[38;5;124;43m'\u001b[39;49m\u001b[38;5;124;43mhspace\u001b[39;49m\u001b[38;5;124;43m'\u001b[39;49m\u001b[43m:\u001b[49m\u001b[43m \u001b[49m\u001b[38;5;241;43m0.2\u001b[39;49m\u001b[43m,\u001b[49m\n\u001b[1;32m     16\u001b[0m \u001b[43m  \u001b[49m\u001b[43m}\u001b[49m\n\u001b[1;32m     17\u001b[0m \u001b[43m)\u001b[49m\n",
      "Cell \u001b[0;32mIn [26], line 17\u001b[0m, in \u001b[0;36msubplots_grid_visualizer\u001b[0;34m(dataframe, columns, visualizer, n_cols, subplot_col_width, subplot_col_height, color_palette, subplots_adjustment, title, figsize)\u001b[0m\n\u001b[1;32m     15\u001b[0m total_columns \u001b[38;5;241m=\u001b[39m \u001b[38;5;28mlen\u001b[39m(columns)\n\u001b[1;32m     16\u001b[0m cols_to_display \u001b[38;5;241m=\u001b[39m n_cols\n\u001b[0;32m---> 17\u001b[0m rows_to_display \u001b[38;5;241m=\u001b[39m \u001b[43mcell\u001b[49m(total_columns \u001b[38;5;241m/\u001b[39m cols_to_display)\n\u001b[1;32m     19\u001b[0m \u001b[38;5;66;03m# subplots sizing\u001b[39;00m\n\u001b[1;32m     20\u001b[0m \u001b[38;5;28;01mif\u001b[39;00m \u001b[38;5;129;01mnot\u001b[39;00m figsize:\n",
      "\u001b[0;31mNameError\u001b[0m: name 'cell' is not defined"
     ]
    }
   ],
   "source": [
    "columns_to_plot = [col for col in df.select_dtypes(include=np.number).columns if col not in [ TARGET_VARIABLE ] ]\n",
    "\n",
    "sns.set_theme(style='white')\n",
    "subplots_grid_visualizer(\n",
    "  dataframe=df,\n",
    "  columns=columns_to_plot,\n",
    "  n_cols=4,\n",
    "  visualizer=lambda df_subplot, index, col, ax, color_palette: (\n",
    "    sns.histplot(data=df_subplot, ax=ax, x=col)\n",
    "  ),\n",
    "  subplot_col_width = 7.5,\n",
    "  subplot_col_height = 5,\n",
    "  subplots_adjustment={\n",
    "    'wspace': 0.2,\n",
    "    'hspace': 0.2,\n",
    "  }\n",
    ")"
   ]
  },
  {
   "cell_type": "code",
   "execution_count": null,
   "id": "aaf92133",
   "metadata": {},
   "outputs": [],
   "source": [
    "df.head(77)"
   ]
  },
  {
   "cell_type": "code",
   "execution_count": 29,
   "id": "3a8f3e98",
   "metadata": {},
   "outputs": [],
   "source": [
    "sort_temp_df = df.copy()\n",
    "sort_temp_df = sort_temp_df.sort_values(by=['rating'], ignore_index=True)"
   ]
  },
  {
   "cell_type": "code",
   "execution_count": 30,
   "id": "755982e0",
   "metadata": {},
   "outputs": [],
   "source": [
    "sns.set_theme(style=\"ticks\")"
   ]
  },
  {
   "cell_type": "code",
   "execution_count": 31,
   "id": "972a0d51",
   "metadata": {},
   "outputs": [
    {
     "data": {
      "image/png": "[encoded data removed]",
      "text/plain": [
       "<Figure size 1000x500 with 1 Axes>"
      ]
     },
     "metadata": {},
     "output_type": "display_data"
    }
   ],
   "source": [
    "plt.figure(figsize=(10, 5))\n",
    "\n",
    "plt.scatter(x=sort_temp_df.rating.index, y=sort_temp_df.rating)\n",
    "\n",
    "_ = plt.xlabel('Index')\n",
    "_ = plt.ylabel('Rating')"
   ]
  },
  {
   "cell_type": "code",
   "execution_count": 32,
   "id": "18259c04",
   "metadata": {},
   "outputs": [
    {
     "data": {
      "image/png": "[encoded data removed]",
      "text/plain": [
       "<Figure size 1000x500 with 1 Axes>"
      ]
     },
     "metadata": {},
     "output_type": "display_data"
    }
   ],
   "source": [
    "plt.figure(figsize=(10, 5))\n",
    "\n",
    "# the less steps the more detailed\n",
    "steps = 10\n",
    "# steps = 2\n",
    "\n",
    "# the stepped dataframe jumping by n intervals\n",
    "stepped_sort_temp_df = sort_temp_df[::steps]\n",
    "plt.plot(stepped_sort_temp_df.rating.index, stepped_sort_temp_df.rating)\n",
    "\n",
    "_ = plt.xlabel('Index')\n",
    "_ = plt.ylabel('Rating')"
   ]
  },
  {
   "cell_type": "code",
   "execution_count": 33,
   "id": "b1784eca",
   "metadata": {},
   "outputs": [
    {
     "data": {
      "image/png": "[encoded data removed]",
      "text/plain": [
       "<Figure size 1000x500 with 1 Axes>"
      ]
     },
     "metadata": {},
     "output_type": "display_data"
    }
   ],
   "source": [
    "plt.figure(figsize=(10, 5))\n",
    "\n",
    "# the less steps the more detailed\n",
    "steps = 2\n",
    "# steps = \n",
    "\n",
    "# the stepped dataframe jumping by n intervals\n",
    "stepped_sort_temp_df = sort_temp_df[::steps]\n",
    "plt.plot(stepped_sort_temp_df.rating.index, stepped_sort_temp_df.rating)\n",
    "\n",
    "_ = plt.xlabel('Index')\n",
    "_ = plt.ylabel('Rating')"
   ]
  },
  {
   "cell_type": "markdown",
   "id": "85fa0fc4",
   "metadata": {},
   "source": [
    "# data analysis\n"
   ]
  },
  {
   "cell_type": "code",
   "execution_count": 34,
   "id": "a7e042ec",
   "metadata": {},
   "outputs": [],
   "source": [
    "df_clean = df.copy(deep=True)"
   ]
  },
  {
   "cell_type": "code",
   "execution_count": 35,
   "id": "64303142",
   "metadata": {},
   "outputs": [],
   "source": [
    "df_clean = df_clean[df_clean['carbo'] >=0.0]\n",
    "df_clean = df_clean[df_clean['sugars'] >=0.0]\n",
    "df_clean = df_clean[df_clean['potass'] >=0.0]"
   ]
  },
  {
   "cell_type": "code",
   "execution_count": 36,
   "id": "4e9cd99c",
   "metadata": {},
   "outputs": [],
   "source": [
    "df_clean['mfr'] = df_clean['mfr'].apply(lambda x: manufacturer_dict[x])"
   ]
  },
  {
   "cell_type": "code",
   "execution_count": 38,
   "id": "eb50a373",
   "metadata": {},
   "outputs": [
    {
     "data": {
      "text/html": [
       "<div>\n",
       "<style scoped>\n",
       "    .dataframe tbody tr th:only-of-type {\n",
       "        vertical-align: middle;\n",
       "    }\n",
       "\n",
       "    .dataframe tbody tr th {\n",
       "        vertical-align: top;\n",
       "    }\n",
       "\n",
       "    .dataframe thead th {\n",
       "        text-align: right;\n",
       "    }\n",
       "</style>\n",
       "<table border=\"1\" class=\"dataframe\">\n",
       "  <thead>\n",
       "    <tr style=\"text-align: right;\">\n",
       "      <th></th>\n",
       "      <th>name</th>\n",
       "      <th>mfr</th>\n",
       "      <th>type</th>\n",
       "      <th>calories</th>\n",
       "      <th>protein</th>\n",
       "      <th>fat</th>\n",
       "      <th>sodium</th>\n",
       "      <th>fiber</th>\n",
       "      <th>carbo</th>\n",
       "      <th>sugars</th>\n",
       "      <th>potass</th>\n",
       "      <th>vitamins</th>\n",
       "      <th>shelf</th>\n",
       "      <th>weight</th>\n",
       "      <th>cups</th>\n",
       "      <th>rating</th>\n",
       "    </tr>\n",
       "  </thead>\n",
       "  <tbody>\n",
       "    <tr>\n",
       "      <th>0</th>\n",
       "      <td>100% Bran</td>\n",
       "      <td>Nabisco</td>\n",
       "      <td>C</td>\n",
       "      <td>70</td>\n",
       "      <td>4</td>\n",
       "      <td>1</td>\n",
       "      <td>130</td>\n",
       "      <td>10.0</td>\n",
       "      <td>5.0</td>\n",
       "      <td>6</td>\n",
       "      <td>280</td>\n",
       "      <td>25</td>\n",
       "      <td>3</td>\n",
       "      <td>1.0</td>\n",
       "      <td>0.33</td>\n",
       "      <td>68.402973</td>\n",
       "    </tr>\n",
       "    <tr>\n",
       "      <th>1</th>\n",
       "      <td>100% Natural Bran</td>\n",
       "      <td>Quaker Oats</td>\n",
       "      <td>C</td>\n",
       "      <td>120</td>\n",
       "      <td>3</td>\n",
       "      <td>5</td>\n",
       "      <td>15</td>\n",
       "      <td>2.0</td>\n",
       "      <td>8.0</td>\n",
       "      <td>8</td>\n",
       "      <td>135</td>\n",
       "      <td>0</td>\n",
       "      <td>3</td>\n",
       "      <td>1.0</td>\n",
       "      <td>1.00</td>\n",
       "      <td>33.983679</td>\n",
       "    </tr>\n",
       "    <tr>\n",
       "      <th>2</th>\n",
       "      <td>All-Bran</td>\n",
       "      <td>Kelloggs</td>\n",
       "      <td>C</td>\n",
       "      <td>70</td>\n",
       "      <td>4</td>\n",
       "      <td>1</td>\n",
       "      <td>260</td>\n",
       "      <td>9.0</td>\n",
       "      <td>7.0</td>\n",
       "      <td>5</td>\n",
       "      <td>320</td>\n",
       "      <td>25</td>\n",
       "      <td>3</td>\n",
       "      <td>1.0</td>\n",
       "      <td>0.33</td>\n",
       "      <td>59.425505</td>\n",
       "    </tr>\n",
       "    <tr>\n",
       "      <th>3</th>\n",
       "      <td>All-Bran with Extra Fiber</td>\n",
       "      <td>Kelloggs</td>\n",
       "      <td>C</td>\n",
       "      <td>50</td>\n",
       "      <td>4</td>\n",
       "      <td>0</td>\n",
       "      <td>140</td>\n",
       "      <td>14.0</td>\n",
       "      <td>8.0</td>\n",
       "      <td>0</td>\n",
       "      <td>330</td>\n",
       "      <td>25</td>\n",
       "      <td>3</td>\n",
       "      <td>1.0</td>\n",
       "      <td>0.50</td>\n",
       "      <td>93.704912</td>\n",
       "    </tr>\n",
       "    <tr>\n",
       "      <th>5</th>\n",
       "      <td>Apple Cinnamon Cheerios</td>\n",
       "      <td>General Mills</td>\n",
       "      <td>C</td>\n",
       "      <td>110</td>\n",
       "      <td>2</td>\n",
       "      <td>2</td>\n",
       "      <td>180</td>\n",
       "      <td>1.5</td>\n",
       "      <td>10.5</td>\n",
       "      <td>10</td>\n",
       "      <td>70</td>\n",
       "      <td>25</td>\n",
       "      <td>1</td>\n",
       "      <td>1.0</td>\n",
       "      <td>0.75</td>\n",
       "      <td>29.509541</td>\n",
       "    </tr>\n",
       "  </tbody>\n",
       "</table>\n",
       "</div>"
      ],
      "text/plain": [
       "                        name            mfr type  calories  protein  fat  \\\n",
       "0                  100% Bran        Nabisco    C        70        4    1   \n",
       "1          100% Natural Bran    Quaker Oats    C       120        3    5   \n",
       "2                   All-Bran       Kelloggs    C        70        4    1   \n",
       "3  All-Bran with Extra Fiber       Kelloggs    C        50        4    0   \n",
       "5    Apple Cinnamon Cheerios  General Mills    C       110        2    2   \n",
       "\n",
       "   sodium  fiber  carbo  sugars  potass  vitamins  shelf  weight  cups  \\\n",
       "0     130   10.0    5.0       6     280        25      3     1.0  0.33   \n",
       "1      15    2.0    8.0       8     135         0      3     1.0  1.00   \n",
       "2     260    9.0    7.0       5     320        25      3     1.0  0.33   \n",
       "3     140   14.0    8.0       0     330        25      3     1.0  0.50   \n",
       "5     180    1.5   10.5      10      70        25      1     1.0  0.75   \n",
       "\n",
       "      rating  \n",
       "0  68.402973  \n",
       "1  33.983679  \n",
       "2  59.425505  \n",
       "3  93.704912  \n",
       "5  29.509541  "
      ]
     },
     "execution_count": 38,
     "metadata": {},
     "output_type": "execute_result"
    }
   ],
   "source": [
    "df_clean.head()"
   ]
  },
  {
   "cell_type": "code",
   "execution_count": 39,
   "id": "76cd7aba",
   "metadata": {},
   "outputs": [
    {
     "data": {
      "text/html": [
       "<div>\n",
       "<style scoped>\n",
       "    .dataframe tbody tr th:only-of-type {\n",
       "        vertical-align: middle;\n",
       "    }\n",
       "\n",
       "    .dataframe tbody tr th {\n",
       "        vertical-align: top;\n",
       "    }\n",
       "\n",
       "    .dataframe thead th {\n",
       "        text-align: right;\n",
       "    }\n",
       "</style>\n",
       "<table border=\"1\" class=\"dataframe\">\n",
       "  <thead>\n",
       "    <tr style=\"text-align: right;\">\n",
       "      <th></th>\n",
       "      <th>name</th>\n",
       "      <th>mfr</th>\n",
       "      <th>type</th>\n",
       "      <th>calories</th>\n",
       "      <th>protein</th>\n",
       "      <th>fat</th>\n",
       "      <th>sodium</th>\n",
       "      <th>fiber</th>\n",
       "      <th>carbo</th>\n",
       "      <th>sugars</th>\n",
       "      <th>potass</th>\n",
       "      <th>vitamins</th>\n",
       "      <th>shelf</th>\n",
       "      <th>weight</th>\n",
       "      <th>cups</th>\n",
       "      <th>rating</th>\n",
       "    </tr>\n",
       "  </thead>\n",
       "  <tbody>\n",
       "    <tr>\n",
       "      <th>0</th>\n",
       "      <td>100% Bran</td>\n",
       "      <td>N</td>\n",
       "      <td>C</td>\n",
       "      <td>70</td>\n",
       "      <td>4</td>\n",
       "      <td>1</td>\n",
       "      <td>130</td>\n",
       "      <td>10.0</td>\n",
       "      <td>5.0</td>\n",
       "      <td>6</td>\n",
       "      <td>280</td>\n",
       "      <td>25</td>\n",
       "      <td>3</td>\n",
       "      <td>1.0</td>\n",
       "      <td>0.33</td>\n",
       "      <td>68.402973</td>\n",
       "    </tr>\n",
       "    <tr>\n",
       "      <th>1</th>\n",
       "      <td>100% Natural Bran</td>\n",
       "      <td>Q</td>\n",
       "      <td>C</td>\n",
       "      <td>120</td>\n",
       "      <td>3</td>\n",
       "      <td>5</td>\n",
       "      <td>15</td>\n",
       "      <td>2.0</td>\n",
       "      <td>8.0</td>\n",
       "      <td>8</td>\n",
       "      <td>135</td>\n",
       "      <td>0</td>\n",
       "      <td>3</td>\n",
       "      <td>1.0</td>\n",
       "      <td>1.00</td>\n",
       "      <td>33.983679</td>\n",
       "    </tr>\n",
       "    <tr>\n",
       "      <th>2</th>\n",
       "      <td>All-Bran</td>\n",
       "      <td>K</td>\n",
       "      <td>C</td>\n",
       "      <td>70</td>\n",
       "      <td>4</td>\n",
       "      <td>1</td>\n",
       "      <td>260</td>\n",
       "      <td>9.0</td>\n",
       "      <td>7.0</td>\n",
       "      <td>5</td>\n",
       "      <td>320</td>\n",
       "      <td>25</td>\n",
       "      <td>3</td>\n",
       "      <td>1.0</td>\n",
       "      <td>0.33</td>\n",
       "      <td>59.425505</td>\n",
       "    </tr>\n",
       "    <tr>\n",
       "      <th>3</th>\n",
       "      <td>All-Bran with Extra Fiber</td>\n",
       "      <td>K</td>\n",
       "      <td>C</td>\n",
       "      <td>50</td>\n",
       "      <td>4</td>\n",
       "      <td>0</td>\n",
       "      <td>140</td>\n",
       "      <td>14.0</td>\n",
       "      <td>8.0</td>\n",
       "      <td>0</td>\n",
       "      <td>330</td>\n",
       "      <td>25</td>\n",
       "      <td>3</td>\n",
       "      <td>1.0</td>\n",
       "      <td>0.50</td>\n",
       "      <td>93.704912</td>\n",
       "    </tr>\n",
       "    <tr>\n",
       "      <th>4</th>\n",
       "      <td>Almond Delight</td>\n",
       "      <td>R</td>\n",
       "      <td>C</td>\n",
       "      <td>110</td>\n",
       "      <td>2</td>\n",
       "      <td>2</td>\n",
       "      <td>200</td>\n",
       "      <td>1.0</td>\n",
       "      <td>14.0</td>\n",
       "      <td>8</td>\n",
       "      <td>-1</td>\n",
       "      <td>25</td>\n",
       "      <td>3</td>\n",
       "      <td>1.0</td>\n",
       "      <td>0.75</td>\n",
       "      <td>34.384843</td>\n",
       "    </tr>\n",
       "  </tbody>\n",
       "</table>\n",
       "</div>"
      ],
      "text/plain": [
       "                        name mfr type  calories  protein  fat  sodium  fiber  \\\n",
       "0                  100% Bran   N    C        70        4    1     130   10.0   \n",
       "1          100% Natural Bran   Q    C       120        3    5      15    2.0   \n",
       "2                   All-Bran   K    C        70        4    1     260    9.0   \n",
       "3  All-Bran with Extra Fiber   K    C        50        4    0     140   14.0   \n",
       "4             Almond Delight   R    C       110        2    2     200    1.0   \n",
       "\n",
       "   carbo  sugars  potass  vitamins  shelf  weight  cups     rating  \n",
       "0    5.0       6     280        25      3     1.0  0.33  68.402973  \n",
       "1    8.0       8     135         0      3     1.0  1.00  33.983679  \n",
       "2    7.0       5     320        25      3     1.0  0.33  59.425505  \n",
       "3    8.0       0     330        25      3     1.0  0.50  93.704912  \n",
       "4   14.0       8      -1        25      3     1.0  0.75  34.384843  "
      ]
     },
     "execution_count": 39,
     "metadata": {},
     "output_type": "execute_result"
    }
   ],
   "source": [
    "df.head()"
   ]
  },
  {
   "cell_type": "code",
   "execution_count": 40,
   "id": "719406ba",
   "metadata": {},
   "outputs": [],
   "source": [
    "df_clean['type'] = df_clean['type'].apply(lambda x: type_dict[x])"
   ]
  },
  {
   "cell_type": "code",
   "execution_count": 41,
   "id": "31090592",
   "metadata": {},
   "outputs": [
    {
     "data": {
      "text/html": [
       "<div>\n",
       "<style scoped>\n",
       "    .dataframe tbody tr th:only-of-type {\n",
       "        vertical-align: middle;\n",
       "    }\n",
       "\n",
       "    .dataframe tbody tr th {\n",
       "        vertical-align: top;\n",
       "    }\n",
       "\n",
       "    .dataframe thead th {\n",
       "        text-align: right;\n",
       "    }\n",
       "</style>\n",
       "<table border=\"1\" class=\"dataframe\">\n",
       "  <thead>\n",
       "    <tr style=\"text-align: right;\">\n",
       "      <th></th>\n",
       "      <th>name</th>\n",
       "      <th>mfr</th>\n",
       "      <th>type</th>\n",
       "      <th>calories</th>\n",
       "      <th>protein</th>\n",
       "      <th>fat</th>\n",
       "      <th>sodium</th>\n",
       "      <th>fiber</th>\n",
       "      <th>carbo</th>\n",
       "      <th>sugars</th>\n",
       "      <th>potass</th>\n",
       "      <th>vitamins</th>\n",
       "      <th>shelf</th>\n",
       "      <th>weight</th>\n",
       "      <th>cups</th>\n",
       "      <th>rating</th>\n",
       "    </tr>\n",
       "  </thead>\n",
       "  <tbody>\n",
       "    <tr>\n",
       "      <th>0</th>\n",
       "      <td>100% Bran</td>\n",
       "      <td>Nabisco</td>\n",
       "      <td>Cold</td>\n",
       "      <td>70</td>\n",
       "      <td>4</td>\n",
       "      <td>1</td>\n",
       "      <td>130</td>\n",
       "      <td>10.0</td>\n",
       "      <td>5.0</td>\n",
       "      <td>6</td>\n",
       "      <td>280</td>\n",
       "      <td>25</td>\n",
       "      <td>3</td>\n",
       "      <td>1.0</td>\n",
       "      <td>0.33</td>\n",
       "      <td>68.402973</td>\n",
       "    </tr>\n",
       "    <tr>\n",
       "      <th>1</th>\n",
       "      <td>100% Natural Bran</td>\n",
       "      <td>Quaker Oats</td>\n",
       "      <td>Cold</td>\n",
       "      <td>120</td>\n",
       "      <td>3</td>\n",
       "      <td>5</td>\n",
       "      <td>15</td>\n",
       "      <td>2.0</td>\n",
       "      <td>8.0</td>\n",
       "      <td>8</td>\n",
       "      <td>135</td>\n",
       "      <td>0</td>\n",
       "      <td>3</td>\n",
       "      <td>1.0</td>\n",
       "      <td>1.00</td>\n",
       "      <td>33.983679</td>\n",
       "    </tr>\n",
       "    <tr>\n",
       "      <th>2</th>\n",
       "      <td>All-Bran</td>\n",
       "      <td>Kelloggs</td>\n",
       "      <td>Cold</td>\n",
       "      <td>70</td>\n",
       "      <td>4</td>\n",
       "      <td>1</td>\n",
       "      <td>260</td>\n",
       "      <td>9.0</td>\n",
       "      <td>7.0</td>\n",
       "      <td>5</td>\n",
       "      <td>320</td>\n",
       "      <td>25</td>\n",
       "      <td>3</td>\n",
       "      <td>1.0</td>\n",
       "      <td>0.33</td>\n",
       "      <td>59.425505</td>\n",
       "    </tr>\n",
       "    <tr>\n",
       "      <th>3</th>\n",
       "      <td>All-Bran with Extra Fiber</td>\n",
       "      <td>Kelloggs</td>\n",
       "      <td>Cold</td>\n",
       "      <td>50</td>\n",
       "      <td>4</td>\n",
       "      <td>0</td>\n",
       "      <td>140</td>\n",
       "      <td>14.0</td>\n",
       "      <td>8.0</td>\n",
       "      <td>0</td>\n",
       "      <td>330</td>\n",
       "      <td>25</td>\n",
       "      <td>3</td>\n",
       "      <td>1.0</td>\n",
       "      <td>0.50</td>\n",
       "      <td>93.704912</td>\n",
       "    </tr>\n",
       "    <tr>\n",
       "      <th>5</th>\n",
       "      <td>Apple Cinnamon Cheerios</td>\n",
       "      <td>General Mills</td>\n",
       "      <td>Cold</td>\n",
       "      <td>110</td>\n",
       "      <td>2</td>\n",
       "      <td>2</td>\n",
       "      <td>180</td>\n",
       "      <td>1.5</td>\n",
       "      <td>10.5</td>\n",
       "      <td>10</td>\n",
       "      <td>70</td>\n",
       "      <td>25</td>\n",
       "      <td>1</td>\n",
       "      <td>1.0</td>\n",
       "      <td>0.75</td>\n",
       "      <td>29.509541</td>\n",
       "    </tr>\n",
       "  </tbody>\n",
       "</table>\n",
       "</div>"
      ],
      "text/plain": [
       "                        name            mfr  type  calories  protein  fat  \\\n",
       "0                  100% Bran        Nabisco  Cold        70        4    1   \n",
       "1          100% Natural Bran    Quaker Oats  Cold       120        3    5   \n",
       "2                   All-Bran       Kelloggs  Cold        70        4    1   \n",
       "3  All-Bran with Extra Fiber       Kelloggs  Cold        50        4    0   \n",
       "5    Apple Cinnamon Cheerios  General Mills  Cold       110        2    2   \n",
       "\n",
       "   sodium  fiber  carbo  sugars  potass  vitamins  shelf  weight  cups  \\\n",
       "0     130   10.0    5.0       6     280        25      3     1.0  0.33   \n",
       "1      15    2.0    8.0       8     135         0      3     1.0  1.00   \n",
       "2     260    9.0    7.0       5     320        25      3     1.0  0.33   \n",
       "3     140   14.0    8.0       0     330        25      3     1.0  0.50   \n",
       "5     180    1.5   10.5      10      70        25      1     1.0  0.75   \n",
       "\n",
       "      rating  \n",
       "0  68.402973  \n",
       "1  33.983679  \n",
       "2  59.425505  \n",
       "3  93.704912  \n",
       "5  29.509541  "
      ]
     },
     "execution_count": 41,
     "metadata": {},
     "output_type": "execute_result"
    }
   ],
   "source": [
    "df_clean.head()"
   ]
  },
  {
   "cell_type": "code",
   "execution_count": 56,
   "id": "1e23938a",
   "metadata": {},
   "outputs": [
    {
     "name": "stdout",
     "output_type": "stream",
     "text": [
      "0      6\n",
      "1      8\n",
      "2      5\n",
      "3      0\n",
      "4      8\n",
      "      ..\n",
      "72     3\n",
      "73    12\n",
      "74     3\n",
      "75     3\n",
      "76     8\n",
      "Name: sugars, Length: 77, dtype: int64\n"
     ]
    }
   ],
   "source": [
    "if(df['sugars']<=0.0).any():\n",
    "    print (df['sugars'])"
   ]
  },
  {
   "cell_type": "code",
   "execution_count": 60,
   "id": "7873759d",
   "metadata": {},
   "outputs": [
    {
     "name": "stdout",
     "output_type": "stream",
     "text": [
      "74\n"
     ]
    }
   ],
   "source": [
    "if (df_clean['sugars']<=0).any():\n",
    "    print(df_clean['sugars'].count())"
   ]
  },
  {
   "cell_type": "code",
   "execution_count": 66,
   "id": "e43bda26",
   "metadata": {},
   "outputs": [
    {
     "data": {
      "text/plain": [
       "74"
      ]
     },
     "execution_count": 66,
     "metadata": {},
     "output_type": "execute_result"
    }
   ],
   "source": [
    "df_clean['potass'].count()"
   ]
  },
  {
   "cell_type": "code",
   "execution_count": 74,
   "id": "56180020",
   "metadata": {},
   "outputs": [
    {
     "data": {
      "text/html": [
       "<div>\n",
       "<style scoped>\n",
       "    .dataframe tbody tr th:only-of-type {\n",
       "        vertical-align: middle;\n",
       "    }\n",
       "\n",
       "    .dataframe tbody tr th {\n",
       "        vertical-align: top;\n",
       "    }\n",
       "\n",
       "    .dataframe thead th {\n",
       "        text-align: right;\n",
       "    }\n",
       "</style>\n",
       "<table border=\"1\" class=\"dataframe\">\n",
       "  <thead>\n",
       "    <tr style=\"text-align: right;\">\n",
       "      <th></th>\n",
       "      <th>calories</th>\n",
       "      <th>protein</th>\n",
       "      <th>fat</th>\n",
       "      <th>sodium</th>\n",
       "      <th>fiber</th>\n",
       "      <th>carbo</th>\n",
       "      <th>sugars</th>\n",
       "      <th>potass</th>\n",
       "      <th>vitamins</th>\n",
       "      <th>shelf</th>\n",
       "      <th>weight</th>\n",
       "      <th>cups</th>\n",
       "      <th>rating</th>\n",
       "    </tr>\n",
       "  </thead>\n",
       "  <tbody>\n",
       "    <tr>\n",
       "      <th>count</th>\n",
       "      <td>74.000000</td>\n",
       "      <td>74.000000</td>\n",
       "      <td>74.000000</td>\n",
       "      <td>74.000000</td>\n",
       "      <td>74.000000</td>\n",
       "      <td>74.000000</td>\n",
       "      <td>74.000000</td>\n",
       "      <td>74.000000</td>\n",
       "      <td>74.000000</td>\n",
       "      <td>74.000000</td>\n",
       "      <td>74.000000</td>\n",
       "      <td>74.000000</td>\n",
       "      <td>74.000000</td>\n",
       "    </tr>\n",
       "    <tr>\n",
       "      <th>mean</th>\n",
       "      <td>107.027027</td>\n",
       "      <td>2.513514</td>\n",
       "      <td>1.000000</td>\n",
       "      <td>162.364865</td>\n",
       "      <td>2.175676</td>\n",
       "      <td>14.729730</td>\n",
       "      <td>7.108108</td>\n",
       "      <td>98.513514</td>\n",
       "      <td>29.054054</td>\n",
       "      <td>2.216216</td>\n",
       "      <td>1.030811</td>\n",
       "      <td>0.821622</td>\n",
       "      <td>42.371787</td>\n",
       "    </tr>\n",
       "    <tr>\n",
       "      <th>std</th>\n",
       "      <td>19.843893</td>\n",
       "      <td>1.075802</td>\n",
       "      <td>1.006826</td>\n",
       "      <td>82.769787</td>\n",
       "      <td>2.423391</td>\n",
       "      <td>3.891675</td>\n",
       "      <td>4.359111</td>\n",
       "      <td>70.878681</td>\n",
       "      <td>22.294352</td>\n",
       "      <td>0.832067</td>\n",
       "      <td>0.153416</td>\n",
       "      <td>0.235715</td>\n",
       "      <td>14.033712</td>\n",
       "    </tr>\n",
       "    <tr>\n",
       "      <th>min</th>\n",
       "      <td>50.000000</td>\n",
       "      <td>1.000000</td>\n",
       "      <td>0.000000</td>\n",
       "      <td>0.000000</td>\n",
       "      <td>0.000000</td>\n",
       "      <td>5.000000</td>\n",
       "      <td>0.000000</td>\n",
       "      <td>15.000000</td>\n",
       "      <td>0.000000</td>\n",
       "      <td>1.000000</td>\n",
       "      <td>0.500000</td>\n",
       "      <td>0.250000</td>\n",
       "      <td>18.042851</td>\n",
       "    </tr>\n",
       "    <tr>\n",
       "      <th>25%</th>\n",
       "      <td>100.000000</td>\n",
       "      <td>2.000000</td>\n",
       "      <td>0.000000</td>\n",
       "      <td>135.000000</td>\n",
       "      <td>0.250000</td>\n",
       "      <td>12.000000</td>\n",
       "      <td>3.000000</td>\n",
       "      <td>41.250000</td>\n",
       "      <td>25.000000</td>\n",
       "      <td>1.250000</td>\n",
       "      <td>1.000000</td>\n",
       "      <td>0.670000</td>\n",
       "      <td>32.449210</td>\n",
       "    </tr>\n",
       "    <tr>\n",
       "      <th>50%</th>\n",
       "      <td>110.000000</td>\n",
       "      <td>2.500000</td>\n",
       "      <td>1.000000</td>\n",
       "      <td>180.000000</td>\n",
       "      <td>2.000000</td>\n",
       "      <td>14.500000</td>\n",
       "      <td>7.000000</td>\n",
       "      <td>90.000000</td>\n",
       "      <td>25.000000</td>\n",
       "      <td>2.000000</td>\n",
       "      <td>1.000000</td>\n",
       "      <td>0.750000</td>\n",
       "      <td>40.253086</td>\n",
       "    </tr>\n",
       "    <tr>\n",
       "      <th>75%</th>\n",
       "      <td>110.000000</td>\n",
       "      <td>3.000000</td>\n",
       "      <td>1.000000</td>\n",
       "      <td>217.500000</td>\n",
       "      <td>3.000000</td>\n",
       "      <td>17.000000</td>\n",
       "      <td>11.000000</td>\n",
       "      <td>120.000000</td>\n",
       "      <td>25.000000</td>\n",
       "      <td>3.000000</td>\n",
       "      <td>1.000000</td>\n",
       "      <td>1.000000</td>\n",
       "      <td>50.520611</td>\n",
       "    </tr>\n",
       "    <tr>\n",
       "      <th>max</th>\n",
       "      <td>160.000000</td>\n",
       "      <td>6.000000</td>\n",
       "      <td>5.000000</td>\n",
       "      <td>320.000000</td>\n",
       "      <td>14.000000</td>\n",
       "      <td>23.000000</td>\n",
       "      <td>15.000000</td>\n",
       "      <td>330.000000</td>\n",
       "      <td>100.000000</td>\n",
       "      <td>3.000000</td>\n",
       "      <td>1.500000</td>\n",
       "      <td>1.500000</td>\n",
       "      <td>93.704912</td>\n",
       "    </tr>\n",
       "  </tbody>\n",
       "</table>\n",
       "</div>"
      ],
      "text/plain": [
       "         calories    protein        fat      sodium      fiber      carbo  \\\n",
       "count   74.000000  74.000000  74.000000   74.000000  74.000000  74.000000   \n",
       "mean   107.027027   2.513514   1.000000  162.364865   2.175676  14.729730   \n",
       "std     19.843893   1.075802   1.006826   82.769787   2.423391   3.891675   \n",
       "min     50.000000   1.000000   0.000000    0.000000   0.000000   5.000000   \n",
       "25%    100.000000   2.000000   0.000000  135.000000   0.250000  12.000000   \n",
       "50%    110.000000   2.500000   1.000000  180.000000   2.000000  14.500000   \n",
       "75%    110.000000   3.000000   1.000000  217.500000   3.000000  17.000000   \n",
       "max    160.000000   6.000000   5.000000  320.000000  14.000000  23.000000   \n",
       "\n",
       "          sugars      potass    vitamins      shelf     weight       cups  \\\n",
       "count  74.000000   74.000000   74.000000  74.000000  74.000000  74.000000   \n",
       "mean    7.108108   98.513514   29.054054   2.216216   1.030811   0.821622   \n",
       "std     4.359111   70.878681   22.294352   0.832067   0.153416   0.235715   \n",
       "min     0.000000   15.000000    0.000000   1.000000   0.500000   0.250000   \n",
       "25%     3.000000   41.250000   25.000000   1.250000   1.000000   0.670000   \n",
       "50%     7.000000   90.000000   25.000000   2.000000   1.000000   0.750000   \n",
       "75%    11.000000  120.000000   25.000000   3.000000   1.000000   1.000000   \n",
       "max    15.000000  330.000000  100.000000   3.000000   1.500000   1.500000   \n",
       "\n",
       "          rating  \n",
       "count  74.000000  \n",
       "mean   42.371787  \n",
       "std    14.033712  \n",
       "min    18.042851  \n",
       "25%    32.449210  \n",
       "50%    40.253086  \n",
       "75%    50.520611  \n",
       "max    93.704912  "
      ]
     },
     "execution_count": 74,
     "metadata": {},
     "output_type": "execute_result"
    }
   ],
   "source": [
    "df_clean.describe()"
   ]
  },
  {
   "cell_type": "code",
   "execution_count": 75,
   "id": "8f28b590",
   "metadata": {},
   "outputs": [
    {
     "data": {
      "text/html": [
       "<div>\n",
       "<style scoped>\n",
       "    .dataframe tbody tr th:only-of-type {\n",
       "        vertical-align: middle;\n",
       "    }\n",
       "\n",
       "    .dataframe tbody tr th {\n",
       "        vertical-align: top;\n",
       "    }\n",
       "\n",
       "    .dataframe thead th {\n",
       "        text-align: right;\n",
       "    }\n",
       "</style>\n",
       "<table border=\"1\" class=\"dataframe\">\n",
       "  <thead>\n",
       "    <tr style=\"text-align: right;\">\n",
       "      <th></th>\n",
       "      <th>name</th>\n",
       "      <th>mfr</th>\n",
       "      <th>type</th>\n",
       "      <th>calories</th>\n",
       "      <th>protein</th>\n",
       "      <th>fat</th>\n",
       "      <th>sodium</th>\n",
       "      <th>fiber</th>\n",
       "      <th>carbo</th>\n",
       "      <th>sugars</th>\n",
       "      <th>potass</th>\n",
       "      <th>vitamins</th>\n",
       "      <th>shelf</th>\n",
       "      <th>weight</th>\n",
       "      <th>cups</th>\n",
       "      <th>rating</th>\n",
       "    </tr>\n",
       "  </thead>\n",
       "  <tbody>\n",
       "    <tr>\n",
       "      <th>0</th>\n",
       "      <td>100% Bran</td>\n",
       "      <td>Nabisco</td>\n",
       "      <td>Cold</td>\n",
       "      <td>70</td>\n",
       "      <td>4</td>\n",
       "      <td>1</td>\n",
       "      <td>130</td>\n",
       "      <td>10.0</td>\n",
       "      <td>5.0</td>\n",
       "      <td>6</td>\n",
       "      <td>280</td>\n",
       "      <td>25</td>\n",
       "      <td>3</td>\n",
       "      <td>1.0</td>\n",
       "      <td>0.33</td>\n",
       "      <td>68.402973</td>\n",
       "    </tr>\n",
       "    <tr>\n",
       "      <th>1</th>\n",
       "      <td>100% Natural Bran</td>\n",
       "      <td>Quaker Oats</td>\n",
       "      <td>Cold</td>\n",
       "      <td>120</td>\n",
       "      <td>3</td>\n",
       "      <td>5</td>\n",
       "      <td>15</td>\n",
       "      <td>2.0</td>\n",
       "      <td>8.0</td>\n",
       "      <td>8</td>\n",
       "      <td>135</td>\n",
       "      <td>0</td>\n",
       "      <td>3</td>\n",
       "      <td>1.0</td>\n",
       "      <td>1.00</td>\n",
       "      <td>33.983679</td>\n",
       "    </tr>\n",
       "    <tr>\n",
       "      <th>2</th>\n",
       "      <td>All-Bran</td>\n",
       "      <td>Kelloggs</td>\n",
       "      <td>Cold</td>\n",
       "      <td>70</td>\n",
       "      <td>4</td>\n",
       "      <td>1</td>\n",
       "      <td>260</td>\n",
       "      <td>9.0</td>\n",
       "      <td>7.0</td>\n",
       "      <td>5</td>\n",
       "      <td>320</td>\n",
       "      <td>25</td>\n",
       "      <td>3</td>\n",
       "      <td>1.0</td>\n",
       "      <td>0.33</td>\n",
       "      <td>59.425505</td>\n",
       "    </tr>\n",
       "    <tr>\n",
       "      <th>3</th>\n",
       "      <td>All-Bran with Extra Fiber</td>\n",
       "      <td>Kelloggs</td>\n",
       "      <td>Cold</td>\n",
       "      <td>50</td>\n",
       "      <td>4</td>\n",
       "      <td>0</td>\n",
       "      <td>140</td>\n",
       "      <td>14.0</td>\n",
       "      <td>8.0</td>\n",
       "      <td>0</td>\n",
       "      <td>330</td>\n",
       "      <td>25</td>\n",
       "      <td>3</td>\n",
       "      <td>1.0</td>\n",
       "      <td>0.50</td>\n",
       "      <td>93.704912</td>\n",
       "    </tr>\n",
       "    <tr>\n",
       "      <th>5</th>\n",
       "      <td>Apple Cinnamon Cheerios</td>\n",
       "      <td>General Mills</td>\n",
       "      <td>Cold</td>\n",
       "      <td>110</td>\n",
       "      <td>2</td>\n",
       "      <td>2</td>\n",
       "      <td>180</td>\n",
       "      <td>1.5</td>\n",
       "      <td>10.5</td>\n",
       "      <td>10</td>\n",
       "      <td>70</td>\n",
       "      <td>25</td>\n",
       "      <td>1</td>\n",
       "      <td>1.0</td>\n",
       "      <td>0.75</td>\n",
       "      <td>29.509541</td>\n",
       "    </tr>\n",
       "    <tr>\n",
       "      <th>...</th>\n",
       "      <td>...</td>\n",
       "      <td>...</td>\n",
       "      <td>...</td>\n",
       "      <td>...</td>\n",
       "      <td>...</td>\n",
       "      <td>...</td>\n",
       "      <td>...</td>\n",
       "      <td>...</td>\n",
       "      <td>...</td>\n",
       "      <td>...</td>\n",
       "      <td>...</td>\n",
       "      <td>...</td>\n",
       "      <td>...</td>\n",
       "      <td>...</td>\n",
       "      <td>...</td>\n",
       "      <td>...</td>\n",
       "    </tr>\n",
       "    <tr>\n",
       "      <th>72</th>\n",
       "      <td>Triples</td>\n",
       "      <td>General Mills</td>\n",
       "      <td>Cold</td>\n",
       "      <td>110</td>\n",
       "      <td>2</td>\n",
       "      <td>1</td>\n",
       "      <td>250</td>\n",
       "      <td>0.0</td>\n",
       "      <td>21.0</td>\n",
       "      <td>3</td>\n",
       "      <td>60</td>\n",
       "      <td>25</td>\n",
       "      <td>3</td>\n",
       "      <td>1.0</td>\n",
       "      <td>0.75</td>\n",
       "      <td>39.106174</td>\n",
       "    </tr>\n",
       "    <tr>\n",
       "      <th>73</th>\n",
       "      <td>Trix</td>\n",
       "      <td>General Mills</td>\n",
       "      <td>Cold</td>\n",
       "      <td>110</td>\n",
       "      <td>1</td>\n",
       "      <td>1</td>\n",
       "      <td>140</td>\n",
       "      <td>0.0</td>\n",
       "      <td>13.0</td>\n",
       "      <td>12</td>\n",
       "      <td>25</td>\n",
       "      <td>25</td>\n",
       "      <td>2</td>\n",
       "      <td>1.0</td>\n",
       "      <td>1.00</td>\n",
       "      <td>27.753301</td>\n",
       "    </tr>\n",
       "    <tr>\n",
       "      <th>74</th>\n",
       "      <td>Wheat Chex</td>\n",
       "      <td>Ralston Purina</td>\n",
       "      <td>Cold</td>\n",
       "      <td>100</td>\n",
       "      <td>3</td>\n",
       "      <td>1</td>\n",
       "      <td>230</td>\n",
       "      <td>3.0</td>\n",
       "      <td>17.0</td>\n",
       "      <td>3</td>\n",
       "      <td>115</td>\n",
       "      <td>25</td>\n",
       "      <td>1</td>\n",
       "      <td>1.0</td>\n",
       "      <td>0.67</td>\n",
       "      <td>49.787445</td>\n",
       "    </tr>\n",
       "    <tr>\n",
       "      <th>75</th>\n",
       "      <td>Wheaties</td>\n",
       "      <td>General Mills</td>\n",
       "      <td>Cold</td>\n",
       "      <td>100</td>\n",
       "      <td>3</td>\n",
       "      <td>1</td>\n",
       "      <td>200</td>\n",
       "      <td>3.0</td>\n",
       "      <td>17.0</td>\n",
       "      <td>3</td>\n",
       "      <td>110</td>\n",
       "      <td>25</td>\n",
       "      <td>1</td>\n",
       "      <td>1.0</td>\n",
       "      <td>1.00</td>\n",
       "      <td>51.592193</td>\n",
       "    </tr>\n",
       "    <tr>\n",
       "      <th>76</th>\n",
       "      <td>Wheaties Honey Gold</td>\n",
       "      <td>General Mills</td>\n",
       "      <td>Cold</td>\n",
       "      <td>110</td>\n",
       "      <td>2</td>\n",
       "      <td>1</td>\n",
       "      <td>200</td>\n",
       "      <td>1.0</td>\n",
       "      <td>16.0</td>\n",
       "      <td>8</td>\n",
       "      <td>60</td>\n",
       "      <td>25</td>\n",
       "      <td>1</td>\n",
       "      <td>1.0</td>\n",
       "      <td>0.75</td>\n",
       "      <td>36.187559</td>\n",
       "    </tr>\n",
       "  </tbody>\n",
       "</table>\n",
       "<p>74 rows × 16 columns</p>\n",
       "</div>"
      ],
      "text/plain": [
       "                         name              mfr  type  calories  protein  fat  \\\n",
       "0                   100% Bran          Nabisco  Cold        70        4    1   \n",
       "1           100% Natural Bran      Quaker Oats  Cold       120        3    5   \n",
       "2                    All-Bran         Kelloggs  Cold        70        4    1   \n",
       "3   All-Bran with Extra Fiber         Kelloggs  Cold        50        4    0   \n",
       "5     Apple Cinnamon Cheerios    General Mills  Cold       110        2    2   \n",
       "..                        ...              ...   ...       ...      ...  ...   \n",
       "72                    Triples    General Mills  Cold       110        2    1   \n",
       "73                       Trix    General Mills  Cold       110        1    1   \n",
       "74                 Wheat Chex  Ralston Purina   Cold       100        3    1   \n",
       "75                   Wheaties    General Mills  Cold       100        3    1   \n",
       "76        Wheaties Honey Gold    General Mills  Cold       110        2    1   \n",
       "\n",
       "    sodium  fiber  carbo  sugars  potass  vitamins  shelf  weight  cups  \\\n",
       "0      130   10.0    5.0       6     280        25      3     1.0  0.33   \n",
       "1       15    2.0    8.0       8     135         0      3     1.0  1.00   \n",
       "2      260    9.0    7.0       5     320        25      3     1.0  0.33   \n",
       "3      140   14.0    8.0       0     330        25      3     1.0  0.50   \n",
       "5      180    1.5   10.5      10      70        25      1     1.0  0.75   \n",
       "..     ...    ...    ...     ...     ...       ...    ...     ...   ...   \n",
       "72     250    0.0   21.0       3      60        25      3     1.0  0.75   \n",
       "73     140    0.0   13.0      12      25        25      2     1.0  1.00   \n",
       "74     230    3.0   17.0       3     115        25      1     1.0  0.67   \n",
       "75     200    3.0   17.0       3     110        25      1     1.0  1.00   \n",
       "76     200    1.0   16.0       8      60        25      1     1.0  0.75   \n",
       "\n",
       "       rating  \n",
       "0   68.402973  \n",
       "1   33.983679  \n",
       "2   59.425505  \n",
       "3   93.704912  \n",
       "5   29.509541  \n",
       "..        ...  \n",
       "72  39.106174  \n",
       "73  27.753301  \n",
       "74  49.787445  \n",
       "75  51.592193  \n",
       "76  36.187559  \n",
       "\n",
       "[74 rows x 16 columns]"
      ]
     },
     "execution_count": 75,
     "metadata": {},
     "output_type": "execute_result"
    }
   ],
   "source": [
    "df_clean"
   ]
  },
  {
   "cell_type": "code",
   "execution_count": 76,
   "id": "49eddd7d",
   "metadata": {},
   "outputs": [],
   "source": [
    "df_mfr =df_clean.copy(deep=True)"
   ]
  },
  {
   "cell_type": "code",
   "execution_count": 77,
   "id": "faeb2720",
   "metadata": {},
   "outputs": [],
   "source": [
    "df_mfr =df_mfr[df_mfr['sugars']>=0]"
   ]
  },
  {
   "cell_type": "code",
   "execution_count": 80,
   "id": "70ca7317",
   "metadata": {},
   "outputs": [
    {
     "data": {
      "image/png": "[encoded data removed]",
      "text/plain": [
       "<Figure size 3000x1000 with 2 Axes>"
      ]
     },
     "metadata": {},
     "output_type": "display_data"
    }
   ],
   "source": [
    "sns.set_style('whitegrid')\n",
    "fig, axes = plt.subplots(1,2, figsize=(30,10))\n",
    "plt.suptitle('mfr and sugar correlated to rating', fontsize = 'xx-large',)\n",
    "_ = sns.boxplot( data=df_mfr, x='mfr', y='sugars', ax=axes[0], showfliers=False, )\n",
    "axes[0].set_title( 'Manufacturer and Sugars', fontsize='x-large', )\n",
    "axes[0].set_xlabel('Manufacturer')\n",
    "axes[0].set_ylabel('Sugars')\n",
    "\n",
    "\n",
    "# Manufacturer and Rating\n",
    "_ = sns.boxplot( data=df_mfr, x='mfr', y=TARGET_VARIABLE, ax=axes[1], showfliers=False, )\n",
    "axes[1].set_title( 'Manufacturer and Rating', fontsize='x-large', )\n",
    "axes[1].set_xlabel('Manufacturer')\n",
    "_ = axes[1].set_ylabel('Rating')"
   ]
  },
  {
   "cell_type": "code",
   "execution_count": 85,
   "id": "2108de84",
   "metadata": {},
   "outputs": [
    {
     "data": {
      "text/plain": [
       "Index(['name', 'mfr', 'type', 'calories', 'protein', 'fat', 'sodium', 'fiber',\n",
       "       'carbo', 'sugars', 'potass', 'vitamins', 'shelf', 'weight', 'cups',\n",
       "       'rating'],\n",
       "      dtype='object')"
      ]
     },
     "execution_count": 85,
     "metadata": {},
     "output_type": "execute_result"
    }
   ],
   "source": [
    "df_clean.columns"
   ]
  },
  {
   "cell_type": "code",
   "execution_count": 86,
   "id": "87ed5238",
   "metadata": {},
   "outputs": [],
   "source": [
    "nutritional_columns =[\n",
    "    'protein',\n",
    "    'fat',\n",
    "    'sodium',\n",
    "    'fiber',\n",
    "    'carbo',\n",
    "    'sugars',\n",
    "    'potass',\n",
    "    'vitamins',\n",
    "    'protein',\n",
    "    \n",
    "]"
   ]
  },
  {
   "cell_type": "code",
   "execution_count": 90,
   "id": "56206476",
   "metadata": {},
   "outputs": [
    {
     "ename": "NameError",
     "evalue": "name 'cell' is not defined",
     "output_type": "error",
     "traceback": [
      "\u001b[0;31m---------------------------------------------------------------------------\u001b[0m",
      "\u001b[0;31mNameError\u001b[0m                                 Traceback (most recent call last)",
      "Cell \u001b[0;32mIn [90], line 31\u001b[0m\n\u001b[1;32m     28\u001b[0m   ax\u001b[38;5;241m.\u001b[39mset_title(col\u001b[38;5;241m.\u001b[39mtitle(), fontsize\u001b[38;5;241m=\u001b[39m\u001b[38;5;124m'\u001b[39m\u001b[38;5;124mx-large\u001b[39m\u001b[38;5;124m'\u001b[39m)\n\u001b[1;32m     30\u001b[0m sns\u001b[38;5;241m.\u001b[39mset_theme(style\u001b[38;5;241m=\u001b[39m\u001b[38;5;124m'\u001b[39m\u001b[38;5;124mwhite\u001b[39m\u001b[38;5;124m'\u001b[39m)\n\u001b[0;32m---> 31\u001b[0m \u001b[43msubplots_grid_visualizer\u001b[49m\u001b[43m(\u001b[49m\n\u001b[1;32m     32\u001b[0m \u001b[43m  \u001b[49m\u001b[43mtitle\u001b[49m\u001b[38;5;241;43m=\u001b[39;49m\u001b[38;5;124;43m'\u001b[39;49m\u001b[38;5;124;43mHow other nutritional attributes relate to calories, a boxplot comparison\u001b[39;49m\u001b[38;5;124;43m'\u001b[39;49m\u001b[43m,\u001b[49m\n\u001b[1;32m     33\u001b[0m \u001b[43m  \u001b[49m\u001b[43mdataframe\u001b[49m\u001b[38;5;241;43m=\u001b[39;49m\u001b[43mdf_clean\u001b[49m\u001b[43m,\u001b[49m\n\u001b[1;32m     34\u001b[0m \u001b[43m  \u001b[49m\u001b[43mcolumns\u001b[49m\u001b[38;5;241;43m=\u001b[39;49m\u001b[43mnutritional_columns\u001b[49m\u001b[43m,\u001b[49m\n\u001b[1;32m     35\u001b[0m \u001b[43m  \u001b[49m\u001b[43mn_cols\u001b[49m\u001b[38;5;241;43m=\u001b[39;49m\u001b[38;5;241;43m5\u001b[39;49m\u001b[43m,\u001b[49m\n\u001b[1;32m     36\u001b[0m \u001b[43m  \u001b[49m\u001b[43msubplot_col_width\u001b[49m\u001b[43m \u001b[49m\u001b[38;5;241;43m=\u001b[39;49m\u001b[43m \u001b[49m\u001b[38;5;241;43m10\u001b[39;49m\u001b[43m,\u001b[49m\n\u001b[1;32m     37\u001b[0m \u001b[43m  \u001b[49m\u001b[43msubplot_col_height\u001b[49m\u001b[43m \u001b[49m\u001b[38;5;241;43m=\u001b[39;49m\u001b[43m \u001b[49m\u001b[38;5;241;43m7.5\u001b[39;49m\u001b[43m,\u001b[49m\n\u001b[1;32m     38\u001b[0m \u001b[43m  \u001b[49m\u001b[43mvisualizer\u001b[49m\u001b[38;5;241;43m=\u001b[39;49m\u001b[43mnutritional_attribute_visualizer\u001b[49m\u001b[43m,\u001b[49m\n\u001b[1;32m     39\u001b[0m \u001b[43m  \u001b[49m\u001b[43msubplots_adjustment\u001b[49m\u001b[38;5;241;43m=\u001b[39;49m\u001b[43m{\u001b[49m\n\u001b[1;32m     40\u001b[0m \u001b[43m    \u001b[49m\u001b[38;5;124;43m'\u001b[39;49m\u001b[38;5;124;43mtop\u001b[39;49m\u001b[38;5;124;43m'\u001b[39;49m\u001b[43m:\u001b[49m\u001b[43m \u001b[49m\u001b[38;5;241;43m0.95\u001b[39;49m\u001b[43m,\u001b[49m\n\u001b[1;32m     41\u001b[0m \u001b[43m    \u001b[49m\u001b[38;5;66;43;03m# 'top': 0.9,\u001b[39;49;00m\n\u001b[1;32m     42\u001b[0m \u001b[43m    \u001b[49m\u001b[38;5;124;43m'\u001b[39;49m\u001b[38;5;124;43mbottom\u001b[39;49m\u001b[38;5;124;43m'\u001b[39;49m\u001b[43m:\u001b[49m\u001b[43m \u001b[49m\u001b[38;5;28;43;01mNone\u001b[39;49;00m\u001b[43m,\u001b[49m\n\u001b[1;32m     43\u001b[0m \u001b[43m    \u001b[49m\u001b[38;5;124;43m'\u001b[39;49m\u001b[38;5;124;43mwspace\u001b[39;49m\u001b[38;5;124;43m'\u001b[39;49m\u001b[43m:\u001b[49m\u001b[43m \u001b[49m\u001b[38;5;241;43m0.2\u001b[39;49m\u001b[43m,\u001b[49m\n\u001b[1;32m     44\u001b[0m \u001b[43m    \u001b[49m\u001b[38;5;124;43m'\u001b[39;49m\u001b[38;5;124;43mhspace\u001b[39;49m\u001b[38;5;124;43m'\u001b[39;49m\u001b[43m:\u001b[49m\u001b[43m \u001b[49m\u001b[38;5;241;43m0.2\u001b[39;49m\u001b[43m,\u001b[49m\n\u001b[1;32m     45\u001b[0m \u001b[43m  \u001b[49m\u001b[43m}\u001b[49m\n\u001b[1;32m     46\u001b[0m \u001b[43m)\u001b[49m\n",
      "Cell \u001b[0;32mIn [26], line 17\u001b[0m, in \u001b[0;36msubplots_grid_visualizer\u001b[0;34m(dataframe, columns, visualizer, n_cols, subplot_col_width, subplot_col_height, color_palette, subplots_adjustment, title, figsize)\u001b[0m\n\u001b[1;32m     15\u001b[0m total_columns \u001b[38;5;241m=\u001b[39m \u001b[38;5;28mlen\u001b[39m(columns)\n\u001b[1;32m     16\u001b[0m cols_to_display \u001b[38;5;241m=\u001b[39m n_cols\n\u001b[0;32m---> 17\u001b[0m rows_to_display \u001b[38;5;241m=\u001b[39m \u001b[43mcell\u001b[49m(total_columns \u001b[38;5;241m/\u001b[39m cols_to_display)\n\u001b[1;32m     19\u001b[0m \u001b[38;5;66;03m# subplots sizing\u001b[39;00m\n\u001b[1;32m     20\u001b[0m \u001b[38;5;28;01mif\u001b[39;00m \u001b[38;5;129;01mnot\u001b[39;00m figsize:\n",
      "\u001b[0;31mNameError\u001b[0m: name 'cell' is not defined"
     ]
    }
   ],
   "source": [
    "\n",
    "nutritional_columns = [\n",
    "  'sugars',\n",
    "  'fiber',\n",
    "  'carbo',\n",
    "  'sodium',\n",
    "  'potass',\n",
    "  'weight',\n",
    "  'protein',\n",
    "  'vitamins',\n",
    "  'fat',\n",
    "]\n",
    "\n",
    "def nutritional_attribute_visualizer(df_subplot, index, col, ax, color_palette) -> None:\n",
    "  _= sns.boxplot(\n",
    "    data=df_subplot,\n",
    "    x='calories',\n",
    "    y=col,\n",
    "    ax=ax,\n",
    "     )\n",
    "  ax.set_title(col.title(), fontsize='x-large')\n",
    "\n",
    "sns.set_theme(style='white')\n",
    "subplots_grid_visualizer(\n",
    "  title='How other nutritional attributes relate to calories, a boxplot comparison',\n",
    "  dataframe=df_clean,\n",
    "  columns=nutritional_columns,\n",
    "  n_cols=5,\n",
    "  subplot_col_width = 10,\n",
    "  subplot_col_height = 7.5,\n",
    "  visualizer=nutritional_attribute_visualizer,\n",
    "  subplots_adjustment={\n",
    "    'top': 0.95,\n",
    "    'bottom': None,\n",
    "    'wspace': 0.2,\n",
    "    'hspace': 0.2,\n",
    "  }\n",
    ")"
   ]
  },
  {
   "cell_type": "code",
   "execution_count": 107,
   "id": "5053fbeb",
   "metadata": {},
   "outputs": [
    {
     "data": {
      "text/plain": [
       "0"
      ]
     },
     "execution_count": 107,
     "metadata": {},
     "output_type": "execute_result"
    }
   ],
   "source": [
    "sum(df['weight']<0)"
   ]
  },
  {
   "cell_type": "code",
   "execution_count": 106,
   "id": "e8e98e40",
   "metadata": {},
   "outputs": [
    {
     "data": {
      "text/plain": [
       "77"
      ]
     },
     "execution_count": 106,
     "metadata": {},
     "output_type": "execute_result"
    }
   ],
   "source": [
    "len(df)"
   ]
  },
  {
   "cell_type": "code",
   "execution_count": 108,
   "id": "ec1c0f26",
   "metadata": {},
   "outputs": [
    {
     "data": {
      "text/plain": [
       "Index(['name', 'mfr', 'type', 'calories', 'protein', 'fat', 'sodium', 'fiber',\n",
       "       'carbo', 'sugars', 'potass', 'vitamins', 'shelf', 'weight', 'cups',\n",
       "       'rating'],\n",
       "      dtype='object')"
      ]
     },
     "execution_count": 108,
     "metadata": {},
     "output_type": "execute_result"
    }
   ],
   "source": [
    "df.columns"
   ]
  },
  {
   "cell_type": "code",
   "execution_count": 132,
   "id": "d91a52d4",
   "metadata": {},
   "outputs": [
    {
     "ename": "SyntaxError",
     "evalue": "invalid syntax (2394821402.py, line 1)",
     "output_type": "error",
     "traceback": [
      "\u001b[0;36m  Cell \u001b[0;32mIn [132], line 1\u001b[0;36m\u001b[0m\n\u001b[0;31m    sum((df['potass'] && df['carbo'])<0)\u001b[0m\n\u001b[0m                       ^\u001b[0m\n\u001b[0;31mSyntaxError\u001b[0m\u001b[0;31m:\u001b[0m invalid syntax\n"
     ]
    }
   ],
   "source": [
    "sum((df['potass'] && df['carbo'])<0)"
   ]
  },
  {
   "cell_type": "code",
   "execution_count": 135,
   "id": "162252d6",
   "metadata": {},
   "outputs": [
    {
     "ename": "SyntaxError",
     "evalue": "invalid syntax (3476313290.py, line 1)",
     "output_type": "error",
     "traceback": [
      "\u001b[0;36m  Cell \u001b[0;32mIn [135], line 1\u001b[0;36m\u001b[0m\n\u001b[0;31m    column1='df['potass']'\u001b[0m\n\u001b[0m                 ^\u001b[0m\n\u001b[0;31mSyntaxError\u001b[0m\u001b[0;31m:\u001b[0m invalid syntax\n"
     ]
    }
   ],
   "source": [
    "column1='df['potass']'\n",
    "column2='df['sugars']'\n",
    "for index, row in df.iterrows():\n",
    "    # check if both values in the current row and columns are negative\n",
    "    if row[column1] < 0 and row[column2] < 0:\n",
    "        sum()\n",
    "    else:\n",
    "        print(\"At least one value in row\", index, \"is not negative.\")"
   ]
  },
  {
   "cell_type": "code",
   "execution_count": 136,
   "id": "9dec6a1e",
   "metadata": {},
   "outputs": [],
   "source": [
    "df_new = df_clean[ df_clean['carbo'] >= 0.0 ]\n"
   ]
  },
  {
   "cell_type": "code",
   "execution_count": 137,
   "id": "1352e09e",
   "metadata": {},
   "outputs": [
    {
     "data": {
      "text/plain": [
       "74"
      ]
     },
     "execution_count": 137,
     "metadata": {},
     "output_type": "execute_result"
    }
   ],
   "source": [
    "len(df_new)"
   ]
  },
  {
   "cell_type": "code",
   "execution_count": 139,
   "id": "7109da21",
   "metadata": {},
   "outputs": [],
   "source": [
    "df_new = df[ df['carbo'] >= 0.0 ]"
   ]
  },
  {
   "cell_type": "code",
   "execution_count": 140,
   "id": "f6f86634",
   "metadata": {},
   "outputs": [
    {
     "data": {
      "text/plain": [
       "76"
      ]
     },
     "execution_count": 140,
     "metadata": {},
     "output_type": "execute_result"
    }
   ],
   "source": [
    "len(df_new)"
   ]
  },
  {
   "cell_type": "code",
   "execution_count": 141,
   "id": "43920225",
   "metadata": {},
   "outputs": [],
   "source": [
    "df_branew=df_new[df_new['potass']>=0.0]"
   ]
  },
  {
   "cell_type": "code",
   "execution_count": 142,
   "id": "d9305761",
   "metadata": {},
   "outputs": [
    {
     "data": {
      "text/plain": [
       "74"
      ]
     },
     "execution_count": 142,
     "metadata": {},
     "output_type": "execute_result"
    }
   ],
   "source": [
    "len(df_branew)"
   ]
  },
  {
   "cell_type": "code",
   "execution_count": 145,
   "id": "e3c75b76",
   "metadata": {},
   "outputs": [
    {
     "data": {
      "text/plain": [
       "0"
      ]
     },
     "execution_count": 145,
     "metadata": {},
     "output_type": "execute_result"
    }
   ],
   "source": [
    "(df_branew['sugars']<0).sum()"
   ]
  },
  {
   "cell_type": "code",
   "execution_count": 155,
   "id": "f4a66467",
   "metadata": {},
   "outputs": [
    {
     "data": {
      "text/html": [
       "<div>\n",
       "<style scoped>\n",
       "    .dataframe tbody tr th:only-of-type {\n",
       "        vertical-align: middle;\n",
       "    }\n",
       "\n",
       "    .dataframe tbody tr th {\n",
       "        vertical-align: top;\n",
       "    }\n",
       "\n",
       "    .dataframe thead th {\n",
       "        text-align: right;\n",
       "    }\n",
       "</style>\n",
       "<table border=\"1\" class=\"dataframe\">\n",
       "  <thead>\n",
       "    <tr style=\"text-align: right;\">\n",
       "      <th></th>\n",
       "      <th>name</th>\n",
       "      <th>mfr</th>\n",
       "      <th>type</th>\n",
       "      <th>calories</th>\n",
       "      <th>protein</th>\n",
       "      <th>fat</th>\n",
       "      <th>sodium</th>\n",
       "      <th>fiber</th>\n",
       "      <th>carbo</th>\n",
       "      <th>sugars</th>\n",
       "      <th>potass</th>\n",
       "      <th>vitamins</th>\n",
       "      <th>shelf</th>\n",
       "      <th>weight</th>\n",
       "      <th>cups</th>\n",
       "      <th>rating</th>\n",
       "    </tr>\n",
       "  </thead>\n",
       "  <tbody>\n",
       "    <tr>\n",
       "      <th>0</th>\n",
       "      <td>100% Bran</td>\n",
       "      <td>N</td>\n",
       "      <td>C</td>\n",
       "      <td>70</td>\n",
       "      <td>4</td>\n",
       "      <td>1</td>\n",
       "      <td>130</td>\n",
       "      <td>10.0</td>\n",
       "      <td>5.0</td>\n",
       "      <td>6</td>\n",
       "      <td>280</td>\n",
       "      <td>25</td>\n",
       "      <td>3</td>\n",
       "      <td>1.0</td>\n",
       "      <td>0.33</td>\n",
       "      <td>68.402973</td>\n",
       "    </tr>\n",
       "    <tr>\n",
       "      <th>1</th>\n",
       "      <td>100% Natural Bran</td>\n",
       "      <td>Q</td>\n",
       "      <td>C</td>\n",
       "      <td>120</td>\n",
       "      <td>3</td>\n",
       "      <td>5</td>\n",
       "      <td>15</td>\n",
       "      <td>2.0</td>\n",
       "      <td>8.0</td>\n",
       "      <td>8</td>\n",
       "      <td>135</td>\n",
       "      <td>0</td>\n",
       "      <td>3</td>\n",
       "      <td>1.0</td>\n",
       "      <td>1.00</td>\n",
       "      <td>33.983679</td>\n",
       "    </tr>\n",
       "    <tr>\n",
       "      <th>2</th>\n",
       "      <td>All-Bran</td>\n",
       "      <td>K</td>\n",
       "      <td>C</td>\n",
       "      <td>70</td>\n",
       "      <td>4</td>\n",
       "      <td>1</td>\n",
       "      <td>260</td>\n",
       "      <td>9.0</td>\n",
       "      <td>7.0</td>\n",
       "      <td>5</td>\n",
       "      <td>320</td>\n",
       "      <td>25</td>\n",
       "      <td>3</td>\n",
       "      <td>1.0</td>\n",
       "      <td>0.33</td>\n",
       "      <td>59.425505</td>\n",
       "    </tr>\n",
       "    <tr>\n",
       "      <th>3</th>\n",
       "      <td>All-Bran with Extra Fiber</td>\n",
       "      <td>K</td>\n",
       "      <td>C</td>\n",
       "      <td>50</td>\n",
       "      <td>4</td>\n",
       "      <td>0</td>\n",
       "      <td>140</td>\n",
       "      <td>14.0</td>\n",
       "      <td>8.0</td>\n",
       "      <td>0</td>\n",
       "      <td>330</td>\n",
       "      <td>25</td>\n",
       "      <td>3</td>\n",
       "      <td>1.0</td>\n",
       "      <td>0.50</td>\n",
       "      <td>93.704912</td>\n",
       "    </tr>\n",
       "    <tr>\n",
       "      <th>4</th>\n",
       "      <td>Almond Delight</td>\n",
       "      <td>R</td>\n",
       "      <td>C</td>\n",
       "      <td>110</td>\n",
       "      <td>2</td>\n",
       "      <td>2</td>\n",
       "      <td>200</td>\n",
       "      <td>1.0</td>\n",
       "      <td>14.0</td>\n",
       "      <td>8</td>\n",
       "      <td>-1</td>\n",
       "      <td>25</td>\n",
       "      <td>3</td>\n",
       "      <td>1.0</td>\n",
       "      <td>0.75</td>\n",
       "      <td>34.384843</td>\n",
       "    </tr>\n",
       "    <tr>\n",
       "      <th>...</th>\n",
       "      <td>...</td>\n",
       "      <td>...</td>\n",
       "      <td>...</td>\n",
       "      <td>...</td>\n",
       "      <td>...</td>\n",
       "      <td>...</td>\n",
       "      <td>...</td>\n",
       "      <td>...</td>\n",
       "      <td>...</td>\n",
       "      <td>...</td>\n",
       "      <td>...</td>\n",
       "      <td>...</td>\n",
       "      <td>...</td>\n",
       "      <td>...</td>\n",
       "      <td>...</td>\n",
       "      <td>...</td>\n",
       "    </tr>\n",
       "    <tr>\n",
       "      <th>72</th>\n",
       "      <td>Triples</td>\n",
       "      <td>G</td>\n",
       "      <td>C</td>\n",
       "      <td>110</td>\n",
       "      <td>2</td>\n",
       "      <td>1</td>\n",
       "      <td>250</td>\n",
       "      <td>0.0</td>\n",
       "      <td>21.0</td>\n",
       "      <td>3</td>\n",
       "      <td>60</td>\n",
       "      <td>25</td>\n",
       "      <td>3</td>\n",
       "      <td>1.0</td>\n",
       "      <td>0.75</td>\n",
       "      <td>39.106174</td>\n",
       "    </tr>\n",
       "    <tr>\n",
       "      <th>73</th>\n",
       "      <td>Trix</td>\n",
       "      <td>G</td>\n",
       "      <td>C</td>\n",
       "      <td>110</td>\n",
       "      <td>1</td>\n",
       "      <td>1</td>\n",
       "      <td>140</td>\n",
       "      <td>0.0</td>\n",
       "      <td>13.0</td>\n",
       "      <td>12</td>\n",
       "      <td>25</td>\n",
       "      <td>25</td>\n",
       "      <td>2</td>\n",
       "      <td>1.0</td>\n",
       "      <td>1.00</td>\n",
       "      <td>27.753301</td>\n",
       "    </tr>\n",
       "    <tr>\n",
       "      <th>74</th>\n",
       "      <td>Wheat Chex</td>\n",
       "      <td>R</td>\n",
       "      <td>C</td>\n",
       "      <td>100</td>\n",
       "      <td>3</td>\n",
       "      <td>1</td>\n",
       "      <td>230</td>\n",
       "      <td>3.0</td>\n",
       "      <td>17.0</td>\n",
       "      <td>3</td>\n",
       "      <td>115</td>\n",
       "      <td>25</td>\n",
       "      <td>1</td>\n",
       "      <td>1.0</td>\n",
       "      <td>0.67</td>\n",
       "      <td>49.787445</td>\n",
       "    </tr>\n",
       "    <tr>\n",
       "      <th>75</th>\n",
       "      <td>Wheaties</td>\n",
       "      <td>G</td>\n",
       "      <td>C</td>\n",
       "      <td>100</td>\n",
       "      <td>3</td>\n",
       "      <td>1</td>\n",
       "      <td>200</td>\n",
       "      <td>3.0</td>\n",
       "      <td>17.0</td>\n",
       "      <td>3</td>\n",
       "      <td>110</td>\n",
       "      <td>25</td>\n",
       "      <td>1</td>\n",
       "      <td>1.0</td>\n",
       "      <td>1.00</td>\n",
       "      <td>51.592193</td>\n",
       "    </tr>\n",
       "    <tr>\n",
       "      <th>76</th>\n",
       "      <td>Wheaties Honey Gold</td>\n",
       "      <td>G</td>\n",
       "      <td>C</td>\n",
       "      <td>110</td>\n",
       "      <td>2</td>\n",
       "      <td>1</td>\n",
       "      <td>200</td>\n",
       "      <td>1.0</td>\n",
       "      <td>16.0</td>\n",
       "      <td>8</td>\n",
       "      <td>60</td>\n",
       "      <td>25</td>\n",
       "      <td>1</td>\n",
       "      <td>1.0</td>\n",
       "      <td>0.75</td>\n",
       "      <td>36.187559</td>\n",
       "    </tr>\n",
       "  </tbody>\n",
       "</table>\n",
       "<p>77 rows × 16 columns</p>\n",
       "</div>"
      ],
      "text/plain": [
       "                         name mfr type  calories  protein  fat  sodium  fiber  \\\n",
       "0                   100% Bran   N    C        70        4    1     130   10.0   \n",
       "1           100% Natural Bran   Q    C       120        3    5      15    2.0   \n",
       "2                    All-Bran   K    C        70        4    1     260    9.0   \n",
       "3   All-Bran with Extra Fiber   K    C        50        4    0     140   14.0   \n",
       "4              Almond Delight   R    C       110        2    2     200    1.0   \n",
       "..                        ...  ..  ...       ...      ...  ...     ...    ...   \n",
       "72                    Triples   G    C       110        2    1     250    0.0   \n",
       "73                       Trix   G    C       110        1    1     140    0.0   \n",
       "74                 Wheat Chex   R    C       100        3    1     230    3.0   \n",
       "75                   Wheaties   G    C       100        3    1     200    3.0   \n",
       "76        Wheaties Honey Gold   G    C       110        2    1     200    1.0   \n",
       "\n",
       "    carbo  sugars  potass  vitamins  shelf  weight  cups     rating  \n",
       "0     5.0       6     280        25      3     1.0  0.33  68.402973  \n",
       "1     8.0       8     135         0      3     1.0  1.00  33.983679  \n",
       "2     7.0       5     320        25      3     1.0  0.33  59.425505  \n",
       "3     8.0       0     330        25      3     1.0  0.50  93.704912  \n",
       "4    14.0       8      -1        25      3     1.0  0.75  34.384843  \n",
       "..    ...     ...     ...       ...    ...     ...   ...        ...  \n",
       "72   21.0       3      60        25      3     1.0  0.75  39.106174  \n",
       "73   13.0      12      25        25      2     1.0  1.00  27.753301  \n",
       "74   17.0       3     115        25      1     1.0  0.67  49.787445  \n",
       "75   17.0       3     110        25      1     1.0  1.00  51.592193  \n",
       "76   16.0       8      60        25      1     1.0  0.75  36.187559  \n",
       "\n",
       "[77 rows x 16 columns]"
      ]
     },
     "execution_count": 155,
     "metadata": {},
     "output_type": "execute_result"
    }
   ],
   "source": [
    "df"
   ]
  },
  {
   "cell_type": "code",
   "execution_count": 160,
   "id": "fbc6abdd",
   "metadata": {},
   "outputs": [
    {
     "ename": "SyntaxError",
     "evalue": "invalid syntax. Perhaps you forgot a comma? (2018307928.py, line 1)",
     "output_type": "error",
     "traceback": [
      "\u001b[0;36m  Cell \u001b[0;32mIn [160], line 1\u001b[0;36m\u001b[0m\n\u001b[0;31m    for (col in col df['N']):\u001b[0m\n\u001b[0m         ^\u001b[0m\n\u001b[0;31mSyntaxError\u001b[0m\u001b[0;31m:\u001b[0m invalid syntax. Perhaps you forgot a comma?\n"
     ]
    }
   ],
   "source": [
    "from"
   ]
  },
  {
   "cell_type": "code",
   "execution_count": 166,
   "id": "9536c489",
   "metadata": {},
   "outputs": [],
   "source": [
    "from scipy.stats import f_oneway\n",
    "from scipy.stats import ttest_ind"
   ]
  },
  {
   "cell_type": "code",
   "execution_count": 32,
   "id": "a17d0972",
   "metadata": {},
   "outputs": [],
   "source": [
    "correlation = df['rating'].corr(df['sugars'])"
   ]
  },
  {
   "cell_type": "code",
   "execution_count": 33,
   "id": "5c50eecd",
   "metadata": {},
   "outputs": [
    {
     "name": "stdout",
     "output_type": "stream",
     "text": [
      "correlation: -0.7596746584301077\n"
     ]
    }
   ],
   "source": [
    "print('correlation:', correlation)"
   ]
  },
  {
   "cell_type": "code",
   "execution_count": 170,
   "id": "6b46d72a",
   "metadata": {},
   "outputs": [],
   "source": [
    "df_final = df.copy(deep=True)"
   ]
  },
  {
   "cell_type": "markdown",
   "id": "c6f9594a",
   "metadata": {},
   "source": [
    "# CLEANING THE DATASET"
   ]
  },
  {
   "cell_type": "code",
   "execution_count": 171,
   "id": "15f4c38e",
   "metadata": {},
   "outputs": [],
   "source": [
    "df_final=df_final.drop(columns=[\n",
    "    'type',\n",
    "])"
   ]
  },
  {
   "cell_type": "code",
   "execution_count": 173,
   "id": "e041c723",
   "metadata": {},
   "outputs": [
    {
     "data": {
      "text/plain": [
       "77"
      ]
     },
     "execution_count": 173,
     "metadata": {},
     "output_type": "execute_result"
    }
   ],
   "source": [
    "len(df_final)"
   ]
  },
  {
   "cell_type": "raw",
   "id": "56dd8cfd",
   "metadata": {},
   "source": [
    "remove the abnormal values in sugar, potass and carbo that are below 0"
   ]
  },
  {
   "cell_type": "code",
   "execution_count": 174,
   "id": "4b7d8259",
   "metadata": {},
   "outputs": [],
   "source": [
    "df_final=df_final[df_final['carbo'] >=0.0]\n",
    "df_final=df_final[df_final['potass'] >=0.0]\n",
    "df_final=df_final[df_final['sugars'] >=0.0]"
   ]
  },
  {
   "cell_type": "code",
   "execution_count": 175,
   "id": "664ec0a1",
   "metadata": {},
   "outputs": [
    {
     "data": {
      "text/plain": [
       "74"
      ]
     },
     "execution_count": 175,
     "metadata": {},
     "output_type": "execute_result"
    }
   ],
   "source": [
    "len(df_final)"
   ]
  },
  {
   "cell_type": "markdown",
   "id": "bd71b563",
   "metadata": {},
   "source": [
    "preprocessing our dataset"
   ]
  },
  {
   "cell_type": "code",
   "execution_count": 176,
   "id": "c1585e42",
   "metadata": {},
   "outputs": [
    {
     "data": {
      "text/plain": [
       "array(['N', 'Q', 'K', 'G', 'R', 'P', 'A'], dtype=object)"
      ]
     },
     "execution_count": 176,
     "metadata": {},
     "output_type": "execute_result"
    }
   ],
   "source": [
    "df_final['mfr'].unique()\n"
   ]
  },
  {
   "cell_type": "code",
   "execution_count": 178,
   "id": "5128b430",
   "metadata": {},
   "outputs": [],
   "source": [
    "df_final['mfr'] = pd.factorize(df_final['mfr'])[0]"
   ]
  },
  {
   "cell_type": "code",
   "execution_count": 179,
   "id": "58f04406",
   "metadata": {},
   "outputs": [
    {
     "data": {
      "text/plain": [
       "array(['100% Bran', '100% Natural Bran', 'All-Bran',\n",
       "       'All-Bran with Extra Fiber', 'Apple Cinnamon Cheerios',\n",
       "       'Apple Jacks', 'Basic 4', 'Bran Chex', 'Bran Flakes',\n",
       "       \"Cap'n'Crunch\", 'Cheerios', 'Cinnamon Toast Crunch', 'Clusters',\n",
       "       'Cocoa Puffs', 'Corn Chex', 'Corn Flakes', 'Corn Pops',\n",
       "       'Count Chocula', \"Cracklin' Oat Bran\", 'Crispix',\n",
       "       'Crispy Wheat & Raisins', 'Double Chex', 'Froot Loops',\n",
       "       'Frosted Flakes', 'Frosted Mini-Wheats',\n",
       "       'Fruit & Fibre Dates; Walnuts; and Oats', 'Fruitful Bran',\n",
       "       'Fruity Pebbles', 'Golden Crisp', 'Golden Grahams',\n",
       "       'Grape Nuts Flakes', 'Grape-Nuts', 'Great Grains Pecan',\n",
       "       'Honey Graham Ohs', 'Honey Nut Cheerios', 'Honey-comb',\n",
       "       'Just Right Crunchy  Nuggets', 'Just Right Fruit & Nut', 'Kix',\n",
       "       'Life', 'Lucky Charms', 'Maypo',\n",
       "       'Muesli Raisins; Dates; & Almonds',\n",
       "       'Muesli Raisins; Peaches; & Pecans', 'Mueslix Crispy Blend',\n",
       "       'Multi-Grain Cheerios', 'Nut&Honey Crunch',\n",
       "       'Nutri-Grain Almond-Raisin', 'Nutri-grain Wheat',\n",
       "       'Oatmeal Raisin Crisp', 'Post Nat. Raisin Bran', 'Product 19',\n",
       "       'Puffed Rice', 'Puffed Wheat', 'Quaker Oat Squares', 'Raisin Bran',\n",
       "       'Raisin Nut Bran', 'Raisin Squares', 'Rice Chex', 'Rice Krispies',\n",
       "       'Shredded Wheat', \"Shredded Wheat 'n'Bran\",\n",
       "       'Shredded Wheat spoon size', 'Smacks', 'Special K',\n",
       "       'Strawberry Fruit Wheats', 'Total Corn Flakes',\n",
       "       'Total Raisin Bran', 'Total Whole Grain', 'Triples', 'Trix',\n",
       "       'Wheat Chex', 'Wheaties', 'Wheaties Honey Gold'], dtype=object)"
      ]
     },
     "execution_count": 179,
     "metadata": {},
     "output_type": "execute_result"
    }
   ],
   "source": [
    "df_final['name'].unique()"
   ]
  },
  {
   "cell_type": "code",
   "execution_count": 180,
   "id": "28638d00",
   "metadata": {},
   "outputs": [
    {
     "data": {
      "text/plain": [
       "array([ 0,  1,  2,  3,  4,  5,  6,  7,  8,  9, 10, 11, 12, 13, 14, 15, 16,\n",
       "       17, 18, 19, 20, 21, 22, 23, 24, 25, 26, 27, 28, 29, 30, 31, 32, 33,\n",
       "       34, 35, 36, 37, 38, 39, 40, 41, 42, 43, 44, 45, 46, 47, 48, 49, 50,\n",
       "       51, 52, 53, 54, 55, 56, 57, 58, 59, 60, 61, 62, 63, 64, 65, 66, 67,\n",
       "       68, 69, 70, 71, 72, 73])"
      ]
     },
     "execution_count": 180,
     "metadata": {},
     "output_type": "execute_result"
    }
   ],
   "source": [
    "pd.factorize(df_final['name'])[0]"
   ]
  },
  {
   "cell_type": "code",
   "execution_count": 182,
   "id": "7ad510cc",
   "metadata": {},
   "outputs": [],
   "source": [
    "from sklearn.preprocessing import MinMaxScaler, MaxAbsScaler, StandardScaler, RobustScaler"
   ]
  },
  {
   "cell_type": "code",
   "execution_count": 183,
   "id": "0dfc8e8f",
   "metadata": {},
   "outputs": [],
   "source": [
    "scaled_dataframes = []"
   ]
  },
  {
   "cell_type": "code",
   "execution_count": 184,
   "id": "eaa0cb16",
   "metadata": {},
   "outputs": [],
   "source": [
    "scalers = [\n",
    "    ('MinMaxScaler', MinMaxScaler()),\n",
    "    ('MaxAbsScaler', MaxAbsScaler()),\n",
    "    ('StandardScaler', StandardScaler()),\n",
    "    ('RobustScaler', RobustScaler()),\n",
    "]"
   ]
  },
  {
   "cell_type": "code",
   "execution_count": 19,
   "id": "c642900d",
   "metadata": {},
   "outputs": [
    {
     "data": {
      "text/plain": [
       "77"
      ]
     },
     "execution_count": 19,
     "metadata": {},
     "output_type": "execute_result"
    }
   ],
   "source": [
    "len(df)"
   ]
  },
  {
   "cell_type": "code",
   "execution_count": 20,
   "id": "f445e5f5",
   "metadata": {},
   "outputs": [],
   "source": [
    "df_cleaned = df.copy(deep=True)\n",
    "df_cleaned = df_cleaned[ df_cleaned['carbo'] >= 0.0 ]\n",
    "df_cleaned = df_cleaned[ df_cleaned['sugars'] >= 0.0 ]\n",
    "df_cleaned = df_cleaned[ df_cleaned['potass'] >= 0.0 ]"
   ]
  },
  {
   "cell_type": "code",
   "execution_count": 21,
   "id": "dddeb06d",
   "metadata": {},
   "outputs": [
    {
     "data": {
      "text/plain": [
       "74"
      ]
     },
     "execution_count": 21,
     "metadata": {},
     "output_type": "execute_result"
    }
   ],
   "source": [
    "len(df_cleaned)"
   ]
  },
  {
   "cell_type": "code",
   "execution_count": 36,
   "id": "aae15675",
   "metadata": {},
   "outputs": [
    {
     "data": {
      "text/plain": [
       "Index(['name', 'mfr', 'type', 'calories', 'protein', 'fat', 'sodium', 'fiber',\n",
       "       'carbo', 'sugars', 'potass', 'vitamins', 'shelf', 'weight', 'cups',\n",
       "       'rating'],\n",
       "      dtype='object')"
      ]
     },
     "execution_count": 36,
     "metadata": {},
     "output_type": "execute_result"
    }
   ],
   "source": [
    "df_cleaned.columns\n"
   ]
  },
  {
   "cell_type": "code",
   "execution_count": 104,
   "id": "d4885f28",
   "metadata": {},
   "outputs": [
    {
     "data": {
      "text/plain": [
       "15"
      ]
     },
     "execution_count": 104,
     "metadata": {},
     "output_type": "execute_result"
    }
   ],
   "source": [
    "len(df_clean.columns)"
   ]
  },
  {
   "cell_type": "markdown",
   "id": "f6d4c6b2",
   "metadata": {},
   "source": [
    "# Data Normalization"
   ]
  },
  {
   "cell_type": "code",
   "execution_count": 195,
   "id": "c023c48a",
   "metadata": {},
   "outputs": [],
   "source": [
    "from sklearn.preprocessing import StandardScaler, RobustScaler, MinMaxScaler, MaxAbsScaler"
   ]
  },
  {
   "cell_type": "code",
   "execution_count": 196,
   "id": "9e83cdb2",
   "metadata": {},
   "outputs": [],
   "source": [
    "scalers = [MinMaxScaler(),MaxAbsScaler(),StandardScaler(), RobustScaler()]\n",
    "normalized_dataframes = []"
   ]
  },
  {
   "cell_type": "code",
   "execution_count": 194,
   "id": "50de6fed",
   "metadata": {},
   "outputs": [
    {
     "ename": "AttributeError",
     "evalue": "'tuple' object has no attribute 'fit_transform'",
     "output_type": "error",
     "traceback": [
      "\u001b[0;31m---------------------------------------------------------------------------\u001b[0m",
      "\u001b[0;31mAttributeError\u001b[0m                            Traceback (most recent call last)",
      "Cell \u001b[0;32mIn [194], line 2\u001b[0m\n\u001b[1;32m      1\u001b[0m \u001b[38;5;28;01mfor\u001b[39;00m scaler \u001b[38;5;129;01min\u001b[39;00m scalers:\n\u001b[0;32m----> 2\u001b[0m     nomalized_dataset\u001b[38;5;241m=\u001b[39m\u001b[43mscaler\u001b[49m\u001b[38;5;241;43m.\u001b[39;49m\u001b[43mfit_transform\u001b[49m(df)\n",
      "\u001b[0;31mAttributeError\u001b[0m: 'tuple' object has no attribute 'fit_transform'"
     ]
    }
   ],
   "source": [
    "for scaler in scalers:\n",
    "    nomalized_dataset=scaler.fit_transform(df)"
   ]
  },
  {
   "cell_type": "code",
   "execution_count": 198,
   "id": "6283edd5",
   "metadata": {},
   "outputs": [
    {
     "data": {
      "text/plain": [
       "array(['Nabisco', 'Quaker Oats', 'Kelloggs', 'General Mills',\n",
       "       'Ralston Purina ', 'Post', 'American Home Food Products;'],\n",
       "      dtype=object)"
      ]
     },
     "execution_count": 198,
     "metadata": {},
     "output_type": "execute_result"
    }
   ],
   "source": [
    "df_clean['mfr'].unique()"
   ]
  },
  {
   "cell_type": "code",
   "execution_count": 199,
   "id": "89d357c5",
   "metadata": {},
   "outputs": [],
   "source": [
    "df_clean['mfr']=pd.factorize(df_clean['mfr'])[0]"
   ]
  },
  {
   "cell_type": "code",
   "execution_count": 200,
   "id": "b970c52b",
   "metadata": {},
   "outputs": [
    {
     "data": {
      "text/plain": [
       "array([ 0,  1,  2,  3,  4,  5,  6,  7,  8,  9, 10, 11, 12, 13, 14, 15, 16,\n",
       "       17, 18, 19, 20, 21, 22, 23, 24, 25, 26, 27, 28, 29, 30, 31, 32, 33,\n",
       "       34, 35, 36, 37, 38, 39, 40, 41, 42, 43, 44, 45, 46, 47, 48, 49, 50,\n",
       "       51, 52, 53, 54, 55, 56, 57, 58, 59, 60, 61, 62, 63, 64, 65, 66, 67,\n",
       "       68, 69, 70, 71, 72, 73])"
      ]
     },
     "execution_count": 200,
     "metadata": {},
     "output_type": "execute_result"
    }
   ],
   "source": [
    "pd.factorize(df_clean['name'])[0]"
   ]
  },
  {
   "cell_type": "code",
   "execution_count": 201,
   "id": "fbee05a7",
   "metadata": {},
   "outputs": [],
   "source": [
    "from sklearn.preprocessing import MinMaxScaler, MaxAbsScaler, StandardScaler, RobustScaler"
   ]
  },
  {
   "cell_type": "code",
   "execution_count": 202,
   "id": "5750e307",
   "metadata": {},
   "outputs": [],
   "source": [
    "scaled_dataframes=[]"
   ]
  },
  {
   "cell_type": "code",
   "execution_count": 307,
   "id": "8046433e",
   "metadata": {},
   "outputs": [],
   "source": [
    "scalers  = [\n",
    "  ['MinMaxScaler', MinMaxScaler()],\n",
    "  ['MaxAbsScaler', MaxAbsScaler()],\n",
    "  ['StandardScaler', StandardScaler()],\n",
    "  ['RobustScaler', RobustScaler()]\n",
    "]"
   ]
  },
  {
   "cell_type": "code",
   "execution_count": 308,
   "id": "35867fd5",
   "metadata": {},
   "outputs": [
    {
     "data": {
      "text/plain": [
       "[['MinMaxScaler', MinMaxScaler()],\n",
       " ['MaxAbsScaler', MaxAbsScaler()],\n",
       " ['StandardScaler', StandardScaler()],\n",
       " ['RobustScaler', RobustScaler()]]"
      ]
     },
     "execution_count": 308,
     "metadata": {},
     "output_type": "execute_result"
    }
   ],
   "source": [
    "scalers"
   ]
  },
  {
   "cell_type": "code",
   "execution_count": 310,
   "id": "fe109afc",
   "metadata": {},
   "outputs": [],
   "source": [
    "for scaler_details in scalers:\n",
    "    scaler_name, scaler_model = scaler_details\n",
    "    scaled_dataframes.append((\n",
    "        scaler_name,\n",
    "        scaler_model.fit_transform(df_clean[[col for col in df_clean.columns if col != 'name']]),\n",
    "    ))\n"
   ]
  },
  {
   "cell_type": "code",
   "execution_count": 311,
   "id": "01014d53",
   "metadata": {},
   "outputs": [
    {
     "data": {
      "text/plain": [
       "[('MinMaxScaler',\n",
       "  array([[0.        , 0.18181818, 0.6       , ..., 0.5       , 0.064     ,\n",
       "          0.66559279],\n",
       "         [0.16666667, 0.63636364, 0.4       , ..., 0.5       , 0.6       ,\n",
       "          0.21068456],\n",
       "         [0.33333333, 0.18181818, 0.6       , ..., 0.5       , 0.064     ,\n",
       "          0.54694061],\n",
       "         ...,\n",
       "         [0.66666667, 0.45454545, 0.4       , ..., 0.5       , 0.336     ,\n",
       "          0.41955762],\n",
       "         [0.5       , 0.45454545, 0.4       , ..., 0.5       , 0.6       ,\n",
       "          0.44341036],\n",
       "         [0.5       , 0.54545455, 0.2       , ..., 0.5       , 0.4       ,\n",
       "          0.2398125 ]])),\n",
       " ('MaxAbsScaler',\n",
       "  array([[0.        , 0.4375    , 0.66666667, ..., 0.66666667, 0.22      ,\n",
       "          0.72998279],\n",
       "         [0.16666667, 0.75      , 0.5       , ..., 0.66666667, 0.66666667,\n",
       "          0.362667  ],\n",
       "         [0.33333333, 0.4375    , 0.66666667, ..., 0.66666667, 0.22      ,\n",
       "          0.63417705],\n",
       "         ...,\n",
       "         [0.66666667, 0.625     , 0.5       , ..., 0.66666667, 0.44666667,\n",
       "          0.53132161],\n",
       "         [0.5       , 0.625     , 0.5       , ..., 0.66666667, 0.66666667,\n",
       "          0.55058152],\n",
       "         [0.5       , 0.6875    , 0.33333333, ..., 0.66666667, 0.5       ,\n",
       "          0.38618636]])),\n",
       " ('StandardScaler',\n",
       "  array([[-1.94379387, -1.87865227,  1.3911796 , ..., -0.20220332,\n",
       "          -2.09989497,  1.86756537],\n",
       "         [-1.21732546,  0.65821393,  0.45529514, ..., -0.20220332,\n",
       "           0.76191901, -0.60179124],\n",
       "         [-0.49085704, -1.87865227,  1.3911796 , ..., -0.20220332,\n",
       "          -2.09989497,  1.22349144],\n",
       "         ...,\n",
       "         [ 0.9620798 , -0.35653255,  0.45529514, ..., -0.20220332,\n",
       "          -0.64763116,  0.5320244 ],\n",
       "         [ 0.23561138, -0.35653255,  0.45529514, ..., -0.20220332,\n",
       "           0.76191901,  0.66150313],\n",
       "         [ 0.23561138,  0.15084069, -0.48058932, ..., -0.20220332,\n",
       "          -0.30592203, -0.44367744]])),\n",
       " ('RobustScaler',\n",
       "  array([[-3.        , -4.        ,  1.5       , ...,  0.        ,\n",
       "          -1.27272727,  1.55770365],\n",
       "         [-2.        ,  1.        ,  0.5       , ...,  0.        ,\n",
       "           0.75757576, -0.34692427],\n",
       "         [-1.        , -4.        ,  1.5       , ...,  0.        ,\n",
       "          -1.27272727,  1.06092599],\n",
       "         ...,\n",
       "         [ 1.        , -1.        ,  0.5       , ...,  0.        ,\n",
       "          -0.24242424,  0.52759378],\n",
       "         [ 0.        , -1.        ,  0.5       , ...,  0.        ,\n",
       "           0.75757576,  0.62746141],\n",
       "         [ 0.        ,  0.        , -0.5       , ...,  0.        ,\n",
       "           0.        , -0.22497025]])),\n",
       " (array([[-3.        , -4.        ,  1.5       , ...,  0.        ,\n",
       "          -1.27272727,  1.55770365],\n",
       "         [-2.        ,  1.        ,  0.5       , ...,  0.        ,\n",
       "           0.75757576, -0.34692427],\n",
       "         [-1.        , -4.        ,  1.5       , ...,  0.        ,\n",
       "          -1.27272727,  1.06092599],\n",
       "         ...,\n",
       "         [ 1.        , -1.        ,  0.5       , ...,  0.        ,\n",
       "          -0.24242424,  0.52759378],\n",
       "         [ 0.        , -1.        ,  0.5       , ...,  0.        ,\n",
       "           0.75757576,  0.62746141],\n",
       "         [ 0.        ,  0.        , -0.5       , ...,  0.        ,\n",
       "           0.        , -0.22497025]]),),\n",
       " (array([[-3.        , -4.        ,  1.5       , ...,  0.        ,\n",
       "          -1.27272727,  1.55770365],\n",
       "         [-2.        ,  1.        ,  0.5       , ...,  0.        ,\n",
       "           0.75757576, -0.34692427],\n",
       "         [-1.        , -4.        ,  1.5       , ...,  0.        ,\n",
       "          -1.27272727,  1.06092599],\n",
       "         ...,\n",
       "         [ 1.        , -1.        ,  0.5       , ...,  0.        ,\n",
       "          -0.24242424,  0.52759378],\n",
       "         [ 0.        , -1.        ,  0.5       , ...,  0.        ,\n",
       "           0.75757576,  0.62746141],\n",
       "         [ 0.        ,  0.        , -0.5       , ...,  0.        ,\n",
       "           0.        , -0.22497025]]),),\n",
       " (array([[-3.        , -4.        ,  1.5       , ...,  0.        ,\n",
       "          -1.27272727,  1.55770365],\n",
       "         [-2.        ,  1.        ,  0.5       , ...,  0.        ,\n",
       "           0.75757576, -0.34692427],\n",
       "         [-1.        , -4.        ,  1.5       , ...,  0.        ,\n",
       "          -1.27272727,  1.06092599],\n",
       "         ...,\n",
       "         [ 1.        , -1.        ,  0.5       , ...,  0.        ,\n",
       "          -0.24242424,  0.52759378],\n",
       "         [ 0.        , -1.        ,  0.5       , ...,  0.        ,\n",
       "           0.75757576,  0.62746141],\n",
       "         [ 0.        ,  0.        , -0.5       , ...,  0.        ,\n",
       "           0.        , -0.22497025]]),),\n",
       " (array([[-3.        , -4.        ,  1.5       , ...,  0.        ,\n",
       "          -1.27272727,  1.55770365],\n",
       "         [-2.        ,  1.        ,  0.5       , ...,  0.        ,\n",
       "           0.75757576, -0.34692427],\n",
       "         [-1.        , -4.        ,  1.5       , ...,  0.        ,\n",
       "          -1.27272727,  1.06092599],\n",
       "         ...,\n",
       "         [ 1.        , -1.        ,  0.5       , ...,  0.        ,\n",
       "          -0.24242424,  0.52759378],\n",
       "         [ 0.        , -1.        ,  0.5       , ...,  0.        ,\n",
       "           0.75757576,  0.62746141],\n",
       "         [ 0.        ,  0.        , -0.5       , ...,  0.        ,\n",
       "           0.        , -0.22497025]]),),\n",
       " (array([[-3.        , -4.        ,  1.5       , ...,  0.        ,\n",
       "          -1.27272727,  1.55770365],\n",
       "         [-2.        ,  1.        ,  0.5       , ...,  0.        ,\n",
       "           0.75757576, -0.34692427],\n",
       "         [-1.        , -4.        ,  1.5       , ...,  0.        ,\n",
       "          -1.27272727,  1.06092599],\n",
       "         ...,\n",
       "         [ 1.        , -1.        ,  0.5       , ...,  0.        ,\n",
       "          -0.24242424,  0.52759378],\n",
       "         [ 0.        , -1.        ,  0.5       , ...,  0.        ,\n",
       "           0.75757576,  0.62746141],\n",
       "         [ 0.        ,  0.        , -0.5       , ...,  0.        ,\n",
       "           0.        , -0.22497025]]),),\n",
       " (array([[-3.        , -4.        ,  1.5       , ...,  0.        ,\n",
       "          -1.27272727,  1.55770365],\n",
       "         [-2.        ,  1.        ,  0.5       , ...,  0.        ,\n",
       "           0.75757576, -0.34692427],\n",
       "         [-1.        , -4.        ,  1.5       , ...,  0.        ,\n",
       "          -1.27272727,  1.06092599],\n",
       "         ...,\n",
       "         [ 1.        , -1.        ,  0.5       , ...,  0.        ,\n",
       "          -0.24242424,  0.52759378],\n",
       "         [ 0.        , -1.        ,  0.5       , ...,  0.        ,\n",
       "           0.75757576,  0.62746141],\n",
       "         [ 0.        ,  0.        , -0.5       , ...,  0.        ,\n",
       "           0.        , -0.22497025]]),),\n",
       " (array([[-3.        , -4.        ,  1.5       , ...,  0.        ,\n",
       "          -1.27272727,  1.55770365],\n",
       "         [-2.        ,  1.        ,  0.5       , ...,  0.        ,\n",
       "           0.75757576, -0.34692427],\n",
       "         [-1.        , -4.        ,  1.5       , ...,  0.        ,\n",
       "          -1.27272727,  1.06092599],\n",
       "         ...,\n",
       "         [ 1.        , -1.        ,  0.5       , ...,  0.        ,\n",
       "          -0.24242424,  0.52759378],\n",
       "         [ 0.        , -1.        ,  0.5       , ...,  0.        ,\n",
       "           0.75757576,  0.62746141],\n",
       "         [ 0.        ,  0.        , -0.5       , ...,  0.        ,\n",
       "           0.        , -0.22497025]]),),\n",
       " (array([[-3.        , -4.        ,  1.5       , ...,  0.        ,\n",
       "          -1.27272727,  1.55770365],\n",
       "         [-2.        ,  1.        ,  0.5       , ...,  0.        ,\n",
       "           0.75757576, -0.34692427],\n",
       "         [-1.        , -4.        ,  1.5       , ...,  0.        ,\n",
       "          -1.27272727,  1.06092599],\n",
       "         ...,\n",
       "         [ 1.        , -1.        ,  0.5       , ...,  0.        ,\n",
       "          -0.24242424,  0.52759378],\n",
       "         [ 0.        , -1.        ,  0.5       , ...,  0.        ,\n",
       "           0.75757576,  0.62746141],\n",
       "         [ 0.        ,  0.        , -0.5       , ...,  0.        ,\n",
       "           0.        , -0.22497025]]),),\n",
       " ('MinMaxScaler',\n",
       "  array([[0.        , 0.18181818, 0.6       , ..., 0.5       , 0.064     ,\n",
       "          0.66559279],\n",
       "         [0.16666667, 0.63636364, 0.4       , ..., 0.5       , 0.6       ,\n",
       "          0.21068456],\n",
       "         [0.33333333, 0.18181818, 0.6       , ..., 0.5       , 0.064     ,\n",
       "          0.54694061],\n",
       "         ...,\n",
       "         [0.66666667, 0.45454545, 0.4       , ..., 0.5       , 0.336     ,\n",
       "          0.41955762],\n",
       "         [0.5       , 0.45454545, 0.4       , ..., 0.5       , 0.6       ,\n",
       "          0.44341036],\n",
       "         [0.5       , 0.54545455, 0.2       , ..., 0.5       , 0.4       ,\n",
       "          0.2398125 ]])),\n",
       " ('MaxAbsScaler',\n",
       "  array([[0.        , 0.4375    , 0.66666667, ..., 0.66666667, 0.22      ,\n",
       "          0.72998279],\n",
       "         [0.16666667, 0.75      , 0.5       , ..., 0.66666667, 0.66666667,\n",
       "          0.362667  ],\n",
       "         [0.33333333, 0.4375    , 0.66666667, ..., 0.66666667, 0.22      ,\n",
       "          0.63417705],\n",
       "         ...,\n",
       "         [0.66666667, 0.625     , 0.5       , ..., 0.66666667, 0.44666667,\n",
       "          0.53132161],\n",
       "         [0.5       , 0.625     , 0.5       , ..., 0.66666667, 0.66666667,\n",
       "          0.55058152],\n",
       "         [0.5       , 0.6875    , 0.33333333, ..., 0.66666667, 0.5       ,\n",
       "          0.38618636]])),\n",
       " ('StandardScaler',\n",
       "  array([[-1.94379387, -1.87865227,  1.3911796 , ..., -0.20220332,\n",
       "          -2.09989497,  1.86756537],\n",
       "         [-1.21732546,  0.65821393,  0.45529514, ..., -0.20220332,\n",
       "           0.76191901, -0.60179124],\n",
       "         [-0.49085704, -1.87865227,  1.3911796 , ..., -0.20220332,\n",
       "          -2.09989497,  1.22349144],\n",
       "         ...,\n",
       "         [ 0.9620798 , -0.35653255,  0.45529514, ..., -0.20220332,\n",
       "          -0.64763116,  0.5320244 ],\n",
       "         [ 0.23561138, -0.35653255,  0.45529514, ..., -0.20220332,\n",
       "           0.76191901,  0.66150313],\n",
       "         [ 0.23561138,  0.15084069, -0.48058932, ..., -0.20220332,\n",
       "          -0.30592203, -0.44367744]])),\n",
       " ('RobustScaler',\n",
       "  array([[-3.        , -4.        ,  1.5       , ...,  0.        ,\n",
       "          -1.27272727,  1.55770365],\n",
       "         [-2.        ,  1.        ,  0.5       , ...,  0.        ,\n",
       "           0.75757576, -0.34692427],\n",
       "         [-1.        , -4.        ,  1.5       , ...,  0.        ,\n",
       "          -1.27272727,  1.06092599],\n",
       "         ...,\n",
       "         [ 1.        , -1.        ,  0.5       , ...,  0.        ,\n",
       "          -0.24242424,  0.52759378],\n",
       "         [ 0.        , -1.        ,  0.5       , ...,  0.        ,\n",
       "           0.75757576,  0.62746141],\n",
       "         [ 0.        ,  0.        , -0.5       , ...,  0.        ,\n",
       "           0.        , -0.22497025]])),\n",
       " ('MinMaxScaler',\n",
       "  array([[0.        , 0.18181818, 0.6       , ..., 0.5       , 0.064     ,\n",
       "          0.66559279],\n",
       "         [0.16666667, 0.63636364, 0.4       , ..., 0.5       , 0.6       ,\n",
       "          0.21068456],\n",
       "         [0.33333333, 0.18181818, 0.6       , ..., 0.5       , 0.064     ,\n",
       "          0.54694061],\n",
       "         ...,\n",
       "         [0.66666667, 0.45454545, 0.4       , ..., 0.5       , 0.336     ,\n",
       "          0.41955762],\n",
       "         [0.5       , 0.45454545, 0.4       , ..., 0.5       , 0.6       ,\n",
       "          0.44341036],\n",
       "         [0.5       , 0.54545455, 0.2       , ..., 0.5       , 0.4       ,\n",
       "          0.2398125 ]])),\n",
       " ('MaxAbsScaler',\n",
       "  array([[0.        , 0.4375    , 0.66666667, ..., 0.66666667, 0.22      ,\n",
       "          0.72998279],\n",
       "         [0.16666667, 0.75      , 0.5       , ..., 0.66666667, 0.66666667,\n",
       "          0.362667  ],\n",
       "         [0.33333333, 0.4375    , 0.66666667, ..., 0.66666667, 0.22      ,\n",
       "          0.63417705],\n",
       "         ...,\n",
       "         [0.66666667, 0.625     , 0.5       , ..., 0.66666667, 0.44666667,\n",
       "          0.53132161],\n",
       "         [0.5       , 0.625     , 0.5       , ..., 0.66666667, 0.66666667,\n",
       "          0.55058152],\n",
       "         [0.5       , 0.6875    , 0.33333333, ..., 0.66666667, 0.5       ,\n",
       "          0.38618636]])),\n",
       " ('StandardScaler',\n",
       "  array([[-1.94379387, -1.87865227,  1.3911796 , ..., -0.20220332,\n",
       "          -2.09989497,  1.86756537],\n",
       "         [-1.21732546,  0.65821393,  0.45529514, ..., -0.20220332,\n",
       "           0.76191901, -0.60179124],\n",
       "         [-0.49085704, -1.87865227,  1.3911796 , ..., -0.20220332,\n",
       "          -2.09989497,  1.22349144],\n",
       "         ...,\n",
       "         [ 0.9620798 , -0.35653255,  0.45529514, ..., -0.20220332,\n",
       "          -0.64763116,  0.5320244 ],\n",
       "         [ 0.23561138, -0.35653255,  0.45529514, ..., -0.20220332,\n",
       "           0.76191901,  0.66150313],\n",
       "         [ 0.23561138,  0.15084069, -0.48058932, ..., -0.20220332,\n",
       "          -0.30592203, -0.44367744]])),\n",
       " ('RobustScaler',\n",
       "  array([[-3.        , -4.        ,  1.5       , ...,  0.        ,\n",
       "          -1.27272727,  1.55770365],\n",
       "         [-2.        ,  1.        ,  0.5       , ...,  0.        ,\n",
       "           0.75757576, -0.34692427],\n",
       "         [-1.        , -4.        ,  1.5       , ...,  0.        ,\n",
       "          -1.27272727,  1.06092599],\n",
       "         ...,\n",
       "         [ 1.        , -1.        ,  0.5       , ...,  0.        ,\n",
       "          -0.24242424,  0.52759378],\n",
       "         [ 0.        , -1.        ,  0.5       , ...,  0.        ,\n",
       "           0.75757576,  0.62746141],\n",
       "         [ 0.        ,  0.        , -0.5       , ...,  0.        ,\n",
       "           0.        , -0.22497025]]))]"
      ]
     },
     "execution_count": 311,
     "metadata": {},
     "output_type": "execute_result"
    }
   ],
   "source": [
    "scaled_dataframes"
   ]
  },
  {
   "cell_type": "code",
   "execution_count": 327,
   "id": "28844169",
   "metadata": {},
   "outputs": [
    {
     "data": {
      "text/plain": [
       "('MinMaxScaler',\n",
       " array([[0.        , 0.18181818, 0.6       , ..., 0.5       , 0.064     ,\n",
       "         0.66559279],\n",
       "        [0.16666667, 0.63636364, 0.4       , ..., 0.5       , 0.6       ,\n",
       "         0.21068456],\n",
       "        [0.33333333, 0.18181818, 0.6       , ..., 0.5       , 0.064     ,\n",
       "         0.54694061],\n",
       "        ...,\n",
       "        [0.66666667, 0.45454545, 0.4       , ..., 0.5       , 0.336     ,\n",
       "         0.41955762],\n",
       "        [0.5       , 0.45454545, 0.4       , ..., 0.5       , 0.6       ,\n",
       "         0.44341036],\n",
       "        [0.5       , 0.54545455, 0.2       , ..., 0.5       , 0.4       ,\n",
       "         0.2398125 ]]))"
      ]
     },
     "metadata": {},
     "output_type": "display_data"
    },
    {
     "data": {
      "text/plain": [
       "('MaxAbsScaler',\n",
       " array([[0.        , 0.4375    , 0.66666667, ..., 0.66666667, 0.22      ,\n",
       "         0.72998279],\n",
       "        [0.16666667, 0.75      , 0.5       , ..., 0.66666667, 0.66666667,\n",
       "         0.362667  ],\n",
       "        [0.33333333, 0.4375    , 0.66666667, ..., 0.66666667, 0.22      ,\n",
       "         0.63417705],\n",
       "        ...,\n",
       "        [0.66666667, 0.625     , 0.5       , ..., 0.66666667, 0.44666667,\n",
       "         0.53132161],\n",
       "        [0.5       , 0.625     , 0.5       , ..., 0.66666667, 0.66666667,\n",
       "         0.55058152],\n",
       "        [0.5       , 0.6875    , 0.33333333, ..., 0.66666667, 0.5       ,\n",
       "         0.38618636]]))"
      ]
     },
     "metadata": {},
     "output_type": "display_data"
    },
    {
     "data": {
      "text/plain": [
       "('StandardScaler',\n",
       " array([[-1.94379387, -1.87865227,  1.3911796 , ..., -0.20220332,\n",
       "         -2.09989497,  1.86756537],\n",
       "        [-1.21732546,  0.65821393,  0.45529514, ..., -0.20220332,\n",
       "          0.76191901, -0.60179124],\n",
       "        [-0.49085704, -1.87865227,  1.3911796 , ..., -0.20220332,\n",
       "         -2.09989497,  1.22349144],\n",
       "        ...,\n",
       "        [ 0.9620798 , -0.35653255,  0.45529514, ..., -0.20220332,\n",
       "         -0.64763116,  0.5320244 ],\n",
       "        [ 0.23561138, -0.35653255,  0.45529514, ..., -0.20220332,\n",
       "          0.76191901,  0.66150313],\n",
       "        [ 0.23561138,  0.15084069, -0.48058932, ..., -0.20220332,\n",
       "         -0.30592203, -0.44367744]]))"
      ]
     },
     "metadata": {},
     "output_type": "display_data"
    },
    {
     "data": {
      "text/plain": [
       "('RobustScaler',\n",
       " array([[-3.        , -4.        ,  1.5       , ...,  0.        ,\n",
       "         -1.27272727,  1.55770365],\n",
       "        [-2.        ,  1.        ,  0.5       , ...,  0.        ,\n",
       "          0.75757576, -0.34692427],\n",
       "        [-1.        , -4.        ,  1.5       , ...,  0.        ,\n",
       "         -1.27272727,  1.06092599],\n",
       "        ...,\n",
       "        [ 1.        , -1.        ,  0.5       , ...,  0.        ,\n",
       "         -0.24242424,  0.52759378],\n",
       "        [ 0.        , -1.        ,  0.5       , ...,  0.        ,\n",
       "          0.75757576,  0.62746141],\n",
       "        [ 0.        ,  0.        , -0.5       , ...,  0.        ,\n",
       "          0.        , -0.22497025]]))"
      ]
     },
     "metadata": {},
     "output_type": "display_data"
    },
    {
     "data": {
      "text/plain": [
       "(array([[-3.        , -4.        ,  1.5       , ...,  0.        ,\n",
       "         -1.27272727,  1.55770365],\n",
       "        [-2.        ,  1.        ,  0.5       , ...,  0.        ,\n",
       "          0.75757576, -0.34692427],\n",
       "        [-1.        , -4.        ,  1.5       , ...,  0.        ,\n",
       "         -1.27272727,  1.06092599],\n",
       "        ...,\n",
       "        [ 1.        , -1.        ,  0.5       , ...,  0.        ,\n",
       "         -0.24242424,  0.52759378],\n",
       "        [ 0.        , -1.        ,  0.5       , ...,  0.        ,\n",
       "          0.75757576,  0.62746141],\n",
       "        [ 0.        ,  0.        , -0.5       , ...,  0.        ,\n",
       "          0.        , -0.22497025]]),)"
      ]
     },
     "metadata": {},
     "output_type": "display_data"
    },
    {
     "data": {
      "text/plain": [
       "(array([[-3.        , -4.        ,  1.5       , ...,  0.        ,\n",
       "         -1.27272727,  1.55770365],\n",
       "        [-2.        ,  1.        ,  0.5       , ...,  0.        ,\n",
       "          0.75757576, -0.34692427],\n",
       "        [-1.        , -4.        ,  1.5       , ...,  0.        ,\n",
       "         -1.27272727,  1.06092599],\n",
       "        ...,\n",
       "        [ 1.        , -1.        ,  0.5       , ...,  0.        ,\n",
       "         -0.24242424,  0.52759378],\n",
       "        [ 0.        , -1.        ,  0.5       , ...,  0.        ,\n",
       "          0.75757576,  0.62746141],\n",
       "        [ 0.        ,  0.        , -0.5       , ...,  0.        ,\n",
       "          0.        , -0.22497025]]),)"
      ]
     },
     "metadata": {},
     "output_type": "display_data"
    },
    {
     "data": {
      "text/plain": [
       "(array([[-3.        , -4.        ,  1.5       , ...,  0.        ,\n",
       "         -1.27272727,  1.55770365],\n",
       "        [-2.        ,  1.        ,  0.5       , ...,  0.        ,\n",
       "          0.75757576, -0.34692427],\n",
       "        [-1.        , -4.        ,  1.5       , ...,  0.        ,\n",
       "         -1.27272727,  1.06092599],\n",
       "        ...,\n",
       "        [ 1.        , -1.        ,  0.5       , ...,  0.        ,\n",
       "         -0.24242424,  0.52759378],\n",
       "        [ 0.        , -1.        ,  0.5       , ...,  0.        ,\n",
       "          0.75757576,  0.62746141],\n",
       "        [ 0.        ,  0.        , -0.5       , ...,  0.        ,\n",
       "          0.        , -0.22497025]]),)"
      ]
     },
     "metadata": {},
     "output_type": "display_data"
    },
    {
     "data": {
      "text/plain": [
       "(array([[-3.        , -4.        ,  1.5       , ...,  0.        ,\n",
       "         -1.27272727,  1.55770365],\n",
       "        [-2.        ,  1.        ,  0.5       , ...,  0.        ,\n",
       "          0.75757576, -0.34692427],\n",
       "        [-1.        , -4.        ,  1.5       , ...,  0.        ,\n",
       "         -1.27272727,  1.06092599],\n",
       "        ...,\n",
       "        [ 1.        , -1.        ,  0.5       , ...,  0.        ,\n",
       "         -0.24242424,  0.52759378],\n",
       "        [ 0.        , -1.        ,  0.5       , ...,  0.        ,\n",
       "          0.75757576,  0.62746141],\n",
       "        [ 0.        ,  0.        , -0.5       , ...,  0.        ,\n",
       "          0.        , -0.22497025]]),)"
      ]
     },
     "metadata": {},
     "output_type": "display_data"
    },
    {
     "data": {
      "text/plain": [
       "(array([[-3.        , -4.        ,  1.5       , ...,  0.        ,\n",
       "         -1.27272727,  1.55770365],\n",
       "        [-2.        ,  1.        ,  0.5       , ...,  0.        ,\n",
       "          0.75757576, -0.34692427],\n",
       "        [-1.        , -4.        ,  1.5       , ...,  0.        ,\n",
       "         -1.27272727,  1.06092599],\n",
       "        ...,\n",
       "        [ 1.        , -1.        ,  0.5       , ...,  0.        ,\n",
       "         -0.24242424,  0.52759378],\n",
       "        [ 0.        , -1.        ,  0.5       , ...,  0.        ,\n",
       "          0.75757576,  0.62746141],\n",
       "        [ 0.        ,  0.        , -0.5       , ...,  0.        ,\n",
       "          0.        , -0.22497025]]),)"
      ]
     },
     "metadata": {},
     "output_type": "display_data"
    },
    {
     "data": {
      "text/plain": [
       "(array([[-3.        , -4.        ,  1.5       , ...,  0.        ,\n",
       "         -1.27272727,  1.55770365],\n",
       "        [-2.        ,  1.        ,  0.5       , ...,  0.        ,\n",
       "          0.75757576, -0.34692427],\n",
       "        [-1.        , -4.        ,  1.5       , ...,  0.        ,\n",
       "         -1.27272727,  1.06092599],\n",
       "        ...,\n",
       "        [ 1.        , -1.        ,  0.5       , ...,  0.        ,\n",
       "         -0.24242424,  0.52759378],\n",
       "        [ 0.        , -1.        ,  0.5       , ...,  0.        ,\n",
       "          0.75757576,  0.62746141],\n",
       "        [ 0.        ,  0.        , -0.5       , ...,  0.        ,\n",
       "          0.        , -0.22497025]]),)"
      ]
     },
     "metadata": {},
     "output_type": "display_data"
    },
    {
     "data": {
      "text/plain": [
       "(array([[-3.        , -4.        ,  1.5       , ...,  0.        ,\n",
       "         -1.27272727,  1.55770365],\n",
       "        [-2.        ,  1.        ,  0.5       , ...,  0.        ,\n",
       "          0.75757576, -0.34692427],\n",
       "        [-1.        , -4.        ,  1.5       , ...,  0.        ,\n",
       "         -1.27272727,  1.06092599],\n",
       "        ...,\n",
       "        [ 1.        , -1.        ,  0.5       , ...,  0.        ,\n",
       "         -0.24242424,  0.52759378],\n",
       "        [ 0.        , -1.        ,  0.5       , ...,  0.        ,\n",
       "          0.75757576,  0.62746141],\n",
       "        [ 0.        ,  0.        , -0.5       , ...,  0.        ,\n",
       "          0.        , -0.22497025]]),)"
      ]
     },
     "metadata": {},
     "output_type": "display_data"
    },
    {
     "data": {
      "text/plain": [
       "(array([[-3.        , -4.        ,  1.5       , ...,  0.        ,\n",
       "         -1.27272727,  1.55770365],\n",
       "        [-2.        ,  1.        ,  0.5       , ...,  0.        ,\n",
       "          0.75757576, -0.34692427],\n",
       "        [-1.        , -4.        ,  1.5       , ...,  0.        ,\n",
       "         -1.27272727,  1.06092599],\n",
       "        ...,\n",
       "        [ 1.        , -1.        ,  0.5       , ...,  0.        ,\n",
       "         -0.24242424,  0.52759378],\n",
       "        [ 0.        , -1.        ,  0.5       , ...,  0.        ,\n",
       "          0.75757576,  0.62746141],\n",
       "        [ 0.        ,  0.        , -0.5       , ...,  0.        ,\n",
       "          0.        , -0.22497025]]),)"
      ]
     },
     "metadata": {},
     "output_type": "display_data"
    },
    {
     "data": {
      "text/plain": [
       "('MinMaxScaler',\n",
       " array([[0.        , 0.18181818, 0.6       , ..., 0.5       , 0.064     ,\n",
       "         0.66559279],\n",
       "        [0.16666667, 0.63636364, 0.4       , ..., 0.5       , 0.6       ,\n",
       "         0.21068456],\n",
       "        [0.33333333, 0.18181818, 0.6       , ..., 0.5       , 0.064     ,\n",
       "         0.54694061],\n",
       "        ...,\n",
       "        [0.66666667, 0.45454545, 0.4       , ..., 0.5       , 0.336     ,\n",
       "         0.41955762],\n",
       "        [0.5       , 0.45454545, 0.4       , ..., 0.5       , 0.6       ,\n",
       "         0.44341036],\n",
       "        [0.5       , 0.54545455, 0.2       , ..., 0.5       , 0.4       ,\n",
       "         0.2398125 ]]))"
      ]
     },
     "metadata": {},
     "output_type": "display_data"
    },
    {
     "data": {
      "text/plain": [
       "('MaxAbsScaler',\n",
       " array([[0.        , 0.4375    , 0.66666667, ..., 0.66666667, 0.22      ,\n",
       "         0.72998279],\n",
       "        [0.16666667, 0.75      , 0.5       , ..., 0.66666667, 0.66666667,\n",
       "         0.362667  ],\n",
       "        [0.33333333, 0.4375    , 0.66666667, ..., 0.66666667, 0.22      ,\n",
       "         0.63417705],\n",
       "        ...,\n",
       "        [0.66666667, 0.625     , 0.5       , ..., 0.66666667, 0.44666667,\n",
       "         0.53132161],\n",
       "        [0.5       , 0.625     , 0.5       , ..., 0.66666667, 0.66666667,\n",
       "         0.55058152],\n",
       "        [0.5       , 0.6875    , 0.33333333, ..., 0.66666667, 0.5       ,\n",
       "         0.38618636]]))"
      ]
     },
     "metadata": {},
     "output_type": "display_data"
    },
    {
     "data": {
      "text/plain": [
       "('StandardScaler',\n",
       " array([[-1.94379387, -1.87865227,  1.3911796 , ..., -0.20220332,\n",
       "         -2.09989497,  1.86756537],\n",
       "        [-1.21732546,  0.65821393,  0.45529514, ..., -0.20220332,\n",
       "          0.76191901, -0.60179124],\n",
       "        [-0.49085704, -1.87865227,  1.3911796 , ..., -0.20220332,\n",
       "         -2.09989497,  1.22349144],\n",
       "        ...,\n",
       "        [ 0.9620798 , -0.35653255,  0.45529514, ..., -0.20220332,\n",
       "         -0.64763116,  0.5320244 ],\n",
       "        [ 0.23561138, -0.35653255,  0.45529514, ..., -0.20220332,\n",
       "          0.76191901,  0.66150313],\n",
       "        [ 0.23561138,  0.15084069, -0.48058932, ..., -0.20220332,\n",
       "         -0.30592203, -0.44367744]]))"
      ]
     },
     "metadata": {},
     "output_type": "display_data"
    },
    {
     "data": {
      "text/plain": [
       "('RobustScaler',\n",
       " array([[-3.        , -4.        ,  1.5       , ...,  0.        ,\n",
       "         -1.27272727,  1.55770365],\n",
       "        [-2.        ,  1.        ,  0.5       , ...,  0.        ,\n",
       "          0.75757576, -0.34692427],\n",
       "        [-1.        , -4.        ,  1.5       , ...,  0.        ,\n",
       "         -1.27272727,  1.06092599],\n",
       "        ...,\n",
       "        [ 1.        , -1.        ,  0.5       , ...,  0.        ,\n",
       "         -0.24242424,  0.52759378],\n",
       "        [ 0.        , -1.        ,  0.5       , ...,  0.        ,\n",
       "          0.75757576,  0.62746141],\n",
       "        [ 0.        ,  0.        , -0.5       , ...,  0.        ,\n",
       "          0.        , -0.22497025]]))"
      ]
     },
     "metadata": {},
     "output_type": "display_data"
    },
    {
     "data": {
      "text/plain": [
       "('MinMaxScaler',\n",
       " array([[0.        , 0.18181818, 0.6       , ..., 0.5       , 0.064     ,\n",
       "         0.66559279],\n",
       "        [0.16666667, 0.63636364, 0.4       , ..., 0.5       , 0.6       ,\n",
       "         0.21068456],\n",
       "        [0.33333333, 0.18181818, 0.6       , ..., 0.5       , 0.064     ,\n",
       "         0.54694061],\n",
       "        ...,\n",
       "        [0.66666667, 0.45454545, 0.4       , ..., 0.5       , 0.336     ,\n",
       "         0.41955762],\n",
       "        [0.5       , 0.45454545, 0.4       , ..., 0.5       , 0.6       ,\n",
       "         0.44341036],\n",
       "        [0.5       , 0.54545455, 0.2       , ..., 0.5       , 0.4       ,\n",
       "         0.2398125 ]]))"
      ]
     },
     "metadata": {},
     "output_type": "display_data"
    },
    {
     "data": {
      "text/plain": [
       "('MaxAbsScaler',\n",
       " array([[0.        , 0.4375    , 0.66666667, ..., 0.66666667, 0.22      ,\n",
       "         0.72998279],\n",
       "        [0.16666667, 0.75      , 0.5       , ..., 0.66666667, 0.66666667,\n",
       "         0.362667  ],\n",
       "        [0.33333333, 0.4375    , 0.66666667, ..., 0.66666667, 0.22      ,\n",
       "         0.63417705],\n",
       "        ...,\n",
       "        [0.66666667, 0.625     , 0.5       , ..., 0.66666667, 0.44666667,\n",
       "         0.53132161],\n",
       "        [0.5       , 0.625     , 0.5       , ..., 0.66666667, 0.66666667,\n",
       "         0.55058152],\n",
       "        [0.5       , 0.6875    , 0.33333333, ..., 0.66666667, 0.5       ,\n",
       "         0.38618636]]))"
      ]
     },
     "metadata": {},
     "output_type": "display_data"
    },
    {
     "data": {
      "text/plain": [
       "('StandardScaler',\n",
       " array([[-1.94379387, -1.87865227,  1.3911796 , ..., -0.20220332,\n",
       "         -2.09989497,  1.86756537],\n",
       "        [-1.21732546,  0.65821393,  0.45529514, ..., -0.20220332,\n",
       "          0.76191901, -0.60179124],\n",
       "        [-0.49085704, -1.87865227,  1.3911796 , ..., -0.20220332,\n",
       "         -2.09989497,  1.22349144],\n",
       "        ...,\n",
       "        [ 0.9620798 , -0.35653255,  0.45529514, ..., -0.20220332,\n",
       "         -0.64763116,  0.5320244 ],\n",
       "        [ 0.23561138, -0.35653255,  0.45529514, ..., -0.20220332,\n",
       "          0.76191901,  0.66150313],\n",
       "        [ 0.23561138,  0.15084069, -0.48058932, ..., -0.20220332,\n",
       "         -0.30592203, -0.44367744]]))"
      ]
     },
     "metadata": {},
     "output_type": "display_data"
    },
    {
     "data": {
      "text/plain": [
       "('RobustScaler',\n",
       " array([[-3.        , -4.        ,  1.5       , ...,  0.        ,\n",
       "         -1.27272727,  1.55770365],\n",
       "        [-2.        ,  1.        ,  0.5       , ...,  0.        ,\n",
       "          0.75757576, -0.34692427],\n",
       "        [-1.        , -4.        ,  1.5       , ...,  0.        ,\n",
       "         -1.27272727,  1.06092599],\n",
       "        ...,\n",
       "        [ 1.        , -1.        ,  0.5       , ...,  0.        ,\n",
       "         -0.24242424,  0.52759378],\n",
       "        [ 0.        , -1.        ,  0.5       , ...,  0.        ,\n",
       "          0.75757576,  0.62746141],\n",
       "        [ 0.        ,  0.        , -0.5       , ...,  0.        ,\n",
       "          0.        , -0.22497025]]))"
      ]
     },
     "metadata": {},
     "output_type": "display_data"
    }
   ],
   "source": [
    "for df in scaled_dataframes:\n",
    "    display(df)"
   ]
  },
  {
   "cell_type": "code",
   "execution_count": 329,
   "id": "724913b3",
   "metadata": {},
   "outputs": [],
   "source": [
    "minmax_scaled_df = scaled_dataframes[0]\n",
    "standard_scaled_df = scaled_dataframes[1]\n",
    "maxabs_scaled_df = scaled_dataframes[2]\n",
    "robust_scaled_df = scaled_dataframes[3]"
   ]
  },
  {
   "cell_type": "code",
   "execution_count": 330,
   "id": "d17bcd45",
   "metadata": {},
   "outputs": [
    {
     "data": {
      "text/plain": [
       "('MinMaxScaler',\n",
       " array([[0.        , 0.18181818, 0.6       , ..., 0.5       , 0.064     ,\n",
       "         0.66559279],\n",
       "        [0.16666667, 0.63636364, 0.4       , ..., 0.5       , 0.6       ,\n",
       "         0.21068456],\n",
       "        [0.33333333, 0.18181818, 0.6       , ..., 0.5       , 0.064     ,\n",
       "         0.54694061],\n",
       "        ...,\n",
       "        [0.66666667, 0.45454545, 0.4       , ..., 0.5       , 0.336     ,\n",
       "         0.41955762],\n",
       "        [0.5       , 0.45454545, 0.4       , ..., 0.5       , 0.6       ,\n",
       "         0.44341036],\n",
       "        [0.5       , 0.54545455, 0.2       , ..., 0.5       , 0.4       ,\n",
       "         0.2398125 ]]))"
      ]
     },
     "execution_count": 330,
     "metadata": {},
     "output_type": "execute_result"
    }
   ],
   "source": [
    "minmax_scaled_df\n"
   ]
  },
  {
   "cell_type": "code",
   "execution_count": 331,
   "id": "2e7c3f30",
   "metadata": {},
   "outputs": [],
   "source": [
    "MinMax=minmax_scaled_df[1]\n",
    "StandardScaler = standard_scaled_df[1]\n",
    "MaxAbsScaler = maxabs_scaled_df[1]\n",
    "RobustScaler = robust_scaled_df[1]"
   ]
  },
  {
   "cell_type": "code",
   "execution_count": 332,
   "id": "468dac04",
   "metadata": {},
   "outputs": [
    {
     "data": {
      "image/png": "[encoded data removed]",
      "text/plain": [
       "<Figure size 640x480 with 1 Axes>"
      ]
     },
     "metadata": {},
     "output_type": "display_data"
    },
    {
     "data": {
      "image/png": "[encoded data removed]",
      "text/plain": [
       "<Figure size 640x480 with 1 Axes>"
      ]
     },
     "metadata": {},
     "output_type": "display_data"
    },
    {
     "data": {
      "image/png": "[encoded data removed]",
      "text/plain": [
       "<Figure size 640x480 with 1 Axes>"
      ]
     },
     "metadata": {},
     "output_type": "display_data"
    },
    {
     "data": {
      "image/png": "[encoded data removed]",
      "text/plain": [
       "<Figure size 640x480 with 1 Axes>"
      ]
     },
     "metadata": {},
     "output_type": "display_data"
    }
   ],
   "source": [
    "ax = sns.boxplot(data=MinMax)\n",
    "\n",
    "ax.set_ylabel('Values')\n",
    "ax.set_title('Box plot of array of the dataframe for minmax scaler')\n",
    "\n",
    "# show the plot\n",
    "plt.show()\n",
    "\n",
    "ax = sns.boxplot(data=StandardScaler)\n",
    "\n",
    "ax.set_ylabel('Values')\n",
    "ax.set_title('Box plot of array of the dataframe for Standard scaler')\n",
    "\n",
    "# show the plot\n",
    "plt.show()\n",
    "\n",
    "ax = sns.boxplot(data=MaxAbsScaler)\n",
    "\n",
    "ax.set_ylabel('Values')\n",
    "ax.set_title('Box plot of array of the dataframe for Max Abs scaler')\n",
    "\n",
    "# show the plot\n",
    "plt.show()\n",
    "\n",
    "ax = sns.boxplot(data=RobustScaler)\n",
    "\n",
    "ax.set_ylabel('Values')\n",
    "ax.set_title('Box plot of array of the dataframe for RobustScaler')\n",
    "\n",
    "# show the plot\n",
    "plt.show()"
   ]
  },
  {
   "cell_type": "code",
   "execution_count": null,
   "id": "28535a02",
   "metadata": {},
   "outputs": [],
   "source": []
  }
 ],
 "metadata": {
  "kernelspec": {
   "display_name": "Python 3 (ipykernel)",
   "language": "python",
   "name": "python3"
  },
  "language_info": {
   "codemirror_mode": {
    "name": "ipython",
    "version": 3
   },
   "file_extension": ".py",
   "mimetype": "text/x-python",
   "name": "python",
   "nbconvert_exporter": "python",
   "pygments_lexer": "ipython3",
   "version": "3.10.9"
  }
 },
 "nbformat": 4,
 "nbformat_minor": 5
}
